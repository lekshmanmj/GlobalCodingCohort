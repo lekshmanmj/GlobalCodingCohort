{
 "cells": [
  {
   "cell_type": "raw",
   "id": "020fcda3-a35c-4c44-afa9-3af1eb6d6754",
   "metadata": {},
   "source": [
    "Problem\n",
    "Find the longest ascending substring from given input string \"s\"\n",
    "constraint:\n",
    "s is any lowercase alphabets\n",
    "\n",
    "IO Samples:\n",
    "\n",
    "Input 1:\n",
    "s = 'bcabcz'\n",
    "Output 1:\n",
    "abcz\n",
    "\n",
    "Input 2:\n",
    "s = bcaabc\n",
    "Output 2:\n",
    "abc"
   ]
  },
  {
   "cell_type": "code",
   "execution_count": 15,
   "id": "f3624532-9b16-4085-9c51-e33860d16f50",
   "metadata": {},
   "outputs": [],
   "source": [
    "# solution\n",
    "import string\n",
    "\n",
    "def is_ascending(temp_substring,letter,alphabets = alphabets):\n",
    "    if temp_substring != '':\n",
    "        if alphabets.index(letter) > alphabets.index(temp_substring[-1]):\n",
    "            return True\n",
    "        else: return False\n",
    "    else: return True\n",
    "\n",
    "def find_longest_ascending_ss(s):\n",
    "    alphabets = string.ascii_lowercase # storing alphabets from library\n",
    "    \n",
    "    longest_ascending_substring = '' # initialising final output varible \n",
    "    temp_substring = '' # initialising this to hold currently finding substring\n",
    "    length = len(s) # find length of input string to use to loop\n",
    "    i = 0 # loop count. also acts as index of input string\n",
    "    while i < length: # loop life condition\n",
    "        letter = s[i] # current letter under diagnosis\n",
    "        if is_ascending(temp_substring,letter): # checks if current letter is ascending to the last letter which is present in temp_substring\n",
    "            temp_substring += letter # appending current letter to temp_substring\n",
    "        else: # if above condition fails, comes here\n",
    "            if len(temp_substring) > len(longest_ascending_substring): # checking if len of temp_ss is greater than len of value present in longest substring\n",
    "                longest_ascending_substring = temp_substring # updating final output var\n",
    "                i -= 1 # to start search of next substring from currently failed letter\n",
    "                temp_substring = '' # resetting this to empty to create next substring\n",
    "        # print(temp_substring,i)\n",
    "        i += 1\n",
    "    # useful when last substring is thelongest substring\n",
    "    if len(temp_substring) > len(longest_ascending_substring): # checking if len of temp_ss is greater than len of value present in longest substring\n",
    "        longest_ascending_substring = temp_substring # updating final output variablle \n",
    "    return longest_ascending_substring"
   ]
  },
  {
   "cell_type": "code",
   "execution_count": 16,
   "id": "5f06cad8-ec98-4bdf-9b87-377a2b2bbbcd",
   "metadata": {},
   "outputs": [
    {
     "name": "stdout",
     "output_type": "stream",
     "text": [
      "Input: bcabcz Output: abcz\n",
      "Input: aaa Output: a\n",
      "Input: bcaabc Output: abc\n",
      "Input: bcccc Output: bc\n",
      "Input: cccb Output: c\n",
      "Input:  Output: \n"
     ]
    }
   ],
   "source": [
    "for s in ['bcabcz','aaa','bcaabc','bcccc','cccb','']:\n",
    "    print('Input:',s,'Output:',find_longest_ascending_ss(s))"
   ]
  },
  {
   "cell_type": "code",
   "execution_count": null,
   "id": "72ae8c3b-fbb6-4c67-990c-dafe8855ad0a",
   "metadata": {},
   "outputs": [],
   "source": []
  }
 ],
 "metadata": {
  "kernelspec": {
   "display_name": "Python 3 (ipykernel)",
   "language": "python",
   "name": "python3"
  },
  "language_info": {
   "codemirror_mode": {
    "name": "ipython",
    "version": 3
   },
   "file_extension": ".py",
   "mimetype": "text/x-python",
   "name": "python",
   "nbconvert_exporter": "python",
   "pygments_lexer": "ipython3",
   "version": "3.11.2"
  }
 },
 "nbformat": 4,
 "nbformat_minor": 5
}
