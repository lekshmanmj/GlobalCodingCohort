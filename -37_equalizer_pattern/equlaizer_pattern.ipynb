{
 "cells": [
  {
   "cell_type": "raw",
   "id": "58eab383-88f4-4b07-9aa1-3aa248e62d8a",
   "metadata": {},
   "source": [
    "Problem:\n",
    "Print the pattern as given below for the given input_list\n",
    "\n",
    "Constraints:\n",
    "1. 1 <= length(input_list) <= 10\n",
    "2. 0 <= numbers in list <= 9\n",
    "\n",
    "Sample IO:\n",
    "input_list = [1,3,0,2,6,0,2]\n",
    "\n",
    "Output:\n",
    "        *\n",
    "        *\n",
    "        *     \n",
    "  *     *     \n",
    "  *   * *   * \n",
    "* *   * *   * "
   ]
  },
  {
   "cell_type": "code",
   "execution_count": 11,
   "id": "ea0c8dfc-acf0-4651-8c47-608fb6aee75c",
   "metadata": {},
   "outputs": [
    {
     "name": "stdout",
     "output_type": "stream",
     "text": [
      "1 3 0 2 6 0 2 "
     ]
    }
   ],
   "source": [
    "input_list = [1,3,0,2,6,0,2]\n",
    "\n",
    "########################### solution start #####################\n",
    "def find_max(inp):\n",
    "    max = -1\n",
    "    for each in inp:\n",
    "        if each > max:\n",
    "            max = each\n",
    "    return max\n",
    "\n",
    "def print_pattern(input_list):\n",
    "    max = find_max(input_list) # max holder and rowcounter\n",
    "    \n",
    "    while max > 0:\n",
    "        for each in input_list:\n",
    "            if each >= max: print('*', end = ' ')\n",
    "            else: print(' ', end = ' ')\n",
    "        print()\n",
    "        max -= 1\n",
    "###################### solution end ####################"
   ]
  },
  {
   "cell_type": "code",
   "execution_count": 30,
   "id": "64e37934-1949-4986-a1b2-2be997e67f4a",
   "metadata": {},
   "outputs": [
    {
     "name": "stdout",
     "output_type": "stream",
     "text": [
      "*               *   \n",
      "*   *           * * \n",
      "* * *           * * \n",
      "* * *           * * \n",
      "* * *           * * \n",
      "* * * *     *   * * \n",
      "* * * *     *   * * \n",
      "* * * *     * * * * \n",
      "* * * * *   * * * * \n",
      "9 7 8 4 1 0 4 2 9 8 "
     ]
    }
   ],
   "source": [
    "# testing the solution\n",
    "import random\n",
    "input_list = [random.randrange(0,10) for each in range(random.randrange(1,11))]\n",
    "print_pattern(input_list) # calling solution\n",
    "for each in input_list:\n",
    "    print(each, end = ' ')"
   ]
  },
  {
   "cell_type": "code",
   "execution_count": null,
   "id": "a70ae293-e62f-4d82-a449-5ed512e07c0a",
   "metadata": {},
   "outputs": [],
   "source": []
  }
 ],
 "metadata": {
  "kernelspec": {
   "display_name": "Python 3 (ipykernel)",
   "language": "python",
   "name": "python3"
  },
  "language_info": {
   "codemirror_mode": {
    "name": "ipython",
    "version": 3
   },
   "file_extension": ".py",
   "mimetype": "text/x-python",
   "name": "python",
   "nbconvert_exporter": "python",
   "pygments_lexer": "ipython3",
   "version": "3.11.4"
  }
 },
 "nbformat": 4,
 "nbformat_minor": 5
}
