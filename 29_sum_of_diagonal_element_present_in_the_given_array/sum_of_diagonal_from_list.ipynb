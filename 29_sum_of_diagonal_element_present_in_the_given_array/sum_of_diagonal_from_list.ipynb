{
 "cells": [
  {
   "cell_type": "raw",
   "id": "63c70b96-2233-44c2-9412-b95adb1ec088",
   "metadata": {},
   "source": [
    "problem\n",
    "find the sum of diagonal element from the give list of integers\n",
    "\n",
    "Constraints:\n",
    "1. 1 < length of input list <= 100\n",
    "2. length of input list should always be square of any number\n",
    "\n",
    "Sample IO\n",
    "input_list = [1.2,3,4], output = 5\n",
    "input_list = [1,2,3,4,5,6,7,8,9] = 15"
   ]
  },
  {
   "cell_type": "code",
   "execution_count": 29,
   "id": "6240e918-1268-45cc-bfa7-3a5286b8b21e",
   "metadata": {},
   "outputs": [],
   "source": [
    "#solution\n",
    "def find_length(inp):\n",
    "    length = 0\n",
    "    while True:\n",
    "        try:\n",
    "            inp[length]\n",
    "            length += 1\n",
    "        except: break\n",
    "    return length\n",
    "\n",
    "input_list = [1,2,3,4,5,6,7,8,9]\n",
    "def sum_of_diagonals(input_list):\n",
    "    length = find_length(input_list)\n",
    "    step = length // 2\n",
    "    while step * step != length:\n",
    "        step -= 1\n",
    "    step += 1\n",
    "    # if length % 2 != 0:\n",
    "    #     step = int(length / 2) - 1\n",
    "    #     print(step,length)\n",
    "    #     while step * step != length:\n",
    "    #         step = int(step / 2) - 1\n",
    "    #         print(step,step*step,length)\n",
    "    #     step += 1\n",
    "    # else:\n",
    "    #     step = int(length / 2)\n",
    "    #     while step * step != length:\n",
    "    #         step = int(step/2)\n",
    "    #     step += 1\n",
    "    # print(step)\n",
    "    sum = 0\n",
    "    for i in range(0,length,step):\n",
    "        sum += input_list[i]\n",
    "        # print(sum,input_list[i],i)\n",
    "    return (step-1,sum)"
   ]
  },
  {
   "cell_type": "code",
   "execution_count": 28,
   "id": "ba442e43-e9a6-43a3-9636-7650132b4ccd",
   "metadata": {},
   "outputs": [
    {
     "data": {
      "text/plain": [
       "(12.5, 4.5)"
      ]
     },
     "execution_count": 28,
     "metadata": {},
     "output_type": "execute_result"
    }
   ],
   "source": [
    "25/2,9/2"
   ]
  },
  {
   "cell_type": "code",
   "execution_count": 35,
   "id": "5ae16b34-1307-43e9-95a9-ded1eaa957a3",
   "metadata": {},
   "outputs": [
    {
     "name": "stdout",
     "output_type": "stream",
     "text": [
      "[[8 5]\n",
      " [6 5]]\n",
      "13\n",
      "\n",
      "[[7 5 3]\n",
      " [2 5 0]\n",
      " [6 3 8]]\n",
      "20\n",
      "\n",
      "[[0 8 1 0]\n",
      " [0 3 5 8]\n",
      " [3 5 0 3]\n",
      " [7 8 5 5]]\n",
      "8\n",
      "\n",
      "[[1 5 2 6 5]\n",
      " [0 3 3 3 0]\n",
      " [5 8 5 2 0]\n",
      " [5 1 3 7 8]\n",
      " [4 0 2 6 2]]\n",
      "18\n",
      "\n"
     ]
    }
   ],
   "source": [
    "import random\n",
    "import numpy as np\n",
    "size = [4,9,16,25]\n",
    "test_cases = []\n",
    "for each_size in size:\n",
    "    test_cases.append([random.randrange(0,9) for i in range(each_size)])\n",
    "for each_inp in test_cases:\n",
    "    step,sum = sum_of_diagonals(each_inp)\n",
    "    print(np.array(each_inp).reshape(step,step))\n",
    "    print(sum)\n",
    "    print()"
   ]
  },
  {
   "cell_type": "code",
   "execution_count": 33,
   "id": "b11493ca-9d38-48b7-8741-2bbede19ecc0",
   "metadata": {},
   "outputs": [
    {
     "name": "stdout",
     "output_type": "stream",
     "text": [
      "[[ 1  2  3  4  5]\n",
      " [ 6  7  8  9 10]\n",
      " [11 12 13 14 15]\n",
      " [16 17 18 19 20]\n",
      " [21 22 23 24 25]]\n",
      "(5, 65)\n"
     ]
    }
   ],
   "source": [
    "size = 5\n",
    "inp = np.arange(1,size * size + 1)\n",
    "out = sum_of_diagonals(inp)\n",
    "print(inp.reshape(out[0],out[0]))\n",
    "print(out)"
   ]
  },
  {
   "cell_type": "code",
   "execution_count": 34,
   "id": "b6d27c82-871e-4e3a-bd1e-fead286ba55f",
   "metadata": {},
   "outputs": [
    {
     "data": {
      "text/plain": [
       "65"
      ]
     },
     "execution_count": 34,
     "metadata": {},
     "output_type": "execute_result"
    }
   ],
   "source": [
    "1+7+13+19+25"
   ]
  },
  {
   "cell_type": "code",
   "execution_count": null,
   "id": "0cc5a09e-0952-4b9a-b32a-377f0c9df910",
   "metadata": {},
   "outputs": [],
   "source": []
  }
 ],
 "metadata": {
  "kernelspec": {
   "display_name": "Python 3 (ipykernel)",
   "language": "python",
   "name": "python3"
  },
  "language_info": {
   "codemirror_mode": {
    "name": "ipython",
    "version": 3
   },
   "file_extension": ".py",
   "mimetype": "text/x-python",
   "name": "python",
   "nbconvert_exporter": "python",
   "pygments_lexer": "ipython3",
   "version": "3.11.4"
  }
 },
 "nbformat": 4,
 "nbformat_minor": 5
}
