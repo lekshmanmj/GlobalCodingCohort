{
 "cells": [
  {
   "cell_type": "raw",
   "id": "557b493d-ffe5-45ea-9f7e-4a638f2c14b3",
   "metadata": {},
   "source": [
    "Problem\n",
    "\n",
    "Find the maximum difference between any 2 elements from the given array \"arr\" of any length.\n",
    "\n",
    "Sample IO:\n",
    "\n",
    "Input 1:\n",
    "arr = [10,5,4]\n",
    "\n",
    "Output 1:\n",
    "Max Difference is 6 between 10 and 4.\n",
    "\n",
    "Input 2:\n",
    "arr = [10,5]\n",
    "\n",
    "Output 2:\n",
    "Max Difference is 5 between 10 and 5.\n"
   ]
  },
  {
   "cell_type": "code",
   "execution_count": 24,
   "id": "995577e6-e2e9-469d-9637-f0c8ccf908b6",
   "metadata": {},
   "outputs": [],
   "source": [
    "# solution\n",
    "\n",
    "arr = [10,5,4]\n",
    "\n",
    "def find_max_diff(arr):\n",
    "    a_ind = None\n",
    "    b_ind = None\n",
    "    max_diff = -1\n",
    "    length = len(arr)\n",
    "    if length > 1:\n",
    "        for i in range(length):\n",
    "            for j in range(i+1,length):\n",
    "                temp = abs(arr[i]-arr[j])\n",
    "                if temp > max_diff: \n",
    "                    max_diff = temp\n",
    "                    a_ind = i\n",
    "                    b_ind = j\n",
    "        print('\\nGive Input =',arr)\n",
    "        print('Max difference is',max_diff,'between',arr[a_ind],'and',arr[b_ind])\n",
    "    else: \n",
    "        print('\\nGive Input =',arr)\n",
    "        print('Need minimum 2 elements in the array.')\n"
   ]
  },
  {
   "cell_type": "code",
   "execution_count": 25,
   "id": "96c5f421-a930-4f82-b9dd-16827d09d58f",
   "metadata": {},
   "outputs": [
    {
     "name": "stdout",
     "output_type": "stream",
     "text": [
      "\n",
      "Give Input = [10, 5, 4]\n",
      "Max difference is 6 between 10 and 4\n",
      "looped 3 times.\n",
      "\n",
      "Give Input = []\n",
      "Need minimum 2 elements in the array.\n",
      "\n",
      "Give Input = [0]\n",
      "Need minimum 2 elements in the array.\n",
      "\n",
      "Give Input = [5, 5]\n",
      "Max difference is 0 between 5 and 5\n",
      "looped 1 times.\n",
      "\n",
      "Give Input = [1, 2, 3, 4, 5]\n",
      "Max difference is 4 between 1 and 5\n",
      "looped 10 times.\n",
      "\n",
      "Give Input = [1, 2, 4, 0, -1]\n",
      "Max difference is 5 between 4 and -1\n",
      "looped 10 times.\n",
      "\n",
      "Give Input = [-1, -2, -3, -4, -5]\n",
      "Max difference is 4 between -1 and -5\n",
      "looped 10 times.\n"
     ]
    }
   ],
   "source": [
    "for arr in [[10,5,4],[],[0],[5,5],[1,2,3,4,5],[1,2,4,0,-1],\n",
    "            [-1,-2,-3,-4,-5]]:\n",
    "    find_max_diff(arr)"
   ]
  },
  {
   "cell_type": "code",
   "execution_count": null,
   "id": "f6824f28-5824-4ab7-a96c-2757086783fc",
   "metadata": {},
   "outputs": [],
   "source": []
  }
 ],
 "metadata": {
  "kernelspec": {
   "display_name": "Python 3 (ipykernel)",
   "language": "python",
   "name": "python3"
  },
  "language_info": {
   "codemirror_mode": {
    "name": "ipython",
    "version": 3
   },
   "file_extension": ".py",
   "mimetype": "text/x-python",
   "name": "python",
   "nbconvert_exporter": "python",
   "pygments_lexer": "ipython3",
   "version": "3.11.2"
  }
 },
 "nbformat": 4,
 "nbformat_minor": 5
}
