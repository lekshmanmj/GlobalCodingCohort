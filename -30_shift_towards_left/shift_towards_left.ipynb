{
 "cells": [
  {
   "cell_type": "raw",
   "id": "a980a787-25c1-4926-b4c4-7ecd21263bf9",
   "metadata": {},
   "source": [
    "Problem statement:\n",
    "Write code to circulary shift all integer in the given \"input_list\" towards left \"l\" times, by looping minimum number of times and return the updated list.\n",
    "\n",
    "Constraint:\n",
    "1. Time complexity of solution code should be < or around O[n/2]\n",
    "2. 1 < length_of_input_list <= 10\n",
    "3. 0 <= numbers in list <= 9\n",
    "4. 0 <= l <= length_of_input_list\n",
    "5. n means length of input list\n",
    "\n",
    "Sample IO:\n",
    "\n",
    "1. input_list = [1,2,3,4,5], l = 1, length_of_input = 5, output = [2,3,4,5,1]\n",
    "2. input_list = [1,2,3,4,5], l = 4, length_of_input = 5, output = [5,1,2,3,4]"
   ]
  },
  {
   "cell_type": "code",
   "execution_count": 70,
   "id": "3b98410f-9204-4977-9452-05484e03dcdd",
   "metadata": {},
   "outputs": [],
   "source": [
    "#solution\n",
    "def shift(input_list,length_of_input,l):\n",
    "    mid = length_of_input // 2\n",
    "    if l > mid:\n",
    "        loop = length_of_input - l\n",
    "    else:\n",
    "        loop = l\n",
    "    # print('mid',mid)\n",
    "    # print(loop)\n",
    "    for i in range(loop):\n",
    "        if l <= mid:\n",
    "            # print('first')\n",
    "            input_list.append(input_list[0])\n",
    "            del input_list[0]\n",
    "        else:\n",
    "            # print('last')\n",
    "            input_list.insert(0,input_list[-1])\n",
    "            del input_list[-1]\n",
    "    return input_list"
   ]
  },
  {
   "cell_type": "code",
   "execution_count": 71,
   "id": "a043900c-3acb-4047-8217-c417859b9fbd",
   "metadata": {},
   "outputs": [
    {
     "data": {
      "text/plain": [
       "[8, 1, 2, 3, 10, 9]"
      ]
     },
     "execution_count": 71,
     "metadata": {},
     "output_type": "execute_result"
    }
   ],
   "source": [
    "shift([10,9,8,1,2,3],6,2)"
   ]
  },
  {
   "cell_type": "code",
   "execution_count": 72,
   "id": "5ae8a584-d058-4a1d-915b-8b953a1aa393",
   "metadata": {},
   "outputs": [
    {
     "data": {
      "text/plain": [
       "[3, 10, 9, 8, 1, 2]"
      ]
     },
     "execution_count": 72,
     "metadata": {},
     "output_type": "execute_result"
    }
   ],
   "source": [
    "shift(input_list=[10,9,8,1,2,3],length_of_input=6,l=5)"
   ]
  },
  {
   "cell_type": "code",
   "execution_count": null,
   "id": "172f5836-eb2a-4547-b072-657d1c7350cb",
   "metadata": {},
   "outputs": [],
   "source": []
  }
 ],
 "metadata": {
  "kernelspec": {
   "display_name": "Python 3 (ipykernel)",
   "language": "python",
   "name": "python3"
  },
  "language_info": {
   "codemirror_mode": {
    "name": "ipython",
    "version": 3
   },
   "file_extension": ".py",
   "mimetype": "text/x-python",
   "name": "python",
   "nbconvert_exporter": "python",
   "pygments_lexer": "ipython3",
   "version": "3.11.4"
  }
 },
 "nbformat": 4,
 "nbformat_minor": 5
}
