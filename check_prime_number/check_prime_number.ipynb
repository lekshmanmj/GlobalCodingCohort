{
 "cells": [
  {
   "cell_type": "raw",
   "id": "16bcc2f5-4af1-4ac4-8e39-0f6685bcb387",
   "metadata": {},
   "source": [
    "Problem Statment:\n",
    "\n",
    "Check if the given input integer \"n\" is prime number or not using python.\n",
    "\n",
    "Constraints:\n",
    "1 < n < 100\n",
    "\n",
    "Sample Input 1:\n",
    "Enter n: 3\n",
    "\n",
    "Sample Output 1:\n",
    "3 is a prime number\n",
    "\n",
    "Sample Input 2:\n",
    "Enter n: 24\n",
    "\n",
    "Sample Output 2:\n",
    "24 is not a prime number."
   ]
  },
  {
   "cell_type": "raw",
   "id": "c82c5500-5289-45ad-9e33-bf5bb2799e86",
   "metadata": {},
   "source": [
    "Analysis:\n",
    "\n",
    "1) Any number is divible with its own table and one table.\n",
    "2) We need not check from n+1 th multiplication table.\n",
    "3) If n is not prime, then we can identify it within 2 to n/2th table."
   ]
  },
  {
   "cell_type": "code",
   "execution_count": 35,
   "id": "b91d36c4-d3d1-4749-b12c-1ff6709001b3",
   "metadata": {},
   "outputs": [
    {
     "name": "stdout",
     "output_type": "stream",
     "text": [
      "4\n",
      "2 0\n",
      "3 0\n",
      "6 is not a prime number.\n"
     ]
    }
   ],
   "source": [
    "n = 6\n",
    "prime = True\n",
    "if n > 3: mid = n//2 + 1\n",
    "else: mid = n//2 + 2\n",
    "print(mid)\n",
    "if n != 2:\n",
    "    for each_table in range(2,mid):\n",
    "        print(each_table,n % each_table)\n",
    "        if n % each_table == 0: prime = False     \n",
    "            \n",
    "if prime == False: print(n,'is not a prime number.')\n",
    "elif n == 2: print('2 is a prime number')\n",
    "else: print(n,'is a prime number.')"
   ]
  },
  {
   "cell_type": "raw",
   "id": "11e2a523-ffe8-4b86-9700-9a2f79733a79",
   "metadata": {},
   "source": [
    "Time complexity of above code is O[n/2]"
   ]
  },
  {
   "cell_type": "raw",
   "id": "52cd49ea-cc9b-4131-b890-64a76a53800a",
   "metadata": {},
   "source": [
    "Extended Analysis:\n",
    "\n",
    "1) Any number is divible with its own table and one table.\n",
    "2) We need not check from n+1 th multiplication table.\n",
    "3) If n is not prime, then we can identify it within 2 to n/2th table.\n",
    "4) As numbers divisible in table > 5 are also divisible in either 2 or 3 or 5 table, we can get it identified checking these 3 table itself."
   ]
  },
  {
   "cell_type": "code",
   "execution_count": 46,
   "id": "baa3965f-b36e-44c2-b0b3-23c68a15cc70",
   "metadata": {},
   "outputs": [
    {
     "name": "stdout",
     "output_type": "stream",
     "text": [
      "91 is a prime number.\n"
     ]
    }
   ],
   "source": [
    "n = 91\n",
    "if n not in [2,3,5]:\n",
    "    if n % 2 == 0 or n % 3 == 0 or n % 5 == 0: print(n,'is not a prime number.')\n",
    "    else: print(n,'is a prime number.')\n",
    "else: print(n,'is a prime number.')"
   ]
  },
  {
   "cell_type": "raw",
   "id": "6ccaef46-6a83-46c9-a45d-67e16da9688c",
   "metadata": {},
   "source": [
    "Time complexity of the above code is O[1]"
   ]
  },
  {
   "cell_type": "raw",
   "id": "27d1b71f-24fe-47ef-89b4-a01037b11daf",
   "metadata": {},
   "source": [
    "We choose our latest code as final code, because it is only having minimum(best) time complexity"
   ]
  },
  {
   "cell_type": "code",
   "execution_count": 47,
   "id": "da441af0-9581-4430-8648-94aac782557d",
   "metadata": {},
   "outputs": [
    {
     "name": "stdin",
     "output_type": "stream",
     "text": [
      " 88\n"
     ]
    },
    {
     "name": "stdout",
     "output_type": "stream",
     "text": [
      "88 is not a prime number.\n"
     ]
    }
   ],
   "source": [
    "#Our Best Solution is\n",
    "n = int(input())\n",
    "if n not in [2,3,5]:\n",
    "    if n % 2 == 0 or n % 3 == 0 or n % 5 == 0: print(n,'is not a prime number.')\n",
    "    else: print(n,'is a prime number.')\n",
    "else: print(n,'is a prime number.')"
   ]
  },
  {
   "cell_type": "code",
   "execution_count": null,
   "id": "c1c7ef84-8bbc-403b-bf60-28f6f7f163ab",
   "metadata": {},
   "outputs": [],
   "source": []
  }
 ],
 "metadata": {
  "kernelspec": {
   "display_name": "Python 3 (ipykernel)",
   "language": "python",
   "name": "python3"
  },
  "language_info": {
   "codemirror_mode": {
    "name": "ipython",
    "version": 3
   },
   "file_extension": ".py",
   "mimetype": "text/x-python",
   "name": "python",
   "nbconvert_exporter": "python",
   "pygments_lexer": "ipython3",
   "version": "3.11.4"
  }
 },
 "nbformat": 4,
 "nbformat_minor": 5
}
