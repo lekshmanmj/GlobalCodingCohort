{
 "cells": [
  {
   "cell_type": "raw",
   "id": "58eab383-88f4-4b07-9aa1-3aa248e62d8a",
   "metadata": {},
   "source": [
    "Problem:\n",
    "Print the pattern as given below for the given input_list and \n",
    "find the total unit of rain water trapped\n",
    "\n",
    "Constraints:\n",
    "1. 1 <= length(input_list) <= 10\n",
    "2. 0 <= numbers in list <= 9\n",
    "\n",
    "Sample IO:\n",
    "input_list = [1,3,0,2,6,0,2]\n",
    "Output Part 1:\n",
    "        *\n",
    "        *\n",
    "        *     \n",
    "  *     *     \n",
    "  *   * *   * \n",
    "* *   * *   * \n",
    "Output part 2: 6"
   ]
  },
  {
   "cell_type": "code",
   "execution_count": 1,
   "id": "ea0c8dfc-acf0-4651-8c47-608fb6aee75c",
   "metadata": {},
   "outputs": [],
   "source": [
    "\n",
    "\n",
    "########################### part 1 start #####################\n",
    "def find_max(inp):\n",
    "    max = -1\n",
    "    for each in inp:\n",
    "        if each > max:\n",
    "            max = each\n",
    "    return max\n",
    "\n",
    "def print_pattern(input_list):\n",
    "    max = find_max(input_list) # max holder and rowcounter\n",
    "    \n",
    "    while max > 0:\n",
    "        for each in input_list:\n",
    "            if each >= max: print('*', end = ' ')\n",
    "            else: print(' ', end = ' ')\n",
    "        print()\n",
    "        max -= 1\n",
    "###################### part 1 end ####################"
   ]
  },
  {
   "cell_type": "code",
   "execution_count": 12,
   "id": "64e37934-1949-4986-a1b2-2be997e67f4a",
   "metadata": {},
   "outputs": [
    {
     "name": "stdout",
     "output_type": "stream",
     "text": [
      "    *           \n",
      "    *           \n",
      "    *           \n",
      "    *           \n",
      "*   *   *       \n",
      "*   *   *   *   \n",
      "*   *   * * *   \n",
      "* * *   * * * * \n",
      "* * *   * * * * \n",
      "5 2 9 0 5 3 4 2 "
     ]
    }
   ],
   "source": [
    "# testing the part 1\n",
    "import random\n",
    "# input_list = [1,3,0,2,6,0,2]\n",
    "input_list = [random.randrange(0,10) for each in range(random.randrange(1,11))]\n",
    "print_pattern(input_list) # calling solution\n",
    "for each in input_list:\n",
    "    print(each, end = ' ')"
   ]
  },
  {
   "cell_type": "code",
   "execution_count": 15,
   "id": "a70ae293-e62f-4d82-a449-5ed512e07c0a",
   "metadata": {},
   "outputs": [],
   "source": [
    "# solution part 2 start ##################\n",
    "def find_length(inp):\n",
    "    length = 0\n",
    "    while True:\n",
    "        try:\n",
    "            inp[length]\n",
    "            length += 1\n",
    "        except: break\n",
    "    return length\n",
    "def count_trapped_units_of_water(input_list):\n",
    "    max = find_max(input_list)\n",
    "    length = find_length(input_list)\n",
    "    total_units = 0\n",
    "    for i in range(1,max): # row\n",
    "        j = 0\n",
    "        row_part_units = 0\n",
    "        flag = 0\n",
    "        while j < length:\n",
    "            curr_height = input_list[j]\n",
    "            if curr_height >= i and flag == 0:\n",
    "                flag += 1\n",
    "            elif flag == 1 and curr_height >= i:\n",
    "                flag = 0\n",
    "                j -= 1\n",
    "                total_units += row_part_units\n",
    "                row_part_units = 0\n",
    "            if flag == 1 and curr_height < i:\n",
    "                row_part_units += 1\n",
    "            j += 1\n",
    "    return total_units\n",
    "# solution part 2 end ##############"
   ]
  },
  {
   "cell_type": "code",
   "execution_count": 16,
   "id": "1213ea48-9649-4afb-aa6a-c0c1f7dbca9f",
   "metadata": {},
   "outputs": [
    {
     "name": "stdout",
     "output_type": "stream",
     "text": [
      "        *           \n",
      "    *   * *         \n",
      "    *   * *         \n",
      "    * * * *         \n",
      "*   * * * *         \n",
      "*   * * * *         \n",
      "* * * * * * * *   * \n",
      "* * * * * * * *   * \n",
      "* * * * * * * *   * \n",
      "5 3 8 6 9 8 3 3 0 3 "
     ]
    },
    {
     "data": {
      "text/plain": [
       "7"
      ]
     },
     "execution_count": 16,
     "metadata": {},
     "output_type": "execute_result"
    }
   ],
   "source": [
    "# testing the part 1 and part 2\n",
    "import random\n",
    "# input_list = [1,3,0,2,6,0,2]\n",
    "input_list = [random.randrange(0,10) for each in range(random.randrange(1,11))]\n",
    "print_pattern(input_list) # calling solution\n",
    "for each in input_list:\n",
    "    print(each, end = ' ')\n",
    "count_trapped_units_of_water(input_list)"
   ]
  },
  {
   "cell_type": "code",
   "execution_count": null,
   "id": "6cc85027-f096-49ab-9c4f-65c646f3c143",
   "metadata": {},
   "outputs": [],
   "source": []
  }
 ],
 "metadata": {
  "kernelspec": {
   "display_name": "Python 3 (ipykernel)",
   "language": "python",
   "name": "python3"
  },
  "language_info": {
   "codemirror_mode": {
    "name": "ipython",
    "version": 3
   },
   "file_extension": ".py",
   "mimetype": "text/x-python",
   "name": "python",
   "nbconvert_exporter": "python",
   "pygments_lexer": "ipython3",
   "version": "3.11.4"
  }
 },
 "nbformat": 4,
 "nbformat_minor": 5
}
