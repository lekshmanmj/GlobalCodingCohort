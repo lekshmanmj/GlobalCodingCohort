{
 "cells": [
  {
   "cell_type": "raw",
   "id": "a1d076c5-00ae-4922-b780-4c9626a5c766",
   "metadata": {},
   "source": [
    "Problem:\n",
    "\n",
    "Find the no. of moves involved in sorting a list of string \"list_str\".\n",
    "\n",
    "Constraints:\n",
    "1. 1 <= size_of_list_str <= 10\n",
    "2. 1 <= size_of_each_string_in_list <= 15\n",
    "3. Sort the strings in lexicographic ascending order(space comes first, then upper case, last lower case)\n",
    "4. Sort only in this way\n",
    "    1. check current string with previous string\n",
    "    2. if current is not in order, then move it to correct location\n",
    "    3. Do this until the full list sorted\n",
    "5. No string in list should start or end with \"space\"\n",
    "6. Each string should contain only Upper/lower case alphabets or space\n",
    "\n",
    "Sample IO:\n",
    "Input 1:\n",
    "list_str = [Banana, Carrot, apple, Apple, An Apple, mango]\n",
    "\n",
    "Output 1:\n",
    "No. of moves = 3\n"
   ]
  },
  {
   "cell_type": "code",
   "execution_count": 4,
   "id": "f1b15c57-71d4-4110-8d92-b6f561354343",
   "metadata": {},
   "outputs": [
    {
     "data": {
      "text/plain": [
       "' AaBbCcDdEeFfGgHhIiJjKkLlMmNnOoPpQqRrSsTtUuVvWwXxYyZz'"
      ]
     },
     "execution_count": 4,
     "metadata": {},
     "output_type": "execute_result"
    }
   ],
   "source": [
    "# solution\n",
    "import string\n",
    "uc = string.ascii_uppercase\n",
    "lc = string.ascii_lowercase\n",
    "temp = [each_uc + each_lc for each_uc, each_lc in zip(uc,lc)]\n",
    "all = ' ' + ''.join(temp)\n",
    "all"
   ]
  },
  {
   "cell_type": "code",
   "execution_count": 17,
   "id": "be9c4289-9fde-42a7-b8d3-a8f836744b90",
   "metadata": {},
   "outputs": [],
   "source": [
    "def find_length(strs):\n",
    "    length = 0\n",
    "    while True:\n",
    "        try:\n",
    "            strs[length]\n",
    "            length += 1\n",
    "        except: break\n",
    "    return length\n",
    "def compare(prev,curr):\n",
    "    for each_p, each_c in zip(prev,curr):\n",
    "        if each_p > each_c:\n",
    "            return True\n",
    "        elif each_p < each_c: \n",
    "            return False\n",
    "    # return False\n",
    "def invert(list_str_converted):\n",
    "    sorted_words = []\n",
    "    for each_num_word in list_str_converted:\n",
    "        temp = []\n",
    "        for each_num in each_num_word:\n",
    "            temp.append(all[each_num])\n",
    "        sorted_words.append(''.join(temp))\n",
    "    return sorted_words\n",
    "def convert(list_str):\n",
    "    list_str_converted = []\n",
    "    for each_word in list_str:\n",
    "        temp = []\n",
    "        for each_letter in each_word:\n",
    "            temp.append(all.index(each_letter))\n",
    "        list_str_converted.append(temp)\n",
    "    return list_str_converted"
   ]
  },
  {
   "cell_type": "code",
   "execution_count": 16,
   "id": "473f2eef-699d-4be4-9f4b-916c29bd5151",
   "metadata": {},
   "outputs": [
    {
     "data": {
      "text/plain": [
       "False"
      ]
     },
     "execution_count": 16,
     "metadata": {},
     "output_type": "execute_result"
    }
   ],
   "source": [
    "compare([1, 28, 0, 1, 32, 32, 24, 10],[1, 32, 32, 24, 10])"
   ]
  },
  {
   "cell_type": "code",
   "execution_count": 18,
   "id": "d6544643-9fb9-4852-b24f-8df83bc2b3df",
   "metadata": {},
   "outputs": [],
   "source": [
    "list_str = ['Banana', 'Carrot', 'apple', 'Apple', 'An Apple', 'mango']"
   ]
  },
  {
   "cell_type": "code",
   "execution_count": null,
   "id": "e5fe2fbb-e602-481a-9ab8-2a219b362681",
   "metadata": {},
   "outputs": [],
   "source": []
  },
  {
   "cell_type": "code",
   "execution_count": 28,
   "id": "04ffd28a-27d1-42a9-98d6-14da3dad818a",
   "metadata": {},
   "outputs": [],
   "source": [
    "def find_moves(list_str):\n",
    "    first_round = False\n",
    "    count = 0\n",
    "    i = 1\n",
    "    input_length = find_length(list_str)\n",
    "    list_str_converted = convert(list_str)\n",
    "    # print(invert(list_str_converted))\n",
    "    each_round_count = 0\n",
    "    while i < input_length:\n",
    "        prev = list_str_converted[i-1]\n",
    "        curr = list_str_converted[i]\n",
    "        move = compare(prev,curr)\n",
    "        # print('I',i-1,invert([prev,curr]),prev,curr,move)\n",
    "        j = None # comment it if you've commented print statements\n",
    "        if move:\n",
    "            count += 1\n",
    "            each_round_count += 1\n",
    "            j = i - 2\n",
    "            while move and j >= 0:\n",
    "                prev = list_str_converted[j]\n",
    "                move = compare(prev,curr)\n",
    "                # print('J',j,invert([prev,curr]),prev,curr,move)\n",
    "                j -= 1\n",
    "            list_str_converted.insert(j+1,curr)\n",
    "            del list_str_converted[i+1]\n",
    "        # print(i,j,invert(list_str_converted))\n",
    "        # print()\n",
    "        i += 1\n",
    "        # print('EACH',each_round_count,i,input_length)\n",
    "        if i >= input_length and each_round_count > 0:\n",
    "            i = 1\n",
    "            each_round_count = 0\n",
    "            # print('...........................')\n",
    "    print(invert(list_str_converted))\n",
    "    return count"
   ]
  },
  {
   "cell_type": "code",
   "execution_count": 29,
   "id": "20988de5-e1af-4357-8024-e7f54d6f8db6",
   "metadata": {},
   "outputs": [
    {
     "name": "stdout",
     "output_type": "stream",
     "text": [
      "['An Apple', 'Apple', 'apple', 'Banana', 'Carrot', 'mango']\n"
     ]
    },
    {
     "data": {
      "text/plain": [
       "3"
      ]
     },
     "execution_count": 29,
     "metadata": {},
     "output_type": "execute_result"
    }
   ],
   "source": [
    "find_moves(['Banana', 'Carrot', 'apple', 'Apple', 'An Apple', 'mango'])"
   ]
  },
  {
   "cell_type": "code",
   "execution_count": 30,
   "id": "ed60b4e6-675d-4340-b475-0d328448dec3",
   "metadata": {},
   "outputs": [
    {
     "name": "stdout",
     "output_type": "stream",
     "text": [
      "['An Apple', 'Ant', 'Apple', 'apple', 'Banana', 'Carrot', 'mango']\n"
     ]
    },
    {
     "data": {
      "text/plain": [
       "4"
      ]
     },
     "execution_count": 30,
     "metadata": {},
     "output_type": "execute_result"
    }
   ],
   "source": [
    "find_moves(['Banana', 'Carrot', 'apple', 'Apple','Ant', 'An Apple', 'mango'])"
   ]
  },
  {
   "cell_type": "code",
   "execution_count": null,
   "id": "ad66a9bd-8884-48e8-a33a-7042000dfb43",
   "metadata": {},
   "outputs": [],
   "source": []
  }
 ],
 "metadata": {
  "kernelspec": {
   "display_name": "Python 3 (ipykernel)",
   "language": "python",
   "name": "python3"
  },
  "language_info": {
   "codemirror_mode": {
    "name": "ipython",
    "version": 3
   },
   "file_extension": ".py",
   "mimetype": "text/x-python",
   "name": "python",
   "nbconvert_exporter": "python",
   "pygments_lexer": "ipython3",
   "version": "3.11.4"
  }
 },
 "nbformat": 4,
 "nbformat_minor": 5
}
