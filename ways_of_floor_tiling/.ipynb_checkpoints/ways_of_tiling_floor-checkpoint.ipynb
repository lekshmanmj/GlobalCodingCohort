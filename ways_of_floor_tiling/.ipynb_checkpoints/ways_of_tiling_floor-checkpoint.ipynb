{
 "cells": [
  {
   "cell_type": "raw",
   "id": "a4fa721e-f8ce-44d7-a3a1-bfff6396d97c",
   "metadata": {},
   "source": [
    "Problem:\n",
    "\n",
    "Given a tile of size 2 x 1\n",
    "Given Floor of size 2 x width as w\n",
    "Find the number of ways we can tile that floor.\n",
    "\n",
    "Constraint:\n",
    "1 <= w <= 100\n",
    "\n",
    "Samples:\n",
    "\n",
    "Input 1: w = 1; Output 1: 1\n",
    "Input 2: w = 2; Output 2: 2\n",
    "Input 3: w = 3; Output 3: 3\n",
    "Input 4: w = 4; Output 4: 5\n",
    "Input 5: w = 5; Output 5: 8"
   ]
  },
  {
   "cell_type": "code",
   "execution_count": 28,
   "id": "07eb4ac4-56b1-4b01-8d5c-22c9e54621b6",
   "metadata": {},
   "outputs": [
    {
     "name": "stdout",
     "output_type": "stream",
     "text": [
      "8\n"
     ]
    }
   ],
   "source": [
    "# solution\n",
    "w = 5\n",
    "\n",
    "second_last = 1\n",
    "last = 2\n",
    "\n",
    "if w <= 3: print(w)\n",
    "else:\n",
    "    i = 2\n",
    "    while i < w:\n",
    "        ways = second_last + last\n",
    "        second_last = last\n",
    "        last = ways\n",
    "        i += 1\n",
    "    print(ways)\n"
   ]
  },
  {
   "cell_type": "code",
   "execution_count": 16,
   "id": "bc9ab40b-6d73-4e9a-b7b2-dbb53da6b0fa",
   "metadata": {},
   "outputs": [
    {
     "data": {
      "text/plain": [
       "3"
      ]
     },
     "execution_count": 16,
     "metadata": {},
     "output_type": "execute_result"
    }
   ],
   "source": [
    "i"
   ]
  },
  {
   "cell_type": "code",
   "execution_count": null,
   "id": "04e6b47f-31c2-4e5c-812c-511f3149ec30",
   "metadata": {},
   "outputs": [],
   "source": []
  }
 ],
 "metadata": {
  "kernelspec": {
   "display_name": "Python 3 (ipykernel)",
   "language": "python",
   "name": "python3"
  },
  "language_info": {
   "codemirror_mode": {
    "name": "ipython",
    "version": 3
   },
   "file_extension": ".py",
   "mimetype": "text/x-python",
   "name": "python",
   "nbconvert_exporter": "python",
   "pygments_lexer": "ipython3",
   "version": "3.11.4"
  }
 },
 "nbformat": 4,
 "nbformat_minor": 5
}
