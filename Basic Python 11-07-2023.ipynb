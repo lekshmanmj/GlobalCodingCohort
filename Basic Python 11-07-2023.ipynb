{
 "cells": [
  {
   "cell_type": "markdown",
   "id": "ba01e029-2495-40e6-a8ee-fd7e4f6ae187",
   "metadata": {},
   "source": [
    "#### Bitwise Operator"
   ]
  },
  {
   "cell_type": "code",
   "execution_count": 8,
   "id": "4d9f8ca3-c4d7-44d6-96a9-a3dcaea5e8e2",
   "metadata": {},
   "outputs": [],
   "source": [
    "a = 5\n",
    "b = 2"
   ]
  },
  {
   "cell_type": "code",
   "execution_count": 9,
   "id": "b17e0541-d4c1-49c8-8834-2a5e1dd161cb",
   "metadata": {},
   "outputs": [
    {
     "data": {
      "text/plain": [
       "'101'"
      ]
     },
     "execution_count": 9,
     "metadata": {},
     "output_type": "execute_result"
    }
   ],
   "source": [
    "bin(a)[2:] # convert decimal to binary"
   ]
  },
  {
   "cell_type": "code",
   "execution_count": 10,
   "id": "a62e7a8b-acc1-4b30-8730-8f1760966986",
   "metadata": {},
   "outputs": [
    {
     "data": {
      "text/plain": [
       "'10'"
      ]
     },
     "execution_count": 10,
     "metadata": {},
     "output_type": "execute_result"
    }
   ],
   "source": [
    "bin(b)[2:]"
   ]
  },
  {
   "cell_type": "code",
   "execution_count": 11,
   "id": "c6c4dc9e-fb63-4e9f-b0ce-ad56ca73551e",
   "metadata": {},
   "outputs": [
    {
     "data": {
      "text/plain": [
       "0"
      ]
     },
     "execution_count": 11,
     "metadata": {},
     "output_type": "execute_result"
    }
   ],
   "source": [
    "a & b # bit-wise AND"
   ]
  },
  {
   "cell_type": "code",
   "execution_count": 15,
   "id": "8e479406-15cd-4c06-97dc-c61e2ecf0ecd",
   "metadata": {},
   "outputs": [
    {
     "data": {
      "text/plain": [
       "7"
      ]
     },
     "execution_count": 15,
     "metadata": {},
     "output_type": "execute_result"
    }
   ],
   "source": [
    "int('111',2) # convert binary to decimal"
   ]
  },
  {
   "cell_type": "code",
   "execution_count": 16,
   "id": "34d25c2d-651b-412a-81db-503dcb2a5813",
   "metadata": {},
   "outputs": [
    {
     "data": {
      "text/plain": [
       "7"
      ]
     },
     "execution_count": 16,
     "metadata": {},
     "output_type": "execute_result"
    }
   ],
   "source": [
    "a | b # bit-wise OR"
   ]
  },
  {
   "cell_type": "code",
   "execution_count": 17,
   "id": "b05b5d17-2d86-4296-a515-5e21827949a2",
   "metadata": {},
   "outputs": [
    {
     "data": {
      "text/plain": [
       "7"
      ]
     },
     "execution_count": 17,
     "metadata": {},
     "output_type": "execute_result"
    }
   ],
   "source": [
    "a ^ b # bit-wise XOR"
   ]
  },
  {
   "cell_type": "code",
   "execution_count": 18,
   "id": "5267eda0-1360-4eef-8343-f33cb374900b",
   "metadata": {},
   "outputs": [
    {
     "data": {
      "text/plain": [
       "-6"
      ]
     },
     "execution_count": 18,
     "metadata": {},
     "output_type": "execute_result"
    }
   ],
   "source": [
    "~a # bit-wise NOT"
   ]
  },
  {
   "cell_type": "code",
   "execution_count": 23,
   "id": "08cb5333-ea1e-4b60-8b51-08f4aee5a684",
   "metadata": {},
   "outputs": [
    {
     "data": {
      "text/plain": [
       "10"
      ]
     },
     "execution_count": 23,
     "metadata": {},
     "output_type": "execute_result"
    }
   ],
   "source": [
    "a<<1 #bit-wise left shift"
   ]
  },
  {
   "cell_type": "code",
   "execution_count": 24,
   "id": "6fa75013-014b-457f-8b4e-40e0676df33b",
   "metadata": {},
   "outputs": [
    {
     "data": {
      "text/plain": [
       "2"
      ]
     },
     "execution_count": 24,
     "metadata": {},
     "output_type": "execute_result"
    }
   ],
   "source": [
    "a >> 1 #bit-wise right shift"
   ]
  },
  {
   "cell_type": "markdown",
   "id": "509bd66a-c280-403a-a883-3edc4f4bdddf",
   "metadata": {},
   "source": [
    "#### Loop"
   ]
  },
  {
   "cell_type": "code",
   "execution_count": 25,
   "id": "5be35b84-b571-4d57-949e-042edd038f33",
   "metadata": {},
   "outputs": [],
   "source": [
    "# for loop"
   ]
  },
  {
   "cell_type": "code",
   "execution_count": 30,
   "id": "316ef6f4-aff4-4775-911e-47c2db2cc1aa",
   "metadata": {},
   "outputs": [
    {
     "name": "stdout",
     "output_type": "stream",
     "text": [
      "1\n",
      "2\n",
      "3\n",
      "4\n",
      "5\n"
     ]
    }
   ],
   "source": [
    "for i in range(1,6):\n",
    "    print(i) # executed 5 times"
   ]
  },
  {
   "cell_type": "code",
   "execution_count": 31,
   "id": "4f6fd0af-31cc-42b1-b6c3-391c8a84e99c",
   "metadata": {},
   "outputs": [
    {
     "name": "stdout",
     "output_type": "stream",
     "text": [
      "1\n",
      "25\n",
      "3\n",
      "10\n"
     ]
    }
   ],
   "source": [
    "for number in [1,25,3,10]:\n",
    "    print(number) # executed for 4 times"
   ]
  },
  {
   "cell_type": "code",
   "execution_count": 33,
   "id": "94c315f4-f608-4f87-bb05-7462f213851f",
   "metadata": {},
   "outputs": [
    {
     "name": "stdout",
     "output_type": "stream",
     "text": [
      "1\n",
      "3\n",
      "5\n",
      "7\n",
      "9\n"
     ]
    }
   ],
   "source": [
    "# generate odd numbers between 1 and 11\n",
    "for i in range(1,11,2): \n",
    "    print(i)"
   ]
  },
  {
   "cell_type": "code",
   "execution_count": 35,
   "id": "153c2375-b9ff-4732-ba05-0a22636f5a6f",
   "metadata": {},
   "outputs": [
    {
     "name": "stdout",
     "output_type": "stream",
     "text": [
      "2\n",
      "4\n",
      "6\n",
      "8\n",
      "10\n"
     ]
    }
   ],
   "source": [
    "# generate even numbers between 1 and 11\n",
    "for i in range(2,11,2):\n",
    "    print(i)"
   ]
  },
  {
   "cell_type": "code",
   "execution_count": 36,
   "id": "c8a544ce-48cd-46b9-946e-f021f5af0ffa",
   "metadata": {},
   "outputs": [
    {
     "name": "stdout",
     "output_type": "stream",
     "text": [
      "name mjl\n",
      "country India\n"
     ]
    }
   ],
   "source": [
    "for key,pair in {'name':'mjl','country':'India'}.items():\n",
    "    print(key,pair)"
   ]
  },
  {
   "cell_type": "code",
   "execution_count": 40,
   "id": "233a83be-3974-4152-adb4-276d63fcd055",
   "metadata": {},
   "outputs": [
    {
     "name": "stdout",
     "output_type": "stream",
     "text": [
      "i 0 sum 0 value 1 new sum 1\n",
      "i 1 sum 1 value 2 new sum 3\n",
      "i 2 sum 3 value 3 new sum 6\n",
      "i 3 sum 6 value 5 new sum 11\n",
      "i 4 sum 11 value 10 new sum 21\n",
      "i 5 sum 21 value 7 new sum 28\n",
      "\n",
      "sum is 28\n"
     ]
    }
   ],
   "source": [
    "# method 1\n",
    "# find sum of elements in the list\n",
    "temp = [1,2,3,5,10,7]\n",
    "sum = 0\n",
    "for i in range(len(temp)):\n",
    "    print('i',i,'sum',sum,'value',temp[i],end=' ')\n",
    "    sum = sum + temp[i]\n",
    "    print('new sum',sum)\n",
    "print('\\nsum is',sum)"
   ]
  },
  {
   "cell_type": "code",
   "execution_count": 38,
   "id": "53ca91b9-0233-49ee-a6af-4c923eb4e612",
   "metadata": {},
   "outputs": [],
   "source": [
    "import numpy as np"
   ]
  },
  {
   "cell_type": "code",
   "execution_count": 41,
   "id": "fced327e-cbd6-439c-8ec2-5bf56d0187d8",
   "metadata": {},
   "outputs": [
    {
     "data": {
      "text/plain": [
       "28"
      ]
     },
     "execution_count": 41,
     "metadata": {},
     "output_type": "execute_result"
    }
   ],
   "source": [
    "# method 2\n",
    "# find sum of number in list\n",
    "np.sum(temp)"
   ]
  },
  {
   "cell_type": "code",
   "execution_count": 42,
   "id": "1cd4257b-a7cd-4e23-8489-22fab3f9dd8f",
   "metadata": {},
   "outputs": [
    {
     "name": "stdout",
     "output_type": "stream",
     "text": [
      "1\n",
      "2\n",
      "3\n",
      "4\n",
      "5\n",
      "5\n",
      "6\n",
      "7\n",
      "8\n",
      "9\n",
      "10\n"
     ]
    }
   ],
   "source": [
    "# generate 1 to 10 with 5 present in it 2 times\n",
    "# method 1\n",
    "for i in range(1,11):\n",
    "    if i == 5:\n",
    "        print(i)\n",
    "    print(i)"
   ]
  },
  {
   "cell_type": "markdown",
   "id": "615974d6-fe97-4b57-a362-7fbce18dea61",
   "metadata": {},
   "source": [
    "#### While Loop"
   ]
  },
  {
   "cell_type": "code",
   "execution_count": 1,
   "id": "b4c510e6-b79b-4c41-9d1d-776689acc6a4",
   "metadata": {
    "scrolled": true
   },
   "outputs": [
    {
     "name": "stdout",
     "output_type": "stream",
     "text": [
      "1\n",
      "2\n",
      "3\n",
      "4\n",
      "5\n",
      "5\n",
      "6\n",
      "7\n",
      "8\n",
      "9\n",
      "10\n"
     ]
    }
   ],
   "source": [
    "i = 1\n",
    "flag = 1\n",
    "while i < 11:\n",
    "    print(i)\n",
    "    if i == 5 and flag == 1:\n",
    "        i -= 1\n",
    "        flag = 0\n",
    "    i += 1\n",
    "    # i = i + 1 # same meaning as above line"
   ]
  },
  {
   "cell_type": "code",
   "execution_count": null,
   "id": "3b1d9583-9158-480e-baf1-cbcdb76376fb",
   "metadata": {},
   "outputs": [],
   "source": []
  }
 ],
 "metadata": {
  "kernelspec": {
   "display_name": "Python 3 (ipykernel)",
   "language": "python",
   "name": "python3"
  },
  "language_info": {
   "codemirror_mode": {
    "name": "ipython",
    "version": 3
   },
   "file_extension": ".py",
   "mimetype": "text/x-python",
   "name": "python",
   "nbconvert_exporter": "python",
   "pygments_lexer": "ipython3",
   "version": "3.11.4"
  }
 },
 "nbformat": 4,
 "nbformat_minor": 5
}
