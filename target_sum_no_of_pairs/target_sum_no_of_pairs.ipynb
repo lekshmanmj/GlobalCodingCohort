{
 "cells": [
  {
   "cell_type": "raw",
   "id": "e40b903f-34b2-4759-9b12-50bcbc0b9984",
   "metadata": {},
   "source": [
    "Problem\n",
    "Given a sorted list of any size and a target value\n",
    "Find the number of pairs(any 2 but not same) whose sum is equal to the target given.\n",
    "\n",
    "IO Samples\n",
    "1)  input_list = [1,2,3,4,5]\n",
    "    target = 5\n",
    "\n",
    "    Number of pairs = 2\n",
    "\n",
    "2)  input_list = [1,2,3,4,5]\n",
    "    target = 3\n",
    "\n",
    "    Number of pairs = 1"
   ]
  },
  {
   "cell_type": "code",
   "execution_count": 7,
   "id": "e7032f82-c2b7-4622-9e44-5e94a1065c93",
   "metadata": {},
   "outputs": [],
   "source": [
    "#solution\n",
    "\n",
    "def task(input_list,target):\n",
    "    no_of_pairs = 0\n",
    "    length_of_input = len(input_list)\n",
    "    for i in range(length_of_input):\n",
    "        for j in range(i+1,length_of_input):\n",
    "            if input_list[i] + input_list[j] == target:\n",
    "                no_of_pairs += 1\n",
    "    return no_of_pairs"
   ]
  },
  {
   "cell_type": "code",
   "execution_count": 8,
   "id": "88c85bf2-5813-4cad-b379-f8e74394a6a3",
   "metadata": {},
   "outputs": [
    {
     "name": "stdout",
     "output_type": "stream",
     "text": [
      "2\n",
      "4\n"
     ]
    }
   ],
   "source": [
    "for input_list, target in [[[1,2,3,4,5],5],[[1,2,3,4,5,6,7,8,9],10]]:\n",
    "    print(task(input_list,target))"
   ]
  },
  {
   "cell_type": "code",
   "execution_count": null,
   "id": "af3a33d1-0663-4460-99bf-1d256cf1d697",
   "metadata": {},
   "outputs": [],
   "source": []
  }
 ],
 "metadata": {
  "kernelspec": {
   "display_name": "Python 3 (ipykernel)",
   "language": "python",
   "name": "python3"
  },
  "language_info": {
   "codemirror_mode": {
    "name": "ipython",
    "version": 3
   },
   "file_extension": ".py",
   "mimetype": "text/x-python",
   "name": "python",
   "nbconvert_exporter": "python",
   "pygments_lexer": "ipython3",
   "version": "3.11.2"
  }
 },
 "nbformat": 4,
 "nbformat_minor": 5
}
