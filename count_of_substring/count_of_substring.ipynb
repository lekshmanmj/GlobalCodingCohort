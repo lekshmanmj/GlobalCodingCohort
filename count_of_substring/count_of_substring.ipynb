{
 "cells": [
  {
   "cell_type": "raw",
   "id": "62c2f59c-c9ac-427c-9e0b-3d552d1a14b8",
   "metadata": {},
   "source": [
    "Problem:\n",
    "find the count of given substring \"ss\" from the given string \"s\"\n",
    "Constraint:\n",
    "ss and s should only have lowercase letter as input\n",
    "\n",
    "IO Sample:\n",
    "\n",
    "Input 1:\n",
    "ss = 'app'\n",
    "s = 'this app is developed by team apple'"
   ]
  },
  {
   "cell_type": "code",
   "execution_count": 4,
   "id": "aeb6abe6-429e-470f-80cb-8c73585447f5",
   "metadata": {},
   "outputs": [
    {
     "data": {
      "text/plain": [
       "2"
      ]
     },
     "execution_count": 4,
     "metadata": {},
     "output_type": "execute_result"
    }
   ],
   "source": [
    "# solution\n",
    "ss = 'app'\n",
    "# s = 'this app is developed by a tpeam ipn apple head quarters.' # scenario 1\n",
    "s = 'this app is developed by a tpeam ipn apple head quarters.' # scenario 2\n",
    "\n",
    "length_s = len(s) # length of s\n",
    "length_ss = len(ss) # length of ss\n",
    "ss_count = 0 # final output counter\n",
    "i = 0 # index of s\n",
    "j = 0 # index of ss\n",
    "continous = 0\n",
    "while i < length_s: # loop run from 0 till len(s)-1 \n",
    "    if s[i] == ss[j]: # check by each letter if they are\n",
    "        continous += 1\n",
    "        j += 1\n",
    "    elif continous > 0: # to avoid wrong counting\n",
    "        continous = 0 \n",
    "        j = 0\n",
    "    if continous == length_ss: # \n",
    "        ss_count += 1\n",
    "        continous = 0\n",
    "        j = 0\n",
    "    i += 1\n",
    "ss_count"
   ]
  },
  {
   "cell_type": "code",
   "execution_count": null,
   "id": "5f742a50-a1eb-42d9-9288-8504cdf998d7",
   "metadata": {},
   "outputs": [],
   "source": []
  }
 ],
 "metadata": {
  "kernelspec": {
   "display_name": "Python 3 (ipykernel)",
   "language": "python",
   "name": "python3"
  },
  "language_info": {
   "codemirror_mode": {
    "name": "ipython",
    "version": 3
   },
   "file_extension": ".py",
   "mimetype": "text/x-python",
   "name": "python",
   "nbconvert_exporter": "python",
   "pygments_lexer": "ipython3",
   "version": "3.11.2"
  }
 },
 "nbformat": 4,
 "nbformat_minor": 5
}
