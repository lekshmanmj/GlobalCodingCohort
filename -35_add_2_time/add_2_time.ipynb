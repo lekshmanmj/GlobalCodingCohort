{
 "cells": [
  {
   "cell_type": "raw",
   "id": "44fb6c28-0208-429a-9bc6-705b8da369cc",
   "metadata": {},
   "source": [
    "Problem\n",
    "Add t time and i interval and return new_time\n",
    "\n",
    "Contraints:\n",
    "\n",
    "1. t will in 12hr format - HH:MM:SS (A/P)M\n",
    "2. i will be in hh:mm:ss format\n",
    "3. 0 <= hh <= 100\n",
    "4. 0 <= mm, MM <= 59\n",
    "5. 0 <= ss, SS <= 59\n",
    "6. 1 <= HH <= 12\n",
    "7. return new_time in 12hrs format HH_:MM_:SS_ M_\n",
    "\n",
    "Sample IO:\n",
    "\n",
    "1. t = 11:59:59 AM, i = 00:00:01 ==> new_time = 12:00:00 PM\n",
    "1. t = 11:59:59 AM, i = 24:00:00 ==> new_time = 11:59:59 AM\n",
    "\n"
   ]
  },
  {
   "cell_type": "code",
   "execution_count": 5,
   "id": "cbd00842-9506-4ed7-ba21-7948fcc66b9d",
   "metadata": {},
   "outputs": [],
   "source": [
    "def find_length(inp):\n",
    "    length = 0\n",
    "    while True:\n",
    "        try:\n",
    "            inp[length]\n",
    "            length += 1\n",
    "        except: break\n",
    "    return length"
   ]
  },
  {
   "cell_type": "code",
   "execution_count": 6,
   "id": "69b7acba-1cbd-4a6c-a1bd-2922c44e1bd3",
   "metadata": {},
   "outputs": [],
   "source": [
    "# sample input\n",
    "t = '11:59:59 PM'\n",
    "i = '1:00:00'"
   ]
  },
  {
   "cell_type": "code",
   "execution_count": 288,
   "id": "df1996fa-e7d8-4e21-a804-68dea0e9f9c2",
   "metadata": {},
   "outputs": [],
   "source": [
    "#solution\n",
    "\n",
    "#split numbers\n",
    "def calc_newtime(t,i):\n",
    "    M_ = 'None'\n",
    "    HH,MM,SS = t.split(':')\n",
    "    SS, M = SS.split(' ')\n",
    "    hh,mm,ss = i.split(':')\n",
    "    \n",
    "    # convert str to int\n",
    "    HH,MM,SS,hh,mm,ss = int(HH), int(MM), int(SS), int(hh), int(mm), int(ss)\n",
    "    \n",
    "    # for convience in solving\n",
    "    # converting HH to 24hr format\n",
    "    if M == 'PM' and 1 <= HH < 12:\n",
    "        HH += 12\n",
    "    if M == 'AM' and HH == 12:\n",
    "        HH = 0\n",
    "        \n",
    "    # add interval and time\n",
    "    SS_ = ss + SS\n",
    "    MM_ = mm + MM\n",
    "    HH_ = hh + HH\n",
    "    \n",
    "    # correcting time\n",
    "    if SS_ >=  60:\n",
    "        temp = SS_ - 60\n",
    "        SS_ = temp\n",
    "        MM_ += 1\n",
    "    if MM_ >= 60:\n",
    "        temp = MM_ - 60\n",
    "        MM_ = temp\n",
    "        HH_ += 1\n",
    "    \n",
    "    # correcting time\n",
    "    if HH_ > 24:\n",
    "        HH_ = HH_ % 24\n",
    "    elif HH_ == 24:\n",
    "        HH_ = 0\n",
    "        \n",
    "    if HH_ >= 12:\n",
    "        M_ ='PM'\n",
    "    else:\n",
    "        M_ = 'AM'\n",
    "\n",
    "    # converting back to 12hr format\n",
    "    if HH_ > 12:\n",
    "        HH_ = abs(HH_ - 12)\n",
    "    elif HH_ == 0:\n",
    "        HH_ = 12\n",
    "    \n",
    "    HH_ = str(HH_)\n",
    "    MM_ = str(MM_)\n",
    "    SS_ = str(SS_)\n",
    "    if find_length(HH_) == 1:\n",
    "        HH_ = '0' + HH_\n",
    "    if find_length(MM_) == 1:\n",
    "        MM_ = '0' + MM_\n",
    "    if find_length(SS_) == 1:\n",
    "        SS_ = '0' + SS_\n",
    "    return ':'.join([HH_,MM_,SS_]) + ' '+M_\n",
    "\n"
   ]
  },
  {
   "cell_type": "code",
   "execution_count": 289,
   "id": "d0ff6937-62e7-4b9c-89a7-b5a7a0050819",
   "metadata": {},
   "outputs": [
    {
     "data": {
      "text/plain": [
       "'12:57:00 PM'"
      ]
     },
     "execution_count": 289,
     "metadata": {},
     "output_type": "execute_result"
    }
   ],
   "source": [
    "calc_newtime(t = '12:01:59 PM', i = '00:55:01') # 12:57:00 PM"
   ]
  },
  {
   "cell_type": "code",
   "execution_count": 290,
   "id": "746691e8-ca04-4a3c-85da-036c830ed762",
   "metadata": {},
   "outputs": [
    {
     "data": {
      "text/plain": [
       "'03:00:00 AM'"
      ]
     },
     "execution_count": 290,
     "metadata": {},
     "output_type": "execute_result"
    }
   ],
   "source": [
    "calc_newtime(t = '03:00:00 PM', i = '12:00:00') # 03:00:00 AM"
   ]
  },
  {
   "cell_type": "code",
   "execution_count": 291,
   "id": "8f782a8e-d9bd-47fe-b128-21f441737358",
   "metadata": {},
   "outputs": [
    {
     "data": {
      "text/plain": [
       "'11:59:59 PM'"
      ]
     },
     "execution_count": 291,
     "metadata": {},
     "output_type": "execute_result"
    }
   ],
   "source": [
    "calc_newtime(t = '11:59:59 PM', i = '24:00:00') # 11:59:59 PM"
   ]
  },
  {
   "cell_type": "code",
   "execution_count": 292,
   "id": "eba0cf2b-2184-496a-ab8a-0655e7f865a6",
   "metadata": {},
   "outputs": [
    {
     "data": {
      "text/plain": [
       "'01:00:00 PM'"
      ]
     },
     "execution_count": 292,
     "metadata": {},
     "output_type": "execute_result"
    }
   ],
   "source": [
    "calc_newtime(t = '12:59:00 PM', i = '00:01:00') # 01:00:00 PM"
   ]
  },
  {
   "cell_type": "code",
   "execution_count": 293,
   "id": "24df4cc7-a1ce-4963-b11d-24e66adbcb8c",
   "metadata": {},
   "outputs": [
    {
     "data": {
      "text/plain": [
       "'12:00:00 PM'"
      ]
     },
     "execution_count": 293,
     "metadata": {},
     "output_type": "execute_result"
    }
   ],
   "source": [
    "calc_newtime(t = '12:00:00 PM', i = '24:00:00') # 12:00:00 PM"
   ]
  },
  {
   "cell_type": "code",
   "execution_count": 294,
   "id": "ceb3546d-eb8e-4d2c-b743-ce8efd54e9ed",
   "metadata": {},
   "outputs": [
    {
     "data": {
      "text/plain": [
       "'01:00:00 AM'"
      ]
     },
     "execution_count": 294,
     "metadata": {},
     "output_type": "execute_result"
    }
   ],
   "source": [
    "calc_newtime(t = '12:00:00 AM', i = '25:00:00') # 01:00:00 AM"
   ]
  },
  {
   "cell_type": "code",
   "execution_count": 295,
   "id": "09b329a8-3d5d-4e29-a607-349e0909faff",
   "metadata": {},
   "outputs": [
    {
     "data": {
      "text/plain": [
       "'12:00:00 AM'"
      ]
     },
     "execution_count": 295,
     "metadata": {},
     "output_type": "execute_result"
    }
   ],
   "source": [
    "calc_newtime(t = '12:00:00 AM', i = '24:00:00') # 12:00:00 AM"
   ]
  },
  {
   "cell_type": "code",
   "execution_count": 297,
   "id": "fcd08e3c-aea0-4649-915a-51d741e33487",
   "metadata": {},
   "outputs": [
    {
     "data": {
      "text/plain": [
       "'11:00:00 PM'"
      ]
     },
     "execution_count": 297,
     "metadata": {},
     "output_type": "execute_result"
    }
   ],
   "source": [
    "calc_newtime(t = '11:00:00 PM', i = '00:00:00') # 12:00:00 AM"
   ]
  },
  {
   "cell_type": "code",
   "execution_count": null,
   "id": "76c3e2bc-fe17-4003-98e2-3c3b7c79587f",
   "metadata": {},
   "outputs": [],
   "source": []
  },
  {
   "cell_type": "code",
   "execution_count": null,
   "id": "d5dd4872-10ce-45c9-b4aa-8620b1a81782",
   "metadata": {},
   "outputs": [],
   "source": []
  }
 ],
 "metadata": {
  "kernelspec": {
   "display_name": "Python 3 (ipykernel)",
   "language": "python",
   "name": "python3"
  },
  "language_info": {
   "codemirror_mode": {
    "name": "ipython",
    "version": 3
   },
   "file_extension": ".py",
   "mimetype": "text/x-python",
   "name": "python",
   "nbconvert_exporter": "python",
   "pygments_lexer": "ipython3",
   "version": "3.11.4"
  }
 },
 "nbformat": 4,
 "nbformat_minor": 5
}
