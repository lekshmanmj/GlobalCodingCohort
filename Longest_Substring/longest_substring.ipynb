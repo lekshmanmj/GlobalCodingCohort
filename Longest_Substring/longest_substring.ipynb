{
 "cells": [
  {
   "cell_type": "raw",
   "id": "ba73bea4-0528-4dfe-ad2f-56b53c5ca2f3",
   "metadata": {},
   "source": [
    "Problem\n",
    "Find the longest substring with no repeated letters from given string \"s\"\n",
    "\n",
    "Constraint:\n",
    "s should in lowercase\n",
    "\n",
    "IO Samples\n",
    "\n",
    "Input 1:\n",
    "s = 'aabccb'\n",
    "\n",
    "output 1:\n",
    "abc\n",
    "\n",
    "Input 2:\n",
    "s = 'aaaaa'\n",
    "\n",
    "Output 2:\n",
    "a"
   ]
  },
  {
   "cell_type": "code",
   "execution_count": 92,
   "id": "f2f0ee60-5126-49fd-b440-faef85d89332",
   "metadata": {},
   "outputs": [],
   "source": [
    "#solution\n",
    "\n",
    "def find_length_of_string(s):\n",
    "    length = 0\n",
    "    while True:\n",
    "        try: s[length]\n",
    "        except: break\n",
    "        length += 1\n",
    "    return length\n",
    "\n",
    "def update_longest_var(temp_substring,longest_substring):\n",
    "    new_length = find_length_of_string(temp_substring)\n",
    "    existing_length = find_length_of_string(longest_substring)\n",
    "    if new_length > existing_length:\n",
    "        return temp_substring\n",
    "    else: return longest_substring\n",
    "\n",
    "def find_longest_substring(s):\n",
    "    length_of_string = find_length_of_string(s)\n",
    "    i = 0\n",
    "    longest_substring = ''\n",
    "    temp_substring = ''\n",
    "    while i < length_of_string:\n",
    "        if s[i] not in temp_substring:\n",
    "            temp_substring += s[i]\n",
    "        else:\n",
    "            \n",
    "            longest_substring = update_longest_var(temp_substring,longest_substring)\n",
    "            temp_substring = ''\n",
    "            i -= 1\n",
    "        i += 1\n",
    "    longest_substring = update_longest_var(temp_substring,longest_substring)\n",
    "        \n",
    "    return longest_substring"
   ]
  },
  {
   "cell_type": "code",
   "execution_count": 93,
   "id": "b61b4ad0-2beb-4408-937e-91ee60c947cb",
   "metadata": {},
   "outputs": [
    {
     "data": {
      "text/plain": [
       "'cdef'"
      ]
     },
     "execution_count": 93,
     "metadata": {},
     "output_type": "execute_result"
    }
   ],
   "source": [
    "find_longest_substring('aaabccdefffff')"
   ]
  },
  {
   "cell_type": "code",
   "execution_count": 94,
   "id": "b78b2b3a-4f90-4f53-92bd-2ef64c991c06",
   "metadata": {},
   "outputs": [
    {
     "name": "stdout",
     "output_type": "stream",
     "text": [
      "testing a a\n",
      "testing aa a\n",
      "testing aaa a\n",
      "testing ab ab\n",
      "testing aab ab\n",
      "testing abb ab\n",
      "testing aaabccd abc\n",
      "testing aabbccdd ab\n",
      "testing aaabccdef cdef\n"
     ]
    }
   ],
   "source": [
    "for s in ['a','aa','aaa','ab','aab','abb','aaabccd','aabbccdd','aaabccdef']:\n",
    "    print('testing',s,find_longest_substring(s))"
   ]
  },
  {
   "cell_type": "code",
   "execution_count": null,
   "id": "73e87d16-8ba8-4227-88ff-628f99b50d7b",
   "metadata": {},
   "outputs": [],
   "source": []
  }
 ],
 "metadata": {
  "kernelspec": {
   "display_name": "Python 3 (ipykernel)",
   "language": "python",
   "name": "python3"
  },
  "language_info": {
   "codemirror_mode": {
    "name": "ipython",
    "version": 3
   },
   "file_extension": ".py",
   "mimetype": "text/x-python",
   "name": "python",
   "nbconvert_exporter": "python",
   "pygments_lexer": "ipython3",
   "version": "3.11.2"
  }
 },
 "nbformat": 4,
 "nbformat_minor": 5
}
