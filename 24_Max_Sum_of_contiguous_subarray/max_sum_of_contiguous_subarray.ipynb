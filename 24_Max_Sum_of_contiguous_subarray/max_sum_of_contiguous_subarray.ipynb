{
 "cells": [
  {
   "cell_type": "raw",
   "id": "6c764de9-887e-424d-8778-ecb09ede3222",
   "metadata": {},
   "source": [
    "problem\n",
    "Find the maximum sum of a contiguous subarray from the given input array \"arr\"\n",
    "\n",
    "Constraint:\n",
    "1 <= array_size <= 10\n",
    "-10 <= numbers_in_array <= 10\n",
    "\n",
    "Sample IO\n",
    "\n",
    "1.  input_list = [3,2,5,4,1]\n",
    "    max_sum is 15\n",
    "\n",
    "2.  input_list = [1]\n",
    "    max_sum is 1\n",
    "\n",
    "3.  input_list = [1,2,-1,4,5]\n",
    "    max_sum is 11\n",
    "\n",
    "4.  input_list = [-1,-2,-3,-4,-5]\n",
    "    max_sum is -1"
   ]
  },
  {
   "cell_type": "code",
   "execution_count": 47,
   "id": "0212d641-5952-412a-ae8e-058f6892b3df",
   "metadata": {},
   "outputs": [],
   "source": [
    "# solution\n",
    "input_list = [1,2,3,4,5]\n",
    "\n",
    "def find_max_sum(input_list):\n",
    "    input_length = len(input_list)\n",
    "    \n",
    "    max_sum = -11\n",
    "    \n",
    "    i = input_length\n",
    "    # print(i)\n",
    "    while i > 0:\n",
    "        curr_sum = -11\n",
    "        j = i\n",
    "        while j <= input_length:\n",
    "            start = j - i\n",
    "            end = j \n",
    "            curr_sum = sum(input_list[start:end])\n",
    "            if curr_sum > max_sum:\n",
    "                max_sum = curr_sum\n",
    "            # print(i,j,start,end,input_list[start:end],curr_sum)\n",
    "            j += 1\n",
    "        # print()\n",
    "        i -= 1\n",
    "    return max_sum"
   ]
  },
  {
   "cell_type": "code",
   "execution_count": 48,
   "id": "21eb511c-ef89-4a79-9751-2ca92d6948cb",
   "metadata": {},
   "outputs": [
    {
     "data": {
      "text/plain": [
       "9"
      ]
     },
     "execution_count": 48,
     "metadata": {},
     "output_type": "execute_result"
    }
   ],
   "source": [
    "find_max_sum([1,2,3,-1,-2,-3,4,5])"
   ]
  },
  {
   "cell_type": "code",
   "execution_count": 49,
   "id": "666b0b1d-25ea-447a-a998-f664fee53704",
   "metadata": {},
   "outputs": [
    {
     "name": "stdout",
     "output_type": "stream",
     "text": [
      "input [3, 2, 5, 4, 1] max_sum 15\n",
      "input [1] max_sum 1\n",
      "input [1, 2, -1, 4, 5] max_sum 11\n",
      "input [-1, -2, -3, -4, -5] max_sum -1\n",
      "input [1, 1, 1, 1, 1] max_sum 5\n",
      "input [1, 2, 3, -1, -2, -3, 4, 5] max_sum 9\n"
     ]
    }
   ],
   "source": [
    "for input_list in [[3,2,5,4,1],[1],[1,2,-1,4,5],[-1,-2,-3,-4,-5],\\\n",
    "                   [1,1,1,1,1],[1,2,3,-1,-2,-3,4,5]]:\n",
    "    print('input',input_list,'max_sum',find_max_sum(input_list))"
   ]
  },
  {
   "cell_type": "code",
   "execution_count": null,
   "id": "5373538f-9dd1-4d5a-baf6-6e3e8873cec4",
   "metadata": {},
   "outputs": [],
   "source": []
  }
 ],
 "metadata": {
  "kernelspec": {
   "display_name": "Python 3 (ipykernel)",
   "language": "python",
   "name": "python3"
  },
  "language_info": {
   "codemirror_mode": {
    "name": "ipython",
    "version": 3
   },
   "file_extension": ".py",
   "mimetype": "text/x-python",
   "name": "python",
   "nbconvert_exporter": "python",
   "pygments_lexer": "ipython3",
   "version": "3.11.4"
  }
 },
 "nbformat": 4,
 "nbformat_minor": 5
}
