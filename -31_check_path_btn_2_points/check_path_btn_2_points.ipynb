{
 "cells": [
  {
   "cell_type": "raw",
   "id": "3feb4bc3-21c4-43d7-938c-46420b409ce5",
   "metadata": {},
   "source": [
    "Problem:\n",
    "Python code to print if there is a path to connect two points in the given maze of size 5 x 5.\n",
    "\n",
    "Note:\n",
    ". is path\n",
    "# is wall\n",
    "0,0 is start point\n",
    "4,4 is end point\n",
    "\n",
    "Contraints:\n",
    "Only . or # should be present in input maze\n",
    ". must be present in 0,0 and 4,4\n",
    "\n",
    "Sample IO:\n",
    "Input 1:\n",
    ". . . # . \n",
    "# # . . # \n",
    "# . . . . \n",
    "# . . . . \n",
    ". . # # . \n",
    "Output 1: Path found\n",
    "\n",
    "Input 2:\n",
    ". # . . . \n",
    "# # # # # \n",
    ". . . . . \n",
    ". # . # . \n",
    "# # . # . \n",
    "Output 2: \n"
   ]
  },
  {
   "cell_type": "code",
   "execution_count": 57,
   "id": "288f7527-7cfb-4b39-86e4-a8f0b0730002",
   "metadata": {},
   "outputs": [
    {
     "name": "stdout",
     "output_type": "stream",
     "text": [
      ". . . # # \n",
      ". . # . # \n",
      ". . . # # \n",
      ". # # . . \n",
      ". # # # . \n",
      "\n"
     ]
    }
   ],
   "source": [
    "# generate input\n",
    "import numpy as np\n",
    "n = 5\n",
    "maze = np.random.choice(['.','.','#'], size = (n,n))\n",
    "maze_str = ''\n",
    "for i in range(n):\n",
    "    for j in range(n):\n",
    "        if i == j and i in [0,4]:\n",
    "            maze_str +='. '\n",
    "            maze[i][j] = '.'\n",
    "        else:\n",
    "            maze_str += maze[i][j] + ' '  \n",
    "    maze_str += '\\n'\n",
    "print(maze_str)"
   ]
  },
  {
   "cell_type": "code",
   "execution_count": 59,
   "id": "cb4430a2-1bc2-49c2-85db-20bb7657907a",
   "metadata": {},
   "outputs": [],
   "source": [
    "# path_found = False\n",
    "# visited = []\n",
    "# check_target()"
   ]
  },
  {
   "cell_type": "code",
   "execution_count": null,
   "id": "eb40629a-568b-4426-901f-8a5bfa9faf0f",
   "metadata": {},
   "outputs": [],
   "source": []
  },
  {
   "cell_type": "code",
   "execution_count": 32,
   "id": "ae394d06-642e-4b69-9070-7c09b6c2ded7",
   "metadata": {},
   "outputs": [],
   "source": [
    "# solution\n",
    "path_found = False\n",
    "visited = []\n",
    "def check_target(now=(0,0)):\n",
    "    if path_found == False:\n",
    "        visited.append(now)\n",
    "        i,j = now\n",
    "        if i == j == 4:\n",
    "            print('path found')\n",
    "        else:\n",
    "            north = i - 1\n",
    "            south = i + 1\n",
    "            east = j + 1\n",
    "            west = j - 1\n",
    "            if north >= 0:\n",
    "                if maze[north,j] != '#':\n",
    "                    next_point = (north,j)\n",
    "                    if next_point not in visited:\n",
    "                        check_target(next_point)\n",
    "            if south < n:\n",
    "                if maze[south,j] != '#':\n",
    "                    next_point = (south,j)\n",
    "                    if next_point not in visited:\n",
    "                        check_target(next_point)\n",
    "            if east < n:\n",
    "                if maze[i,east] != '#':\n",
    "                    next_point = (i,east)\n",
    "                    if next_point not in visited:\n",
    "                        check_target(next_point)\n",
    "            if west >= 0:\n",
    "                if maze[i,west] != '#':\n",
    "                    next_point = (i,west)\n",
    "                    if next_point not in visited:\n",
    "                        check_target(next_point)\n",
    "                        "
   ]
  },
  {
   "cell_type": "code",
   "execution_count": 60,
   "id": "2f7d12ed-0f32-4e34-8e08-2871e315912b",
   "metadata": {},
   "outputs": [],
   "source": [
    "check_target()"
   ]
  },
  {
   "cell_type": "code",
   "execution_count": null,
   "id": "791b4800-fb8c-4e56-a3eb-ebee690c0fa1",
   "metadata": {},
   "outputs": [],
   "source": []
  }
 ],
 "metadata": {
  "kernelspec": {
   "display_name": "Python 3 (ipykernel)",
   "language": "python",
   "name": "python3"
  },
  "language_info": {
   "codemirror_mode": {
    "name": "ipython",
    "version": 3
   },
   "file_extension": ".py",
   "mimetype": "text/x-python",
   "name": "python",
   "nbconvert_exporter": "python",
   "pygments_lexer": "ipython3",
   "version": "3.11.4"
  }
 },
 "nbformat": 4,
 "nbformat_minor": 5
}
