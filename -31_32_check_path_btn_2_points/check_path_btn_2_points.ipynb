{
 "cells": [
  {
   "cell_type": "raw",
   "id": "3feb4bc3-21c4-43d7-938c-46420b409ce5",
   "metadata": {},
   "source": [
    "Problem:\n",
    "Python code to print if there is a path or not, to connect two points in the given maze of size 5 x 5.\n",
    "Finally plot anyone path if any.\n",
    "\n",
    "Note:\n",
    ". is path\n",
    "# is wall\n",
    "0,0 is start point\n",
    "4,4 is end point\n",
    "\n",
    "Contraints:\n",
    "Only . or # should be present in input maze\n",
    ". must be present in 0,0 and 4,4\n",
    "\n",
    "Sample IO:\n",
    "Input 1:\n",
    ". → → # . \n",
    "# # ↓ . # \n",
    "# . ↓ . . \n",
    "# . → → → \n",
    ". . # # . \n",
    "Output 1: Path found\n",
    "s → → # . \n",
    "# # ↓ . # \n",
    "# . ↓ . . \n",
    "# . → → → \n",
    ". . # # d\n",
    "\n",
    "Input 2:\n",
    ". # . . . \n",
    "# # # # # \n",
    ". . . . . \n",
    ". # . # . \n",
    "# # . # . \n",
    "Output 2: Path not found\n",
    "\n",
    "\n",
    "↓ ↑ ← →"
   ]
  },
  {
   "cell_type": "code",
   "execution_count": 64,
   "id": "72365a6a-9fd1-48bb-85f4-e899a96209a7",
   "metadata": {},
   "outputs": [],
   "source": [
    "def find_length(trace):\n",
    "    length = 0\n",
    "    while True:\n",
    "        try:\n",
    "            trace[length]\n",
    "            length += 1\n",
    "        except: break\n",
    "    return length\n",
    "def beautify(maze,out=False):\n",
    "    maze_str = ''\n",
    "    for i in range(n):\n",
    "        for j in range(n):\n",
    "            if i == j and i in [0,4] and out == False:\n",
    "                maze[i][j] = '.'\n",
    "                maze_str +='. '\n",
    "            else:\n",
    "                maze_str += maze[i][j] + ' '  \n",
    "        maze_str += '\\n'\n",
    "    return maze_str"
   ]
  },
  {
   "cell_type": "code",
   "execution_count": 74,
   "id": "288f7527-7cfb-4b39-86e4-a8f0b0730002",
   "metadata": {},
   "outputs": [
    {
     "name": "stdout",
     "output_type": "stream",
     "text": [
      ". . # . # \n",
      ". # . . . \n",
      "# . # # . \n",
      ". . . . # \n",
      ". . . . . \n",
      "\n"
     ]
    }
   ],
   "source": [
    "# generate input\n",
    "import numpy as np\n",
    "n = 5\n",
    "maze = np.random.choice(['.','.','#'], size = (n,n))\n",
    "maze_str = beautify(maze)\n",
    "print(maze_str)"
   ]
  },
  {
   "cell_type": "code",
   "execution_count": 75,
   "id": "cb4430a2-1bc2-49c2-85db-20bb7657907a",
   "metadata": {},
   "outputs": [],
   "source": [
    "# path_found = False\n",
    "# visited = []\n",
    "# check_target()"
   ]
  },
  {
   "cell_type": "code",
   "execution_count": null,
   "id": "eb40629a-568b-4426-901f-8a5bfa9faf0f",
   "metadata": {},
   "outputs": [],
   "source": []
  },
  {
   "cell_type": "code",
   "execution_count": 76,
   "id": "ae394d06-642e-4b69-9070-7c09b6c2ded7",
   "metadata": {},
   "outputs": [],
   "source": [
    "# solution\n",
    "path_found = False\n",
    "visited = []\n",
    "trace = []\n",
    "def check_target(now=(0,0)):\n",
    "    if path_found == False:\n",
    "        visited.append(now)\n",
    "        i,j = now\n",
    "        if i == j == 4:\n",
    "            # print('path found')\n",
    "            return 'path found'\n",
    "        else:\n",
    "            north = i - 1\n",
    "            south = i + 1\n",
    "            east = j + 1\n",
    "            west = j - 1\n",
    "            if north >= 0:\n",
    "                if maze[north,j] != '#':\n",
    "                    next_point = (north,j)\n",
    "                    if next_point not in visited:\n",
    "                        trace.append([now,next_point])\n",
    "                        try:\n",
    "                            out = check_target(next_point)\n",
    "                        except: pass\n",
    "            if south < n:\n",
    "                if maze[south,j] != '#':\n",
    "                    next_point = (south,j)\n",
    "                    if next_point not in visited:\n",
    "                        trace.append([now,next_point])\n",
    "                        try:\n",
    "                            out = check_target(next_point)\n",
    "                        except: pass\n",
    "            if east < n:\n",
    "                if maze[i,east] != '#':\n",
    "                    next_point = (i,east)\n",
    "                    if next_point not in visited:\n",
    "                        trace.append([now,next_point])\n",
    "                        try:\n",
    "                            out = check_target(next_point)\n",
    "                        except: pass\n",
    "            if west >= 0:\n",
    "                if maze[i,west] != '#':\n",
    "                    next_point = (i,west)\n",
    "                    if next_point not in visited:\n",
    "                        trace.append([now,next_point])\n",
    "                        try:\n",
    "                            out = check_target(next_point)\n",
    "                        except: pass\n",
    "    return out "
   ]
  },
  {
   "cell_type": "code",
   "execution_count": 77,
   "id": "2f7d12ed-0f32-4e34-8e08-2871e315912b",
   "metadata": {},
   "outputs": [
    {
     "name": "stdout",
     "output_type": "stream",
     "text": [
      "Path not found\n"
     ]
    }
   ],
   "source": [
    "path_found = False\n",
    "visited = []\n",
    "trace = []\n",
    "# check_target()\n",
    "try:\n",
    "    out = check_target()\n",
    "    print(out)\n",
    "    \n",
    "    # to get final path\n",
    "    final_path = []    \n",
    "    prev = None\n",
    "    i = find_length(trace) - 1\n",
    "    while i >= 0:\n",
    "        curr = trace[i][-1]\n",
    "        if curr == (4,4):\n",
    "            prev = trace[i][0]\n",
    "            final_path.append(curr)\n",
    "            final_path.append(prev)\n",
    "        elif prev is not None:\n",
    "            if curr == prev:\n",
    "                prev = trace[i][0]\n",
    "                final_path.append(prev)  \n",
    "        i -= 1\n",
    "\n",
    "    #plotting path\n",
    "    i = find_length(final_path) - 2\n",
    "    maze[0][0] = 's'\n",
    "    maze[4,4] = 'd'\n",
    "    while i > 0:\n",
    "        prev = final_path[i+1]\n",
    "        curr = final_path[i]\n",
    "        if curr[0] == prev[0]:\n",
    "            if curr[1] > prev[1]:\n",
    "                maze[curr[0]][curr[1]] = '→'\n",
    "            else:\n",
    "                maze[curr[0]][curr[1]] = '←'\n",
    "        elif curr[1] == prev[1]:\n",
    "            if curr[0] > prev[0]:\n",
    "                maze[curr[0]][curr[1]] = '↓'\n",
    "            else:\n",
    "                maze[curr[0]][curr[1]] = '↑'\n",
    "        i -= 1\n",
    "\n",
    "    print(beautify(maze,out=True))\n",
    "except: print('Path not found')"
   ]
  },
  {
   "cell_type": "code",
   "execution_count": 59,
   "id": "00b1a274-6178-4007-a492-34e7c77f716e",
   "metadata": {},
   "outputs": [],
   "source": []
  },
  {
   "cell_type": "code",
   "execution_count": 60,
   "id": "bcd7266a-2a24-4155-b60f-dd5e75a264ab",
   "metadata": {},
   "outputs": [],
   "source": []
  },
  {
   "cell_type": "code",
   "execution_count": 65,
   "id": "2586687a-d82c-4e9d-a05f-f9736c4fbccd",
   "metadata": {},
   "outputs": [
    {
     "name": "stdout",
     "output_type": "stream",
     "text": [
      "s → → # # \n",
      "# # ↓ . . \n",
      ". . ↓ # # \n",
      ". # ↓ . # \n",
      ". # ↓ → d \n",
      "\n"
     ]
    }
   ],
   "source": []
  },
  {
   "cell_type": "code",
   "execution_count": null,
   "id": "9e251448-f34c-49a4-8a75-14d570f19958",
   "metadata": {},
   "outputs": [],
   "source": [
    "↓ ↑ ← →"
   ]
  }
 ],
 "metadata": {
  "kernelspec": {
   "display_name": "Python 3 (ipykernel)",
   "language": "python",
   "name": "python3"
  },
  "language_info": {
   "codemirror_mode": {
    "name": "ipython",
    "version": 3
   },
   "file_extension": ".py",
   "mimetype": "text/x-python",
   "name": "python",
   "nbconvert_exporter": "python",
   "pygments_lexer": "ipython3",
   "version": "3.11.4"
  }
 },
 "nbformat": 4,
 "nbformat_minor": 5
}
