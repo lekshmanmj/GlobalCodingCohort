{
 "cells": [
  {
   "cell_type": "raw",
   "id": "c55f3259-8762-491a-9687-6e5fd4839ee8",
   "metadata": {},
   "source": [
    "Problem statment\n",
    "print if the given string of brackets are valid or not based on the samples given below\n",
    "Constraint:\n",
    "()[]{} Only these symbols will be given\n",
    "\n",
    "Sample IO\n",
    "\n",
    "()   valid\n",
    "(]   invalid\n",
    "(){} valid\n",
    "()() valid\n",
    "(()) valid\n",
    "([)] invalid\n",
    "(()} invalid\n",
    "(    invalid\n",
    "\n",
    "Observation\n",
    "To declare a string a valid, any open bracket should be closed by a close bracket of its same type and also in proper order."
   ]
  },
  {
   "cell_type": "code",
   "execution_count": 1,
   "id": "1d54cb1b-925c-4ab2-ad09-a335dc1eb9a1",
   "metadata": {},
   "outputs": [],
   "source": [
    "# solution\n",
    "import numpy as np\n",
    "# def find_length(input):\n",
    "#     length = 0\n",
    "#     while True:\n",
    "#         try:\n",
    "#             input[length]\n",
    "#             length += 1\n",
    "#         except: break\n",
    "#     return length\n",
    "    \n",
    "def find_index(input,input_str):\n",
    "    i = 0\n",
    "    while True:\n",
    "        try:\n",
    "            if input_str[i] == input:\n",
    "                break\n",
    "            else: i += 1\n",
    "        except: break    \n",
    "    return i\n",
    "def find_minimum(a,b,c):\n",
    "    min = None\n",
    "    if a < b: min = (a,')')\n",
    "    else: min = (b,']')\n",
    "    if c < min[0]: min = (c,'}')\n",
    "    return min"
   ]
  },
  {
   "cell_type": "code",
   "execution_count": null,
   "id": "5a96a6fe-9f01-4e5e-b201-5ba09e843550",
   "metadata": {},
   "outputs": [],
   "source": []
  },
  {
   "cell_type": "code",
   "execution_count": 2,
   "id": "839b5539-ecf5-489b-8faa-ed6695defb31",
   "metadata": {},
   "outputs": [],
   "source": [
    "\n",
    "def check(input_str):\n",
    "    brackets = {'}':'{',')':'(',']':'['}\n",
    "    multi_sceraio_stop_flag = False\n",
    "    temp = input_str\n",
    "    while temp != '' and multi_sceraio_stop_flag == False:\n",
    "        close_ind = -1\n",
    "        round_close_ind, square_close_ind, curly_close_ind = np.inf,np.inf,np.inf\n",
    "        if ')' in temp: \n",
    "            round_close_ind = find_index(')',temp)\n",
    "        if ']' in temp: \n",
    "            square_close_ind = find_index(']',temp)\n",
    "        if '}' in temp: \n",
    "            curly_close_ind = find_index('}',temp)\n",
    "        \n",
    "        if round_close_ind == square_close_ind == curly_close_ind == np.inf:\n",
    "            multi_sceraio_stop_flag = True\n",
    "        else: \n",
    "            close_ind, bracket = find_minimum(round_close_ind,square_close_ind,curly_close_ind)\n",
    "            if close_ind > 0:\n",
    "                if temp[close_ind-1] == brackets[bracket]:\n",
    "                    # print(temp)\n",
    "                    temp = [each for each in temp]\n",
    "                    del(temp[close_ind])\n",
    "                    del(temp[close_ind-1])\n",
    "                    temp = ''.join(temp)\n",
    "                else: multi_sceraio_stop_flag = True\n",
    "            else: multi_sceraio_stop_flag = True\n",
    "    if temp == '' and multi_sceraio_stop_flag == False: return 'is valid'\n",
    "    else: return 'is invalid'"
   ]
  },
  {
   "cell_type": "code",
   "execution_count": 3,
   "id": "a01b874d-4010-4b99-b5ca-840327546d98",
   "metadata": {},
   "outputs": [
    {
     "data": {
      "text/plain": [
       "'is invalid'"
      ]
     },
     "execution_count": 3,
     "metadata": {},
     "output_type": "execute_result"
    }
   ],
   "source": [
    "check(')')"
   ]
  },
  {
   "cell_type": "code",
   "execution_count": 4,
   "id": "f2fe9e18-9d58-41d1-8e07-9ea3578e481d",
   "metadata": {},
   "outputs": [
    {
     "name": "stdout",
     "output_type": "stream",
     "text": [
      "( is invalid\n",
      ")( is invalid\n",
      "() is valid\n",
      "([ is invalid\n",
      "(()) is valid\n",
      "{([])} is valid\n",
      "()[] is valid\n",
      "([)] is invalid\n",
      "([] is invalid\n",
      "[]) is invalid\n"
     ]
    }
   ],
   "source": [
    "# test_cases\n",
    "for input_str in ['(',')(','()','([','(())','{([])}','()[]','([)]','([]','[])']:\n",
    "    print(input_str,check(input_str))"
   ]
  },
  {
   "cell_type": "code",
   "execution_count": null,
   "id": "801786c6-da1b-483d-8ba5-347ff60c5b36",
   "metadata": {},
   "outputs": [],
   "source": []
  }
 ],
 "metadata": {
  "kernelspec": {
   "display_name": "Python 3 (ipykernel)",
   "language": "python",
   "name": "python3"
  },
  "language_info": {
   "codemirror_mode": {
    "name": "ipython",
    "version": 3
   },
   "file_extension": ".py",
   "mimetype": "text/x-python",
   "name": "python",
   "nbconvert_exporter": "python",
   "pygments_lexer": "ipython3",
   "version": "3.11.4"
  }
 },
 "nbformat": 4,
 "nbformat_minor": 5
}
