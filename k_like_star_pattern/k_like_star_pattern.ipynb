{
 "cells": [
  {
   "cell_type": "raw",
   "id": "c3a9d2ac-17f5-4382-9915-4190e12a1a27",
   "metadata": {},
   "source": [
    "Problem:\n",
    "\n",
    "Write python code to print the pattern as shown in samples\n",
    "\n",
    "Constraint:\n",
    "1) 2 <= n <= 10\n",
    "2) Use only 2 loop\n",
    "\n",
    "IO Samples\n",
    "Input 1:\n",
    "n = 3\n",
    "\n",
    "Output 1:\n",
    "*  *  *\n",
    "*  *\n",
    "*\n",
    "*  *\n",
    "*  *  *"
   ]
  },
  {
   "cell_type": "code",
   "execution_count": 28,
   "id": "abd631e2-77ca-4da8-adc3-5202b06f54a6",
   "metadata": {},
   "outputs": [
    {
     "name": "stdout",
     "output_type": "stream",
     "text": [
      "*  *  *  \n",
      "*  *  \n",
      "*  \n",
      "*  *  \n",
      "*  *  *  \n"
     ]
    }
   ],
   "source": [
    "# solution\n",
    "n = 3 # input\n",
    "\n",
    "i = 0 # row counter\n",
    "half = False # to indicate if half of output is printed\n",
    "while i < n: # to count row\n",
    "    if half == False: # nested loop start stop for first half of output\n",
    "        start = i\n",
    "        stop = n\n",
    "    else: # nested loop start stop for second half of output\n",
    "        start = 0\n",
    "        stop = n - (n-1) + i\n",
    "    for j in range(start,stop): # to count column\n",
    "        print('*',end='  ') # to print start\n",
    "    print() # to print a new line\n",
    "    i += 1 # row counter\n",
    "    if i == n and half == False: # to change the flow one time after half output is ready\n",
    "        half = True # indicating first half of output is done\n",
    "        i = 1 # resetting i to 1 to yield n - 1 more times of loop\n"
   ]
  },
  {
   "cell_type": "code",
   "execution_count": 33,
   "id": "d12b9700-21d2-4789-ae2a-e4d06825bc5e",
   "metadata": {},
   "outputs": [
    {
     "name": "stdout",
     "output_type": "stream",
     "text": [
      "0  1  2  3  4  \n",
      "0  1  2  3  \n",
      "0  1  2  \n",
      "0  1  \n",
      "0  \n",
      "0  1  \n",
      "0  1  2  \n",
      "0  1  2  3  \n",
      "0  1  2  3  4  \n"
     ]
    }
   ],
   "source": [
    "# solution\n",
    "n = 5 # input\n",
    "\n",
    "i = 0 # row counter\n",
    "half = False # to indicate if half of output is printed\n",
    "while i < n: # to count row\n",
    "    if half == False: # nested loop start stop for first half of output\n",
    "        start = i\n",
    "        stop = n\n",
    "        adjust_output = i\n",
    "    else: # nested loop start stop for second half of output\n",
    "        start = 0\n",
    "        stop = n - (n-1) + i\n",
    "        adjust_output = 0\n",
    "    for j in range(start,stop): # to count column\n",
    "        print(j - adjust_output,end='  ') # to print start\n",
    "    print() # to print a new line\n",
    "    i += 1 # row counter\n",
    "    if i == n and half == False: # to change the flow one time after half output is ready\n",
    "        half = True # indicating first half of output is done\n",
    "        i = 1 # resetting i to 1 to yield n - 1 more times of loop\n"
   ]
  },
  {
   "cell_type": "raw",
   "id": "eb2c08c8-aee2-43fd-bfce-9b0359a5ca48",
   "metadata": {},
   "source": []
  }
 ],
 "metadata": {
  "kernelspec": {
   "display_name": "Python 3 (ipykernel)",
   "language": "python",
   "name": "python3"
  },
  "language_info": {
   "codemirror_mode": {
    "name": "ipython",
    "version": 3
   },
   "file_extension": ".py",
   "mimetype": "text/x-python",
   "name": "python",
   "nbconvert_exporter": "python",
   "pygments_lexer": "ipython3",
   "version": "3.11.2"
  }
 },
 "nbformat": 4,
 "nbformat_minor": 5
}
