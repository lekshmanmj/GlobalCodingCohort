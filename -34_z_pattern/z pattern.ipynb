{
 "cells": [
  {
   "cell_type": "raw",
   "id": "23989ebc-5d65-4d52-a6fd-56ed260178bb",
   "metadata": {},
   "source": [
    "Problem:\n",
    "Print Z pattern of given size \"s\" where 3 <= s <= 10\n",
    "\n",
    "Sample IO:\n",
    "Input 1:\n",
    "s = 3\n",
    "Output 1:\n",
    "* * *\n",
    "  *\n",
    "* * *\n",
    "\n",
    "Input 2:\n",
    "s = 4\n",
    "Output 2:\n",
    "* * * *\n",
    "    *\n",
    "  *\n",
    "* * * * "
   ]
  },
  {
   "cell_type": "code",
   "execution_count": 17,
   "id": "4fdd43b9-820a-48ca-8f87-f9f7eab7e20c",
   "metadata": {},
   "outputs": [
    {
     "name": "stdout",
     "output_type": "stream",
     "text": [
      "* * * * * * * * * \n",
      "              *   \n",
      "            *     \n",
      "          *       \n",
      "        *         \n",
      "      *           \n",
      "    *             \n",
      "  *               \n",
      "* * * * * * * * * \n"
     ]
    }
   ],
   "source": [
    "# solution\n",
    "s = 5\n",
    "cross = s - 1\n",
    "for i in range(s): # row control\n",
    "    for j in range(s): # column ctrl\n",
    "        if i not in [0,s-1]:\n",
    "            if j != cross:\n",
    "                print(' ',end=' ')\n",
    "            else:\n",
    "                print('*',end=' ')\n",
    "        else: \n",
    "            print('*',end=' ')\n",
    "    cross -= 1\n",
    "    print()"
   ]
  },
  {
   "cell_type": "code",
   "execution_count": 10,
   "id": "6eb733a6-8434-4a9a-a211-ae02a452b4fd",
   "metadata": {},
   "outputs": [
    {
     "data": {
      "text/plain": [
       "-5"
      ]
     },
     "execution_count": 10,
     "metadata": {},
     "output_type": "execute_result"
    }
   ],
   "source": [
    "cross"
   ]
  },
  {
   "cell_type": "code",
   "execution_count": null,
   "id": "07fc772d-23bc-4a14-a237-c405204d0b8f",
   "metadata": {},
   "outputs": [],
   "source": []
  }
 ],
 "metadata": {
  "kernelspec": {
   "display_name": "Python 3 (ipykernel)",
   "language": "python",
   "name": "python3"
  },
  "language_info": {
   "codemirror_mode": {
    "name": "ipython",
    "version": 3
   },
   "file_extension": ".py",
   "mimetype": "text/x-python",
   "name": "python",
   "nbconvert_exporter": "python",
   "pygments_lexer": "ipython3",
   "version": "3.11.4"
  }
 },
 "nbformat": 4,
 "nbformat_minor": 5
}
