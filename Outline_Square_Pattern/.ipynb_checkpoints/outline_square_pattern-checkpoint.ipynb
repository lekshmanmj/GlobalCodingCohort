{
 "cells": [
  {
   "cell_type": "raw",
   "id": "913a95fd-e34d-4b5a-a48d-1a3479512add",
   "metadata": {},
   "source": [
    "Problem\n",
    "Print Outline Square pattern of size n, where 2 < n <= 10\n",
    "\n",
    "IO Samples\n",
    "\n",
    "Input 1:\n",
    "n = 3\n",
    "\n",
    "Output 1:\n",
    "*  *  *\n",
    "*     *\n",
    "*  *  *\n",
    "\n",
    "Input 2:\n",
    "n = 5\n",
    "\n",
    "output 2:\n",
    "*  *  *  *  *\n",
    "*           *\n",
    "*           *\n",
    "*           *\n",
    "*  *  *  *  *"
   ]
  },
  {
   "cell_type": "code",
   "execution_count": 3,
   "id": "8892f68c-eb71-49cb-bb2e-0aff9cf0687c",
   "metadata": {},
   "outputs": [
    {
     "name": "stdout",
     "output_type": "stream",
     "text": [
      "*  *  *  *  \n",
      "*        *  \n",
      "*        *  \n",
      "*  *  *  *  \n"
     ]
    }
   ],
   "source": [
    "# solution\n",
    "n = 4\n",
    "for i in range(n):\n",
    "    for j in range(n):\n",
    "        if i in [0,n-1]: print('*', end = '  ')\n",
    "        else:\n",
    "            if j in [0,n-1]: print('*', end = '  ')\n",
    "            else: print(' ',end='  ')\n",
    "    print()"
   ]
  },
  {
   "cell_type": "raw",
   "id": "e1a7c3e8-c80f-4440-93af-7547dca701d2",
   "metadata": {},
   "source": [
    "Assignment for you\n",
    "Try to code in a different way\n",
    "Email working solution only to lekshmanmj001@gmail.com"
   ]
  }
 ],
 "metadata": {
  "kernelspec": {
   "display_name": "Python 3 (ipykernel)",
   "language": "python",
   "name": "python3"
  },
  "language_info": {
   "codemirror_mode": {
    "name": "ipython",
    "version": 3
   },
   "file_extension": ".py",
   "mimetype": "text/x-python",
   "name": "python",
   "nbconvert_exporter": "python",
   "pygments_lexer": "ipython3",
   "version": "3.11.2"
  }
 },
 "nbformat": 4,
 "nbformat_minor": 5
}
