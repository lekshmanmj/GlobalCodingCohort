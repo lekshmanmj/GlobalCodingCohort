{
 "cells": [
  {
   "cell_type": "raw",
   "id": "a3468f8a-0b6b-4258-9d58-0bd70eabaa33",
   "metadata": {},
   "source": [
    "Problem:\n",
    "\n",
    "Generate n number of fibonacci series, where 1 <= n <= 100\n",
    "\n",
    "Samples:\n",
    "\n",
    "Input 1:\n",
    "n = 1\n",
    "\n",
    "Output 1:\n",
    "0\n",
    "\n",
    "Input 2:\n",
    "n = 5\n",
    "\n",
    "Output 2:\n",
    "0\n",
    "1\n",
    "1\n",
    "2\n",
    "3"
   ]
  },
  {
   "cell_type": "code",
   "execution_count": 8,
   "id": "34ed03ca-2221-4294-9a91-217713ceecb2",
   "metadata": {},
   "outputs": [
    {
     "name": "stdout",
     "output_type": "stream",
     "text": [
      "0\n"
     ]
    }
   ],
   "source": [
    "# solution\n",
    "n = 1\n",
    "\n",
    "second_last = 0 \n",
    "last = 1\n",
    "\n",
    "if n == 1: print(second_last)\n",
    "elif n >= 2:\n",
    "    print(second_last)\n",
    "    print(last)\n",
    "    \n",
    "for i in range(n-2):\n",
    "    new = second_last + last\n",
    "    second_last = last\n",
    "    last = new\n",
    "    print(last)"
   ]
  },
  {
   "cell_type": "raw",
   "id": "90c64fd7-b918-44b0-bd62-d5659e8eded7",
   "metadata": {},
   "source": [
    "# frame a new solution in another way if possible and send it to my gmail\n",
    "# Email ID: lekshmanmj001@gmail.com"
   ]
  },
  {
   "cell_type": "code",
   "execution_count": null,
   "id": "656fc771-fd67-4e97-99b8-09805c200cb5",
   "metadata": {},
   "outputs": [],
   "source": []
  }
 ],
 "metadata": {
  "kernelspec": {
   "display_name": "Python 3 (ipykernel)",
   "language": "python",
   "name": "python3"
  },
  "language_info": {
   "codemirror_mode": {
    "name": "ipython",
    "version": 3
   },
   "file_extension": ".py",
   "mimetype": "text/x-python",
   "name": "python",
   "nbconvert_exporter": "python",
   "pygments_lexer": "ipython3",
   "version": "3.11.4"
  }
 },
 "nbformat": 4,
 "nbformat_minor": 5
}
