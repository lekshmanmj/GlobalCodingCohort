{
 "cells": [
  {
   "cell_type": "raw",
   "id": "18cade5e-b782-490f-891c-bea8f91e65c6",
   "metadata": {},
   "source": [
    "Problem\n",
    "\n",
    "Print Filled Square Pattern of size n, where 1 < n <= 10.\n",
    "\n",
    "IO Samples\n",
    "\n",
    "Input 1:\n",
    "n = 2\n",
    "\n",
    "Output 1:\n",
    "*  *\n",
    "*  *\n",
    "\n",
    "Input 2:\n",
    "n = 3\n",
    "\n",
    "Output 2:\n",
    "*  *  *\n",
    "*  *  *\n",
    "*  *  *"
   ]
  },
  {
   "cell_type": "code",
   "execution_count": 7,
   "id": "e4116506-af47-4d44-9783-25c7cd073be3",
   "metadata": {},
   "outputs": [
    {
     "name": "stdout",
     "output_type": "stream",
     "text": [
      "*  *  *  *  *  \n",
      "*  *  *  *  *  \n",
      "*  *  *  *  *  \n",
      "*  *  *  *  *  \n",
      "*  *  *  *  *  \n"
     ]
    }
   ],
   "source": [
    "# solution\n",
    "n = 5\n",
    "for i in range(n):\n",
    "    for j in range(n):\n",
    "        print('*', end = '  ')\n",
    "    print()\n",
    "# its time complexity is O[n^2]"
   ]
  },
  {
   "cell_type": "raw",
   "id": "0e7a1060-87bf-466f-a1f0-d3ae6cfb13a1",
   "metadata": {},
   "source": [
    "Assignment for you\n",
    "Try to code in a different way\n",
    "Email to lekshmanmj001@gmail.com"
   ]
  },
  {
   "cell_type": "code",
   "execution_count": null,
   "id": "12fa4cd2-ffe1-421e-ab83-ce6f38c8d777",
   "metadata": {},
   "outputs": [],
   "source": []
  }
 ],
 "metadata": {
  "kernelspec": {
   "display_name": "Python 3 (ipykernel)",
   "language": "python",
   "name": "python3"
  },
  "language_info": {
   "codemirror_mode": {
    "name": "ipython",
    "version": 3
   },
   "file_extension": ".py",
   "mimetype": "text/x-python",
   "name": "python",
   "nbconvert_exporter": "python",
   "pygments_lexer": "ipython3",
   "version": "3.11.2"
  }
 },
 "nbformat": 4,
 "nbformat_minor": 5
}
