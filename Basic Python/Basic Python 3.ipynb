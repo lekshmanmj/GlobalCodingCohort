{
 "cells": [
  {
   "cell_type": "code",
   "execution_count": 3,
   "id": "eb6c9873-df18-4847-af0b-781e66816fb5",
   "metadata": {},
   "outputs": [
    {
     "name": "stdin",
     "output_type": "stream",
     "text": [
      "Write your username -:  1\n"
     ]
    },
    {
     "name": "stdout",
     "output_type": "stream",
     "text": [
      "Om do not have access to the database \t\t\tonly for the api code.\n"
     ]
    },
    {
     "ename": "KeyboardInterrupt",
     "evalue": "Interrupted by user",
     "output_type": "error",
     "traceback": [
      "\u001b[0;31m---------------------------------------------------------------------------\u001b[0m",
      "\u001b[0;31mKeyboardInterrupt\u001b[0m                         Traceback (most recent call last)",
      "Cell \u001b[0;32mIn[3], line 31\u001b[0m\n\u001b[1;32m     29\u001b[0m \u001b[38;5;28;01mif\u001b[39;00m \u001b[38;5;18m__name__\u001b[39m \u001b[38;5;241m==\u001b[39m \u001b[38;5;124m\"\u001b[39m\u001b[38;5;124m__main__\u001b[39m\u001b[38;5;124m\"\u001b[39m:\n\u001b[1;32m     30\u001b[0m \t\u001b[38;5;28;01mfor\u001b[39;00m _ \u001b[38;5;129;01min\u001b[39;00m \u001b[38;5;28mrange\u001b[39m(\u001b[38;5;241m3\u001b[39m):\n\u001b[0;32m---> 31\u001b[0m \t\t\u001b[43mrunMatch\u001b[49m\u001b[43m(\u001b[49m\u001b[43m)\u001b[49m\n",
      "Cell \u001b[0;32mIn[3], line 9\u001b[0m, in \u001b[0;36mrunMatch\u001b[0;34m()\u001b[0m\n\u001b[1;32m      8\u001b[0m \u001b[38;5;28;01mdef\u001b[39;00m \u001b[38;5;21mrunMatch\u001b[39m():\n\u001b[0;32m----> 9\u001b[0m \tuser \u001b[38;5;241m=\u001b[39m \u001b[38;5;28mint\u001b[39m(\u001b[38;5;28;43minput\u001b[39;49m\u001b[43m(\u001b[49m\u001b[38;5;124;43m\"\u001b[39;49m\u001b[38;5;124;43mWrite your username -: \u001b[39;49m\u001b[38;5;124;43m\"\u001b[39;49m\u001b[43m)\u001b[49m)\n\u001b[1;32m     11\u001b[0m \t\u001b[38;5;66;03m# match statement starts here .\u001b[39;00m\n\u001b[1;32m     12\u001b[0m \t\u001b[38;5;28;01mmatch\u001b[39;00m user:\n",
      "File \u001b[0;32m~/anaconda3/lib/python3.11/site-packages/ipykernel/kernelbase.py:1262\u001b[0m, in \u001b[0;36mKernel.raw_input\u001b[0;34m(self, prompt)\u001b[0m\n\u001b[1;32m   1260\u001b[0m     msg \u001b[38;5;241m=\u001b[39m \u001b[38;5;124m\"\u001b[39m\u001b[38;5;124mraw_input was called, but this frontend does not support input requests.\u001b[39m\u001b[38;5;124m\"\u001b[39m\n\u001b[1;32m   1261\u001b[0m     \u001b[38;5;28;01mraise\u001b[39;00m StdinNotImplementedError(msg)\n\u001b[0;32m-> 1262\u001b[0m \u001b[38;5;28;01mreturn\u001b[39;00m \u001b[38;5;28;43mself\u001b[39;49m\u001b[38;5;241;43m.\u001b[39;49m\u001b[43m_input_request\u001b[49m\u001b[43m(\u001b[49m\n\u001b[1;32m   1263\u001b[0m \u001b[43m    \u001b[49m\u001b[38;5;28;43mstr\u001b[39;49m\u001b[43m(\u001b[49m\u001b[43mprompt\u001b[49m\u001b[43m)\u001b[49m\u001b[43m,\u001b[49m\n\u001b[1;32m   1264\u001b[0m \u001b[43m    \u001b[49m\u001b[38;5;28;43mself\u001b[39;49m\u001b[38;5;241;43m.\u001b[39;49m\u001b[43m_parent_ident\u001b[49m\u001b[43m[\u001b[49m\u001b[38;5;124;43m\"\u001b[39;49m\u001b[38;5;124;43mshell\u001b[39;49m\u001b[38;5;124;43m\"\u001b[39;49m\u001b[43m]\u001b[49m\u001b[43m,\u001b[49m\n\u001b[1;32m   1265\u001b[0m \u001b[43m    \u001b[49m\u001b[38;5;28;43mself\u001b[39;49m\u001b[38;5;241;43m.\u001b[39;49m\u001b[43mget_parent\u001b[49m\u001b[43m(\u001b[49m\u001b[38;5;124;43m\"\u001b[39;49m\u001b[38;5;124;43mshell\u001b[39;49m\u001b[38;5;124;43m\"\u001b[39;49m\u001b[43m)\u001b[49m\u001b[43m,\u001b[49m\n\u001b[1;32m   1266\u001b[0m \u001b[43m    \u001b[49m\u001b[43mpassword\u001b[49m\u001b[38;5;241;43m=\u001b[39;49m\u001b[38;5;28;43;01mFalse\u001b[39;49;00m\u001b[43m,\u001b[49m\n\u001b[1;32m   1267\u001b[0m \u001b[43m\u001b[49m\u001b[43m)\u001b[49m\n",
      "File \u001b[0;32m~/anaconda3/lib/python3.11/site-packages/ipykernel/kernelbase.py:1305\u001b[0m, in \u001b[0;36mKernel._input_request\u001b[0;34m(self, prompt, ident, parent, password)\u001b[0m\n\u001b[1;32m   1302\u001b[0m \u001b[38;5;28;01mexcept\u001b[39;00m \u001b[38;5;167;01mKeyboardInterrupt\u001b[39;00m:\n\u001b[1;32m   1303\u001b[0m     \u001b[38;5;66;03m# re-raise KeyboardInterrupt, to truncate traceback\u001b[39;00m\n\u001b[1;32m   1304\u001b[0m     msg \u001b[38;5;241m=\u001b[39m \u001b[38;5;124m\"\u001b[39m\u001b[38;5;124mInterrupted by user\u001b[39m\u001b[38;5;124m\"\u001b[39m\n\u001b[0;32m-> 1305\u001b[0m     \u001b[38;5;28;01mraise\u001b[39;00m \u001b[38;5;167;01mKeyboardInterrupt\u001b[39;00m(msg) \u001b[38;5;28;01mfrom\u001b[39;00m \u001b[38;5;28;01mNone\u001b[39;00m\n\u001b[1;32m   1306\u001b[0m \u001b[38;5;28;01mexcept\u001b[39;00m \u001b[38;5;167;01mException\u001b[39;00m:\n\u001b[1;32m   1307\u001b[0m     \u001b[38;5;28mself\u001b[39m\u001b[38;5;241m.\u001b[39mlog\u001b[38;5;241m.\u001b[39mwarning(\u001b[38;5;124m\"\u001b[39m\u001b[38;5;124mInvalid Message:\u001b[39m\u001b[38;5;124m\"\u001b[39m, exc_info\u001b[38;5;241m=\u001b[39m\u001b[38;5;28;01mTrue\u001b[39;00m)\n",
      "\u001b[0;31mKeyboardInterrupt\u001b[0m: Interrupted by user"
     ]
    }
   ],
   "source": [
    "def provideAccess(user):\n",
    "\treturn {\n",
    "\t\t\"username\": user,\n",
    "\t\t\"password\": \"admin\"\n",
    "\t}\n",
    "\n",
    "\n",
    "def runMatch():\n",
    "\tuser = int(input(\"Write your username -: \"))\n",
    "\n",
    "\t# match statement starts here .\n",
    "\tmatch user:\n",
    "\t\tcase 1:\n",
    "\t\t\tprint(\"Om do not have access to the database \\\n",
    "\t\t\tonly for the api code.\")\n",
    "\t\tcase \"Vishal\":\n",
    "\t\t\tprint(\n",
    "\t\t\t\t\"Vishal do not have access to the database , \\\n",
    "\t\t\t\tonly for the frontend code.\")\n",
    "\n",
    "\t\tcase \"Rishabh\":\n",
    "\t\t\tprint(\"Rishabh have the access to the database\")\n",
    "\t\t\tprint(provideAccess(\"Rishabh\"))\n",
    "\n",
    "\t\tcase _:\n",
    "\t\t\tprint(\"You do not have any access to the code\")\n",
    "\n",
    "\n",
    "if __name__ == \"__main__\":\n",
    "\tfor _ in range(3):\n",
    "\t\trunMatch()\n"
   ]
  },
  {
   "cell_type": "code",
   "execution_count": 7,
   "id": "2ff4dfb2-4f28-45f7-a2b5-2f87e35269e8",
   "metadata": {},
   "outputs": [
    {
     "name": "stdout",
     "output_type": "stream",
     "text": [
      "a\n",
      "1\n",
      "True\n",
      "b\n"
     ]
    }
   ],
   "source": [
    "for each in ['a',1,True,'b',20,'z']:\n",
    "    print(each)\n",
    "    if each == 'b':\n",
    "        break"
   ]
  },
  {
   "cell_type": "code",
   "execution_count": 10,
   "id": "3e9575ee-87ea-447e-98c7-d45755b687bc",
   "metadata": {},
   "outputs": [
    {
     "name": "stdout",
     "output_type": "stream",
     "text": [
      "first a\n",
      "second a\n",
      "first 1\n",
      "second 1\n",
      "first True\n",
      "second True\n",
      "first b\n",
      "first 20\n",
      "second 20\n",
      "first z\n",
      "second z\n"
     ]
    }
   ],
   "source": [
    "for each in ['a',1,True,'b',20,'z']:\n",
    "    print('first',each)\n",
    "    if each == 'b':\n",
    "        continue\n",
    "    print('second',each)"
   ]
  },
  {
   "cell_type": "code",
   "execution_count": null,
   "id": "03cf29b7-bdf4-4501-8fb0-8c3759aeb8ea",
   "metadata": {},
   "outputs": [],
   "source": [
    "# pass"
   ]
  },
  {
   "cell_type": "code",
   "execution_count": 17,
   "id": "a73147fa-2927-4dca-91b2-7b87ac218bf8",
   "metadata": {},
   "outputs": [
    {
     "name": "stdout",
     "output_type": "stream",
     "text": [
      "1\n",
      "name 'a' is not defined\n"
     ]
    }
   ],
   "source": [
    "# Exception handling\n",
    "print(1)\n",
    "try:\n",
    "    a\n",
    "    print(2)\n",
    "except Exception as e: print(e)"
   ]
  },
  {
   "cell_type": "code",
   "execution_count": 16,
   "id": "351ac9ed-c7d9-4089-853e-130a77ac2ce1",
   "metadata": {},
   "outputs": [
    {
     "name": "stdout",
     "output_type": "stream",
     "text": [
      "1\n"
     ]
    },
    {
     "ename": "NameError",
     "evalue": "name 'a' is not defined",
     "output_type": "error",
     "traceback": [
      "\u001b[0;31m---------------------------------------------------------------------------\u001b[0m",
      "\u001b[0;31mNameError\u001b[0m                                 Traceback (most recent call last)",
      "Cell \u001b[0;32mIn[16], line 2\u001b[0m\n\u001b[1;32m      1\u001b[0m \u001b[38;5;28mprint\u001b[39m(\u001b[38;5;241m1\u001b[39m)\n\u001b[0;32m----> 2\u001b[0m \u001b[43ma\u001b[49m\n\u001b[1;32m      3\u001b[0m \u001b[38;5;28mprint\u001b[39m(\u001b[38;5;241m2\u001b[39m)\n\u001b[1;32m      4\u001b[0m \u001b[38;5;28mprint\u001b[39m(\u001b[38;5;241m3\u001b[39m)\n",
      "\u001b[0;31mNameError\u001b[0m: name 'a' is not defined"
     ]
    }
   ],
   "source": [
    "print(1)\n",
    "try:\n",
    "    a\n",
    "    print(2)\n",
    "except NameError: \n",
    "    a = 1\n",
    "except Exception as e: print(e)"
   ]
  },
  {
   "cell_type": "code",
   "execution_count": 24,
   "id": "e6fc482f-837b-4ddb-9b76-73279bc1695c",
   "metadata": {},
   "outputs": [],
   "source": [
    "# functions\n",
    "def sample():\n",
    "    print('a')"
   ]
  },
  {
   "cell_type": "code",
   "execution_count": 25,
   "id": "9e7828bc-bc60-49c8-a610-eb36a73807dd",
   "metadata": {},
   "outputs": [],
   "source": [
    "def sample():\n",
    "    return 'apple'"
   ]
  },
  {
   "cell_type": "code",
   "execution_count": 21,
   "id": "974dd052-4afb-4c2c-9d7f-190fab197a1a",
   "metadata": {},
   "outputs": [],
   "source": [
    "temp = sample()"
   ]
  },
  {
   "cell_type": "code",
   "execution_count": 62,
   "id": "a498e668-59af-4fe4-9f88-a0437f250539",
   "metadata": {},
   "outputs": [],
   "source": [
    "def addition(a: int,b: int) -> int:\n",
    "    return a+b"
   ]
  },
  {
   "cell_type": "code",
   "execution_count": 64,
   "id": "437c2403-01d8-43d5-abf9-611fbb3dde09",
   "metadata": {},
   "outputs": [
    {
     "ename": "TypeError",
     "evalue": "unsupported operand type(s) for +: 'int' and 'str'",
     "output_type": "error",
     "traceback": [
      "\u001b[0;31m---------------------------------------------------------------------------\u001b[0m",
      "\u001b[0;31mTypeError\u001b[0m                                 Traceback (most recent call last)",
      "Cell \u001b[0;32mIn[64], line 1\u001b[0m\n\u001b[0;32m----> 1\u001b[0m \u001b[43maddition\u001b[49m\u001b[43m(\u001b[49m\u001b[38;5;241;43m1\u001b[39;49m\u001b[43m,\u001b[49m\u001b[38;5;124;43m'\u001b[39;49m\u001b[38;5;124;43m1500\u001b[39;49m\u001b[38;5;124;43m'\u001b[39;49m\u001b[43m)\u001b[49m\n",
      "Cell \u001b[0;32mIn[62], line 2\u001b[0m, in \u001b[0;36maddition\u001b[0;34m(a, b)\u001b[0m\n\u001b[1;32m      1\u001b[0m \u001b[38;5;28;01mdef\u001b[39;00m \u001b[38;5;21maddition\u001b[39m(a: \u001b[38;5;28mint\u001b[39m,b: \u001b[38;5;28mint\u001b[39m) \u001b[38;5;241m-\u001b[39m\u001b[38;5;241m>\u001b[39m \u001b[38;5;28mint\u001b[39m:\n\u001b[0;32m----> 2\u001b[0m     \u001b[38;5;28;01mreturn\u001b[39;00m \u001b[43ma\u001b[49m\u001b[38;5;241;43m+\u001b[39;49m\u001b[43mb\u001b[49m\n",
      "\u001b[0;31mTypeError\u001b[0m: unsupported operand type(s) for +: 'int' and 'str'"
     ]
    }
   ],
   "source": [
    "addition(1,'1500')"
   ]
  },
  {
   "cell_type": "code",
   "execution_count": 29,
   "id": "ac9d143d-417b-4949-82ba-a903dccb1bb1",
   "metadata": {},
   "outputs": [
    {
     "ename": "TypeError",
     "evalue": "addition() missing 1 required positional argument: 'b'",
     "output_type": "error",
     "traceback": [
      "\u001b[0;31m---------------------------------------------------------------------------\u001b[0m",
      "\u001b[0;31mTypeError\u001b[0m                                 Traceback (most recent call last)",
      "Cell \u001b[0;32mIn[29], line 1\u001b[0m\n\u001b[0;32m----> 1\u001b[0m \u001b[43maddition\u001b[49m\u001b[43m(\u001b[49m\u001b[38;5;241;43m1\u001b[39;49m\u001b[43m)\u001b[49m\n",
      "\u001b[0;31mTypeError\u001b[0m: addition() missing 1 required positional argument: 'b'"
     ]
    }
   ],
   "source": [
    "addition(1)"
   ]
  },
  {
   "cell_type": "code",
   "execution_count": 30,
   "id": "df5c8f6a-e39d-4973-bce2-9684c6d266c2",
   "metadata": {},
   "outputs": [],
   "source": [
    "def addition(a,b = 1):\n",
    "    return a + b"
   ]
  },
  {
   "cell_type": "code",
   "execution_count": 31,
   "id": "f5f0989e-a5d6-42d3-a626-a95410874a4e",
   "metadata": {},
   "outputs": [
    {
     "data": {
      "text/plain": [
       "2"
      ]
     },
     "execution_count": 31,
     "metadata": {},
     "output_type": "execute_result"
    }
   ],
   "source": [
    "addition(1)"
   ]
  },
  {
   "cell_type": "code",
   "execution_count": 32,
   "id": "f67bd0e5-7f42-4fdb-aae0-85b6a941c1a1",
   "metadata": {},
   "outputs": [
    {
     "data": {
      "text/plain": [
       "3"
      ]
     },
     "execution_count": 32,
     "metadata": {},
     "output_type": "execute_result"
    }
   ],
   "source": [
    "addition(a= 1, b= 2)"
   ]
  },
  {
   "cell_type": "code",
   "execution_count": 33,
   "id": "bea12064-bc23-4ff4-af60-4e5d3522dba3",
   "metadata": {},
   "outputs": [
    {
     "name": "stdin",
     "output_type": "stream",
     "text": [
      "Enter input value:  5\n"
     ]
    }
   ],
   "source": []
  },
  {
   "cell_type": "code",
   "execution_count": 46,
   "id": "59cd6be5-277d-41c0-a72f-d64f6c675c11",
   "metadata": {},
   "outputs": [
    {
     "name": "stdout",
     "output_type": "stream",
     "text": [
      "1 3 3\n",
      "3 2 6\n"
     ]
    },
    {
     "data": {
      "text/plain": [
       "2"
      ]
     },
     "execution_count": 46,
     "metadata": {},
     "output_type": "execute_result"
    }
   ],
   "source": [
    "fact = int(input('Enter input value: '))\n",
    "temp = 1\n",
    "for i in range(fact,1,-1):\n",
    "    temp = temp * i"
   ]
  },
  {
   "cell_type": "code",
   "execution_count": 56,
   "id": "f44a549b-3aa7-45fc-8ed5-5d10041584bb",
   "metadata": {},
   "outputs": [],
   "source": [
    "# recurrsion\n",
    "def factorial(fact):\n",
    "    if fact - 1 > 1:\n",
    "        return fact * factorial(fact-1)\n",
    "    else:\n",
    "        return fact\n"
   ]
  },
  {
   "cell_type": "code",
   "execution_count": 61,
   "id": "8e85787c-75de-4e6f-a391-07a2404c6473",
   "metadata": {},
   "outputs": [
    {
     "data": {
      "text/plain": [
       "2"
      ]
     },
     "execution_count": 61,
     "metadata": {},
     "output_type": "execute_result"
    }
   ],
   "source": [
    "factorial(2)"
   ]
  },
  {
   "cell_type": "code",
   "execution_count": 68,
   "id": "a8b0eb33-1907-4091-aaed-075f62376166",
   "metadata": {},
   "outputs": [],
   "source": [
    "sqaure = lambda x: x ** 2"
   ]
  },
  {
   "cell_type": "code",
   "execution_count": 69,
   "id": "f6ed5d73-192a-4139-aa5a-a260e0faa75b",
   "metadata": {},
   "outputs": [
    {
     "data": {
      "text/plain": [
       "25"
      ]
     },
     "execution_count": 69,
     "metadata": {},
     "output_type": "execute_result"
    }
   ],
   "source": [
    "sqaure(5)"
   ]
  },
  {
   "cell_type": "code",
   "execution_count": 70,
   "id": "0dcca947-27af-45b4-9e9b-4428693af39c",
   "metadata": {},
   "outputs": [],
   "source": [
    "numbers = (1, 2, 3, 4)\n",
    "result = map(lambda x: x + x, numbers)\n"
   ]
  },
  {
   "cell_type": "code",
   "execution_count": 72,
   "id": "720a0540-1a3f-4b33-8f44-f262f0bf40cf",
   "metadata": {},
   "outputs": [
    {
     "data": {
      "text/plain": [
       "[2, 4, 6, 8]"
      ]
     },
     "execution_count": 72,
     "metadata": {},
     "output_type": "execute_result"
    }
   ],
   "source": [
    "list(result)"
   ]
  },
  {
   "cell_type": "code",
   "execution_count": 73,
   "id": "9a728ad2-1752-4375-a93d-e8a7860a65fe",
   "metadata": {},
   "outputs": [
    {
     "data": {
      "text/plain": [
       "'The number is 1'"
      ]
     },
     "execution_count": 73,
     "metadata": {},
     "output_type": "execute_result"
    }
   ],
   "source": [
    "temp = 1\n",
    "string = f'The number is {temp}'\n",
    "string"
   ]
  },
  {
   "cell_type": "code",
   "execution_count": 74,
   "id": "017d51af-2ced-4a55-946f-72a5c5bc53f2",
   "metadata": {},
   "outputs": [
    {
     "name": "stdout",
     "output_type": "stream",
     "text": [
      "\n",
      "* \n",
      "* * \n",
      "* * * \n",
      "* * * * \n"
     ]
    }
   ],
   "source": [
    "for i in range(5):\n",
    "    for j in range(i):\n",
    "        print('*', end = ' ')\n",
    "    print()"
   ]
  },
  {
   "cell_type": "code",
   "execution_count": 75,
   "id": "1adaf2eb-d979-4df2-a80b-b17e37f7d55d",
   "metadata": {},
   "outputs": [
    {
     "data": {
      "text/plain": [
       "{'word': 'apple', 'number': 1}"
      ]
     },
     "execution_count": 75,
     "metadata": {},
     "output_type": "execute_result"
    }
   ],
   "source": [
    "# dictionary\n",
    "{'word': 'apple','number': 1} # key pair, ex: key is word, value is apple"
   ]
  },
  {
   "cell_type": "code",
   "execution_count": 76,
   "id": "445bf10f-5dc3-486b-b1ff-6959328a209c",
   "metadata": {},
   "outputs": [],
   "source": [
    "temp = {'word': 'apple','number': 1}"
   ]
  },
  {
   "cell_type": "code",
   "execution_count": 88,
   "id": "90a149d6-70bd-4211-a0cb-f5fad72ea6b3",
   "metadata": {},
   "outputs": [
    {
     "name": "stdout",
     "output_type": "stream",
     "text": [
      "word apple\n",
      "number 1\n"
     ]
    }
   ],
   "source": [
    "for each_key in list(temp.keys()):\n",
    "    print(each_key, temp[each_key])"
   ]
  },
  {
   "cell_type": "code",
   "execution_count": 86,
   "id": "9a532dac-1773-488d-b20b-e9deb142fda2",
   "metadata": {},
   "outputs": [
    {
     "data": {
      "text/plain": [
       "'apple'"
      ]
     },
     "execution_count": 86,
     "metadata": {},
     "output_type": "execute_result"
    }
   ],
   "source": [
    "temp['word']"
   ]
  },
  {
   "cell_type": "code",
   "execution_count": 87,
   "id": "cbc091c7-772a-477e-8019-5a282b34045e",
   "metadata": {},
   "outputs": [
    {
     "data": {
      "text/plain": [
       "1"
      ]
     },
     "execution_count": 87,
     "metadata": {},
     "output_type": "execute_result"
    }
   ],
   "source": [
    "temp['number']"
   ]
  },
  {
   "cell_type": "code",
   "execution_count": 93,
   "id": "f0239e2e-21f9-4351-99d0-b21516df4b51",
   "metadata": {},
   "outputs": [
    {
     "name": "stdout",
     "output_type": "stream",
     "text": [
      "word\n",
      "number\n"
     ]
    }
   ],
   "source": [
    "for each in temp.items():\n",
    "    print(each[0])"
   ]
  },
  {
   "cell_type": "code",
   "execution_count": 94,
   "id": "a1fec665-b510-4449-8865-20c761f5faac",
   "metadata": {},
   "outputs": [
    {
     "data": {
      "text/plain": [
       "dict_values(['apple', 1])"
      ]
     },
     "execution_count": 94,
     "metadata": {},
     "output_type": "execute_result"
    }
   ],
   "source": [
    "temp.values()"
   ]
  },
  {
   "cell_type": "code",
   "execution_count": null,
   "id": "eb0e0c64-c7f3-48b5-a069-e8836fe2e07c",
   "metadata": {},
   "outputs": [],
   "source": [
    "# list\n",
    "temp = list()\n",
    "temp = []"
   ]
  },
  {
   "cell_type": "code",
   "execution_count": 111,
   "id": "3d9302e5-abc1-41e1-9206-f6071f687169",
   "metadata": {},
   "outputs": [],
   "source": [
    "temp = [1,'a',1.0,True]"
   ]
  },
  {
   "cell_type": "code",
   "execution_count": 97,
   "id": "dd470379-0e35-4d6a-ab6b-8d7070b9181b",
   "metadata": {},
   "outputs": [
    {
     "data": {
      "text/plain": [
       "1"
      ]
     },
     "execution_count": 97,
     "metadata": {},
     "output_type": "execute_result"
    }
   ],
   "source": [
    "temp[0]"
   ]
  },
  {
   "cell_type": "code",
   "execution_count": 98,
   "id": "dffa4fff-a15f-4a18-9619-391a5a5668ab",
   "metadata": {},
   "outputs": [
    {
     "data": {
      "text/plain": [
       "True"
      ]
     },
     "execution_count": 98,
     "metadata": {},
     "output_type": "execute_result"
    }
   ],
   "source": [
    "temp[-1]"
   ]
  },
  {
   "cell_type": "code",
   "execution_count": 99,
   "id": "a3ef7620-179a-4a23-995e-e0abd4a60359",
   "metadata": {},
   "outputs": [
    {
     "data": {
      "text/plain": [
       "[1, 'a', 1.0, True]"
      ]
     },
     "execution_count": 99,
     "metadata": {},
     "output_type": "execute_result"
    }
   ],
   "source": [
    "temp"
   ]
  },
  {
   "cell_type": "code",
   "execution_count": 100,
   "id": "2eaa5e64-ae88-4c0f-88c9-318a9ee1b61c",
   "metadata": {},
   "outputs": [],
   "source": [
    "temp.insert(0,5)"
   ]
  },
  {
   "cell_type": "code",
   "execution_count": 101,
   "id": "c8f3eea8-86e9-46df-b683-4b2ae539cbd7",
   "metadata": {},
   "outputs": [
    {
     "data": {
      "text/plain": [
       "[5, 1, 'a', 1.0, True]"
      ]
     },
     "execution_count": 101,
     "metadata": {},
     "output_type": "execute_result"
    }
   ],
   "source": [
    "temp"
   ]
  },
  {
   "cell_type": "code",
   "execution_count": 102,
   "id": "77652f05-faf1-4547-a8f0-2391e2beb238",
   "metadata": {},
   "outputs": [],
   "source": [
    "temp.append(10)"
   ]
  },
  {
   "cell_type": "code",
   "execution_count": 103,
   "id": "d91ab037-8b30-4197-ae3b-86ee1650dacc",
   "metadata": {},
   "outputs": [
    {
     "data": {
      "text/plain": [
       "[5, 1, 'a', 1.0, True, 10]"
      ]
     },
     "execution_count": 103,
     "metadata": {},
     "output_type": "execute_result"
    }
   ],
   "source": [
    "temp"
   ]
  },
  {
   "cell_type": "code",
   "execution_count": 116,
   "id": "29f399b0-1d39-4667-9cd9-5eb3e55e19c7",
   "metadata": {},
   "outputs": [
    {
     "data": {
      "text/plain": [
       "[1, 'a', 1.0, True]"
      ]
     },
     "execution_count": 116,
     "metadata": {},
     "output_type": "execute_result"
    }
   ],
   "source": [
    "temp = [1,'a',1.0,True]\n",
    "temp"
   ]
  },
  {
   "cell_type": "code",
   "execution_count": 117,
   "id": "096cfb48-36a6-4982-8622-3ecb8fb5db26",
   "metadata": {},
   "outputs": [],
   "source": [
    "temp.remove(1)"
   ]
  },
  {
   "cell_type": "code",
   "execution_count": 118,
   "id": "68b43033-d925-4ca0-8521-a30d72b3cd42",
   "metadata": {},
   "outputs": [
    {
     "data": {
      "text/plain": [
       "['a', 1.0, True]"
      ]
     },
     "execution_count": 118,
     "metadata": {},
     "output_type": "execute_result"
    }
   ],
   "source": [
    "temp"
   ]
  },
  {
   "cell_type": "code",
   "execution_count": 119,
   "id": "57a511a6-8d3c-4253-a894-a9ec6d97ca54",
   "metadata": {},
   "outputs": [],
   "source": [
    "del temp[1]"
   ]
  },
  {
   "cell_type": "code",
   "execution_count": 120,
   "id": "133c11a1-a73c-4cdd-ae49-cf10c6683736",
   "metadata": {},
   "outputs": [
    {
     "data": {
      "text/plain": [
       "['a', True]"
      ]
     },
     "execution_count": 120,
     "metadata": {},
     "output_type": "execute_result"
    }
   ],
   "source": [
    "temp"
   ]
  },
  {
   "cell_type": "code",
   "execution_count": 121,
   "id": "da1627a2-2208-4789-aac8-7ee37ce24fca",
   "metadata": {},
   "outputs": [],
   "source": [
    "temp.append([1,2,3])"
   ]
  },
  {
   "cell_type": "code",
   "execution_count": 122,
   "id": "380766f2-89a8-40c0-bd11-addd6ceb1ef1",
   "metadata": {},
   "outputs": [
    {
     "data": {
      "text/plain": [
       "['a', True, [1, 2, 3]]"
      ]
     },
     "execution_count": 122,
     "metadata": {},
     "output_type": "execute_result"
    }
   ],
   "source": [
    "temp"
   ]
  },
  {
   "cell_type": "code",
   "execution_count": 123,
   "id": "a74552ca-4e2e-446d-8f58-f31a7c87006e",
   "metadata": {},
   "outputs": [],
   "source": [
    "temp[0] = {'alphabet':'a'}"
   ]
  },
  {
   "cell_type": "code",
   "execution_count": 124,
   "id": "1efb80b6-2793-4f5d-ad5b-6e4704e4e1ee",
   "metadata": {},
   "outputs": [
    {
     "data": {
      "text/plain": [
       "[{'alphabet': 'a'}, True, [1, 2, 3]]"
      ]
     },
     "execution_count": 124,
     "metadata": {},
     "output_type": "execute_result"
    }
   ],
   "source": [
    "temp"
   ]
  },
  {
   "cell_type": "code",
   "execution_count": 125,
   "id": "92921449-e298-4bcd-a1e0-3b887419753d",
   "metadata": {},
   "outputs": [
    {
     "data": {
      "text/plain": [
       "[{'alphabet': 'a'}, True, [1, 2, 3], 10, 100]"
      ]
     },
     "execution_count": 125,
     "metadata": {},
     "output_type": "execute_result"
    }
   ],
   "source": [
    "temp + [10,100]"
   ]
  },
  {
   "cell_type": "code",
   "execution_count": 127,
   "id": "ac35c18d-b164-43cb-9435-b751f0c22a92",
   "metadata": {},
   "outputs": [
    {
     "ename": "ValueError",
     "evalue": "10 is not in list",
     "output_type": "error",
     "traceback": [
      "\u001b[0;31m---------------------------------------------------------------------------\u001b[0m",
      "\u001b[0;31mValueError\u001b[0m                                Traceback (most recent call last)",
      "Cell \u001b[0;32mIn[127], line 1\u001b[0m\n\u001b[0;32m----> 1\u001b[0m \u001b[43mtemp\u001b[49m\u001b[38;5;241;43m.\u001b[39;49m\u001b[43mindex\u001b[49m\u001b[43m(\u001b[49m\u001b[38;5;241;43m10\u001b[39;49m\u001b[43m)\u001b[49m\n",
      "\u001b[0;31mValueError\u001b[0m: 10 is not in list"
     ]
    }
   ],
   "source": [
    "temp.index(10)"
   ]
  },
  {
   "cell_type": "code",
   "execution_count": 129,
   "id": "43e7b01d-d0ff-4056-8eff-064b43b89a10",
   "metadata": {},
   "outputs": [
    {
     "data": {
      "text/plain": [
       "1"
      ]
     },
     "execution_count": 129,
     "metadata": {},
     "output_type": "execute_result"
    }
   ],
   "source": [
    "temp.index(2)"
   ]
  },
  {
   "cell_type": "code",
   "execution_count": 131,
   "id": "8e45dcd2-4d1c-4a76-8468-e3789b40ee92",
   "metadata": {},
   "outputs": [],
   "source": [
    "# tuple\n",
    "temp = tuple()\n",
    "temp = (1,2,3)"
   ]
  },
  {
   "cell_type": "code",
   "execution_count": 133,
   "id": "bc3f7d0c-52b8-4684-b0f9-2188f8b75002",
   "metadata": {},
   "outputs": [
    {
     "data": {
      "text/plain": [
       "1"
      ]
     },
     "execution_count": 133,
     "metadata": {},
     "output_type": "execute_result"
    }
   ],
   "source": [
    "temp[0]"
   ]
  },
  {
   "cell_type": "code",
   "execution_count": 134,
   "id": "290c27f0-44cf-4075-8a49-0af9227557b4",
   "metadata": {},
   "outputs": [
    {
     "ename": "TypeError",
     "evalue": "'tuple' object does not support item assignment",
     "output_type": "error",
     "traceback": [
      "\u001b[0;31m---------------------------------------------------------------------------\u001b[0m",
      "\u001b[0;31mTypeError\u001b[0m                                 Traceback (most recent call last)",
      "Cell \u001b[0;32mIn[134], line 1\u001b[0m\n\u001b[0;32m----> 1\u001b[0m \u001b[43mtemp\u001b[49m\u001b[43m[\u001b[49m\u001b[38;5;241;43m0\u001b[39;49m\u001b[43m]\u001b[49m \u001b[38;5;241m=\u001b[39m \u001b[38;5;241m10\u001b[39m\n",
      "\u001b[0;31mTypeError\u001b[0m: 'tuple' object does not support item assignment"
     ]
    }
   ],
   "source": [
    "temp[0] = 10"
   ]
  },
  {
   "cell_type": "code",
   "execution_count": 135,
   "id": "efa029db-12ec-4d1f-b93a-c5e1ca387930",
   "metadata": {},
   "outputs": [],
   "source": [
    "# set\n",
    "temp = {1,2,3}"
   ]
  },
  {
   "cell_type": "code",
   "execution_count": 136,
   "id": "baf98640-c900-4e0a-9952-75e0704181b5",
   "metadata": {},
   "outputs": [
    {
     "data": {
      "text/plain": [
       "set"
      ]
     },
     "execution_count": 136,
     "metadata": {},
     "output_type": "execute_result"
    }
   ],
   "source": [
    "type(temp)"
   ]
  },
  {
   "cell_type": "code",
   "execution_count": 137,
   "id": "c6ee5a02-6dff-4689-a82b-83079c0115a7",
   "metadata": {},
   "outputs": [
    {
     "data": {
      "text/plain": [
       "{1, 2, 3}"
      ]
     },
     "execution_count": 137,
     "metadata": {},
     "output_type": "execute_result"
    }
   ],
   "source": [
    "set([1,1,2,2,3,3])"
   ]
  },
  {
   "cell_type": "code",
   "execution_count": 138,
   "id": "8cedfcb6-a8b4-465f-b21b-93db2960748a",
   "metadata": {},
   "outputs": [],
   "source": [
    "s1 = {1,2}\n",
    "s2 = {3,4}"
   ]
  },
  {
   "cell_type": "code",
   "execution_count": 139,
   "id": "d699c9e3-51d7-473e-bf8e-a86d50a1399c",
   "metadata": {},
   "outputs": [
    {
     "data": {
      "text/plain": [
       "{1, 2, 3, 4}"
      ]
     },
     "execution_count": 139,
     "metadata": {},
     "output_type": "execute_result"
    }
   ],
   "source": [
    "s1.union(s2)"
   ]
  },
  {
   "cell_type": "code",
   "execution_count": 140,
   "id": "8c4dc1ce-9079-4821-b9ed-fc7e6a26dda6",
   "metadata": {},
   "outputs": [
    {
     "data": {
      "text/plain": [
       "set()"
      ]
     },
     "execution_count": 140,
     "metadata": {},
     "output_type": "execute_result"
    }
   ],
   "source": [
    "s1.intersection(s2)"
   ]
  },
  {
   "cell_type": "code",
   "execution_count": 141,
   "id": "69fc1be7-545e-494f-890e-2ac97c245e6e",
   "metadata": {},
   "outputs": [
    {
     "data": {
      "text/plain": [
       "{1, 2}"
      ]
     },
     "execution_count": 141,
     "metadata": {},
     "output_type": "execute_result"
    }
   ],
   "source": [
    "s1.difference(s2)"
   ]
  },
  {
   "cell_type": "code",
   "execution_count": null,
   "id": "99bed6b1-6a2f-4bfa-9263-9b41a59230e4",
   "metadata": {},
   "outputs": [],
   "source": []
  }
 ],
 "metadata": {
  "kernelspec": {
   "display_name": "Python 3 (ipykernel)",
   "language": "python",
   "name": "python3"
  },
  "language_info": {
   "codemirror_mode": {
    "name": "ipython",
    "version": 3
   },
   "file_extension": ".py",
   "mimetype": "text/x-python",
   "name": "python",
   "nbconvert_exporter": "python",
   "pygments_lexer": "ipython3",
   "version": "3.11.7"
  },
  "widgets": {
   "application/vnd.jupyter.widget-state+json": {
    "state": {},
    "version_major": 2,
    "version_minor": 0
   }
  }
 },
 "nbformat": 4,
 "nbformat_minor": 5
}
