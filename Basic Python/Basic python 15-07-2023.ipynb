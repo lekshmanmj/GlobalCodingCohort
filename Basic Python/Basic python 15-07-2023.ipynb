{
 "cells": [
  {
   "cell_type": "markdown",
   "id": "ef3f2355-1a3f-485c-ab19-7004e1b907b8",
   "metadata": {},
   "source": [
    "#### Decorators"
   ]
  },
  {
   "cell_type": "code",
   "execution_count": 7,
   "id": "9f1581ec-d46d-41ed-a5aa-4aaf6984f632",
   "metadata": {},
   "outputs": [],
   "source": [
    "import time\n",
    "def calculate_exec_time(func):\n",
    "    def nested_func(*args,**kwargs):\n",
    "        start = time.time()\n",
    "        func(*args, **kwargs)\n",
    "        end = time.time()\n",
    "        total_time = end - start\n",
    "        print(f'Execution time: {total_time}')\n",
    "    return nested_func"
   ]
  },
  {
   "cell_type": "code",
   "execution_count": 8,
   "id": "42677e2c-4f5f-4cf4-9375-587bc65addb6",
   "metadata": {},
   "outputs": [],
   "source": [
    "@calculate_exec_time\n",
    "def random_func(n):\n",
    "    a = []\n",
    "    for i in range(n):\n",
    "        a.append(i)\n",
    "    del a"
   ]
  },
  {
   "cell_type": "code",
   "execution_count": 11,
   "id": "ec4f7463-7df1-4a23-951c-dc18dfcd71ab",
   "metadata": {},
   "outputs": [
    {
     "name": "stdout",
     "output_type": "stream",
     "text": [
      "Execution time: 8.082389831542969e-05\n"
     ]
    }
   ],
   "source": [
    "random_func(1000)"
   ]
  },
  {
   "cell_type": "code",
   "execution_count": 12,
   "id": "1959e123-5f8d-40cc-b9e8-14b2647a53fa",
   "metadata": {},
   "outputs": [],
   "source": [
    "def status_indicator(func):\n",
    "    def nested_func(*args,**kwarg):\n",
    "        print('Exec start')\n",
    "        func(*args,**kwarg)\n",
    "        print('Exec End')\n",
    "    return nested_func"
   ]
  },
  {
   "cell_type": "code",
   "execution_count": 15,
   "id": "a6298bf5-59f1-4085-88f6-b1e624b90fdf",
   "metadata": {},
   "outputs": [],
   "source": [
    "@status_indicator\n",
    "def random_func(n):\n",
    "    time.sleep(n)"
   ]
  },
  {
   "cell_type": "code",
   "execution_count": 16,
   "id": "8e7e17e8-91c6-4454-be48-8d2b913a78d5",
   "metadata": {},
   "outputs": [
    {
     "name": "stdout",
     "output_type": "stream",
     "text": [
      "Exec start\n",
      "Exec End\n"
     ]
    }
   ],
   "source": [
    "random_func(5)"
   ]
  },
  {
   "cell_type": "markdown",
   "id": "173f285b-7f84-4e28-9cbc-8b84aec2849a",
   "metadata": {},
   "source": [
    "#### Polymorphism"
   ]
  },
  {
   "cell_type": "code",
   "execution_count": 17,
   "id": "6597db18-7c6e-4660-ba15-477b2016e28e",
   "metadata": {},
   "outputs": [],
   "source": [
    "def sample(): print('hi')"
   ]
  },
  {
   "cell_type": "code",
   "execution_count": 18,
   "id": "3607b3b6-ab8e-4a66-a60a-392c6fbd215b",
   "metadata": {},
   "outputs": [
    {
     "name": "stdout",
     "output_type": "stream",
     "text": [
      "hi\n"
     ]
    }
   ],
   "source": [
    "sample()"
   ]
  },
  {
   "cell_type": "code",
   "execution_count": 19,
   "id": "49c7c980-18f6-4e18-860c-1ddc03cf52f9",
   "metadata": {},
   "outputs": [
    {
     "name": "stdout",
     "output_type": "stream",
     "text": [
      "hi\n"
     ]
    }
   ],
   "source": [
    "sample()"
   ]
  },
  {
   "cell_type": "code",
   "execution_count": 20,
   "id": "6a5d5b99-56fc-482c-9af4-aa67bf147843",
   "metadata": {},
   "outputs": [],
   "source": [
    "class A:\n",
    "    def __init__(self): pass\n",
    "    def method_A(self):\n",
    "        print('A')\n",
    "class B(A):\n",
    "    def ___init__(self): pass"
   ]
  },
  {
   "cell_type": "code",
   "execution_count": 23,
   "id": "0ae3091c-6091-4edd-8096-ade3ec0ed938",
   "metadata": {},
   "outputs": [],
   "source": [
    "temp_A = A()\n",
    "temp_B = B()"
   ]
  },
  {
   "cell_type": "code",
   "execution_count": 24,
   "id": "b8ed891a-cda5-42f6-a3bd-d024aebeecaa",
   "metadata": {},
   "outputs": [
    {
     "name": "stdout",
     "output_type": "stream",
     "text": [
      "A\n"
     ]
    }
   ],
   "source": [
    "temp_A.method_A()"
   ]
  },
  {
   "cell_type": "code",
   "execution_count": 25,
   "id": "67050bd7-445b-4b6a-a0f2-bd0992434dbc",
   "metadata": {},
   "outputs": [
    {
     "name": "stdout",
     "output_type": "stream",
     "text": [
      "A\n"
     ]
    }
   ],
   "source": [
    "temp_B.method_A()"
   ]
  },
  {
   "cell_type": "code",
   "execution_count": 26,
   "id": "f75272d6-1e47-4ebd-91c7-5ab494a3b4cf",
   "metadata": {},
   "outputs": [],
   "source": [
    "# Example Polymorphism\n",
    "class A:\n",
    "    def __init__(self): pass\n",
    "    def method_A(self):\n",
    "        print('A')\n",
    "class B(A):\n",
    "    def ___init__(self): pass\n",
    "    def method_A(self):\n",
    "        print('B')"
   ]
  },
  {
   "cell_type": "code",
   "execution_count": 27,
   "id": "445dd5a6-3559-403b-a3e2-c9720ccd912c",
   "metadata": {},
   "outputs": [],
   "source": [
    "temp_A = A()\n",
    "temp_B = B()"
   ]
  },
  {
   "cell_type": "code",
   "execution_count": 28,
   "id": "386e1c2a-6c98-4bfd-92df-9ab767a56443",
   "metadata": {},
   "outputs": [
    {
     "name": "stdout",
     "output_type": "stream",
     "text": [
      "A\n"
     ]
    }
   ],
   "source": [
    "temp_A.method_A()"
   ]
  },
  {
   "cell_type": "code",
   "execution_count": 29,
   "id": "8ce765a8-c286-42f9-bbbb-9d18653a4d62",
   "metadata": {},
   "outputs": [
    {
     "name": "stdout",
     "output_type": "stream",
     "text": [
      "B\n"
     ]
    }
   ],
   "source": [
    "temp_B.method_A()"
   ]
  },
  {
   "cell_type": "markdown",
   "id": "0239b0c6-1d50-4cf2-9175-b96cf7a7f877",
   "metadata": {},
   "source": [
    "#### Abstract Class"
   ]
  },
  {
   "cell_type": "code",
   "execution_count": 35,
   "id": "ea81ac72-50ec-4ea2-b966-20fd9fddae0b",
   "metadata": {},
   "outputs": [],
   "source": [
    "from abc import ABC, abstractmethod"
   ]
  },
  {
   "cell_type": "code",
   "execution_count": 36,
   "id": "954b687b-e89a-4160-895c-6d8566f07b4f",
   "metadata": {},
   "outputs": [],
   "source": [
    "class A(ABC):\n",
    "    def __init__(self): pass\n",
    "    @abstractmethod\n",
    "    def method_A(self):\n",
    "        pass\n",
    "class B(A):\n",
    "    def __init__(self): pass\n",
    "    def method_A(self):\n",
    "        print('Hi From B')"
   ]
  },
  {
   "cell_type": "code",
   "execution_count": 37,
   "id": "b688ca86-1f8b-4d66-9fd6-0d80e50cd8f3",
   "metadata": {},
   "outputs": [],
   "source": [
    "temp_B = B()"
   ]
  },
  {
   "cell_type": "code",
   "execution_count": 38,
   "id": "29f79db3-e446-4680-a950-5a434c6eb3a3",
   "metadata": {},
   "outputs": [
    {
     "name": "stdout",
     "output_type": "stream",
     "text": [
      "Hi From B\n"
     ]
    }
   ],
   "source": [
    "temp_B.method_A()"
   ]
  },
  {
   "cell_type": "code",
   "execution_count": 39,
   "id": "2de0ab38-f287-42c1-bb1b-3ef3a84c41f6",
   "metadata": {},
   "outputs": [
    {
     "ename": "TypeError",
     "evalue": "Can't instantiate abstract class A with abstract method method_A",
     "output_type": "error",
     "traceback": [
      "\u001b[0;31m---------------------------------------------------------------------------\u001b[0m",
      "\u001b[0;31mTypeError\u001b[0m                                 Traceback (most recent call last)",
      "Cell \u001b[0;32mIn[39], line 1\u001b[0m\n\u001b[0;32m----> 1\u001b[0m \u001b[43mA\u001b[49m\u001b[43m(\u001b[49m\u001b[43m)\u001b[49m\n",
      "\u001b[0;31mTypeError\u001b[0m: Can't instantiate abstract class A with abstract method method_A"
     ]
    }
   ],
   "source": [
    "A()"
   ]
  },
  {
   "cell_type": "markdown",
   "id": "9a93f9ec-75fa-4f9c-b9c1-342947aa601c",
   "metadata": {},
   "source": [
    "#### Time Complexity"
   ]
  },
  {
   "cell_type": "code",
   "execution_count": 41,
   "id": "6df3eb32-8f00-4138-b8c8-6e675dce5b18",
   "metadata": {},
   "outputs": [
    {
     "name": "stdout",
     "output_type": "stream",
     "text": [
      "CPU times: user 1.35 ms, sys: 237 µs, total: 1.58 ms\n",
      "Wall time: 2 s\n"
     ]
    }
   ],
   "source": [
    "%%time\n",
    "time.sleep(2)"
   ]
  },
  {
   "cell_type": "code",
   "execution_count": 44,
   "id": "95c38573-5db4-46cc-be44-24e24da23c62",
   "metadata": {},
   "outputs": [
    {
     "name": "stdout",
     "output_type": "stream",
     "text": [
      "0\n",
      "1\n",
      "2\n",
      "3\n",
      "4\n"
     ]
    }
   ],
   "source": [
    "# Example of O(n)\n",
    "n = 1\n",
    "for i in range(5):\n",
    "    print(i)\n",
    "    time.sleep(5)"
   ]
  },
  {
   "cell_type": "code",
   "execution_count": 50,
   "id": "f3de9d65-60aa-4548-a161-4266d5ca5590",
   "metadata": {},
   "outputs": [
    {
     "name": "stdout",
     "output_type": "stream",
     "text": [
      "0\n",
      "1\n",
      "2\n",
      "3\n",
      "4\n",
      "5\n",
      "6\n",
      "7\n",
      "8\n",
      "9\n"
     ]
    }
   ],
   "source": [
    "# Example of 2n\n",
    "n = 5\n",
    "for i in range(n*2):\n",
    "    print(i)"
   ]
  },
  {
   "cell_type": "code",
   "execution_count": 52,
   "id": "4d590d43-794e-498e-a402-523766bd0859",
   "metadata": {},
   "outputs": [
    {
     "name": "stdout",
     "output_type": "stream",
     "text": [
      "Hi\n",
      "Given n is 2\n",
      "0 0\n",
      "0 1\n",
      "1 0\n",
      "1 1\n",
      "0\n",
      "1\n"
     ]
    }
   ],
   "source": [
    "# Example of n^2 + n\n",
    "n = 2 # input\n",
    "print('Hi')\n",
    "print('Given n is',n)\n",
    "for i in range(n):\n",
    "    for j in range(n):\n",
    "        print(i,j)\n",
    "\n",
    "for i in range(n):\n",
    "    print(i)"
   ]
  },
  {
   "cell_type": "code",
   "execution_count": 66,
   "id": "84c08ce2-340a-4cac-8198-af8fc26166f8",
   "metadata": {},
   "outputs": [
    {
     "name": "stdout",
     "output_type": "stream",
     "text": [
      "0\n",
      "1\n",
      "2\n",
      "3\n"
     ]
    }
   ],
   "source": [
    "# Example of n/2\n",
    "n = 8\n",
    "for i in range(n//2):\n",
    "    print(i)"
   ]
  },
  {
   "cell_type": "code",
   "execution_count": 67,
   "id": "0f99729c-a508-4d88-8c0b-16d878a5c41f",
   "metadata": {},
   "outputs": [
    {
     "data": {
      "text/plain": [
       "4.0"
      ]
     },
     "execution_count": 67,
     "metadata": {},
     "output_type": "execute_result"
    }
   ],
   "source": []
  },
  {
   "cell_type": "code",
   "execution_count": null,
   "id": "f1edc82c-5bf7-4cd8-89b2-b6eb3e704554",
   "metadata": {},
   "outputs": [],
   "source": []
  }
 ],
 "metadata": {
  "kernelspec": {
   "display_name": "Python 3 (ipykernel)",
   "language": "python",
   "name": "python3"
  },
  "language_info": {
   "codemirror_mode": {
    "name": "ipython",
    "version": 3
   },
   "file_extension": ".py",
   "mimetype": "text/x-python",
   "name": "python",
   "nbconvert_exporter": "python",
   "pygments_lexer": "ipython3",
   "version": "3.11.4"
  }
 },
 "nbformat": 4,
 "nbformat_minor": 5
}
