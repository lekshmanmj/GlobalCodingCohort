{
 "cells": [
  {
   "cell_type": "code",
   "execution_count": 1,
   "id": "2e91db41-d4d2-4081-afb5-16c28b126f5d",
   "metadata": {},
   "outputs": [],
   "source": [
    "s = 'apple'"
   ]
  },
  {
   "cell_type": "code",
   "execution_count": 2,
   "id": "a0367185-05a8-4ade-bb55-286888a927e6",
   "metadata": {},
   "outputs": [],
   "source": [
    "s = s.upper()"
   ]
  },
  {
   "cell_type": "code",
   "execution_count": 3,
   "id": "f9a29781-4c8f-4909-bb28-82ea27f713a4",
   "metadata": {},
   "outputs": [],
   "source": [
    "s = s.lower()"
   ]
  },
  {
   "cell_type": "code",
   "execution_count": 4,
   "id": "1081e6e7-fdc8-4424-8da9-e59ad6be8fc7",
   "metadata": {},
   "outputs": [
    {
     "data": {
      "text/plain": [
       "'Apple'"
      ]
     },
     "execution_count": 4,
     "metadata": {},
     "output_type": "execute_result"
    }
   ],
   "source": [
    "s.capitalize()"
   ]
  },
  {
   "cell_type": "code",
   "execution_count": 5,
   "id": "4b214d84-5aba-49bc-88d2-8a86e35e60d3",
   "metadata": {},
   "outputs": [
    {
     "data": {
      "text/plain": [
       "'a'"
      ]
     },
     "execution_count": 5,
     "metadata": {},
     "output_type": "execute_result"
    }
   ],
   "source": [
    "# Sliciing\n",
    "s[0]"
   ]
  },
  {
   "cell_type": "code",
   "execution_count": 7,
   "id": "dc7c1ba2-f66e-4110-8b7d-46ca9bf4f8a5",
   "metadata": {},
   "outputs": [
    {
     "data": {
      "text/plain": [
       "'ple'"
      ]
     },
     "execution_count": 7,
     "metadata": {},
     "output_type": "execute_result"
    }
   ],
   "source": [
    "s[2: ]"
   ]
  },
  {
   "cell_type": "code",
   "execution_count": 9,
   "id": "9389d5f7-11f1-46ae-a546-71ed174feb24",
   "metadata": {},
   "outputs": [
    {
     "data": {
      "text/plain": [
       "'apple'"
      ]
     },
     "execution_count": 9,
     "metadata": {},
     "output_type": "execute_result"
    }
   ],
   "source": [
    "s[:]"
   ]
  },
  {
   "cell_type": "code",
   "execution_count": 10,
   "id": "6980de6f-b8a9-45c6-8b6f-3500de83ec30",
   "metadata": {},
   "outputs": [
    {
     "data": {
      "text/plain": [
       "'app'"
      ]
     },
     "execution_count": 10,
     "metadata": {},
     "output_type": "execute_result"
    }
   ],
   "source": [
    "s[:3]"
   ]
  },
  {
   "cell_type": "code",
   "execution_count": 11,
   "id": "dc475cee-ab65-45ce-8b3a-5f21a7332edd",
   "metadata": {},
   "outputs": [
    {
     "data": {
      "text/plain": [
       "'e'"
      ]
     },
     "execution_count": 11,
     "metadata": {},
     "output_type": "execute_result"
    }
   ],
   "source": [
    "s[-1]"
   ]
  },
  {
   "cell_type": "code",
   "execution_count": 12,
   "id": "d47cdab9-faec-4978-ba32-24999d1152de",
   "metadata": {},
   "outputs": [
    {
     "data": {
      "text/plain": [
       "'pl'"
      ]
     },
     "execution_count": 12,
     "metadata": {},
     "output_type": "execute_result"
    }
   ],
   "source": [
    "s[-3:-1]"
   ]
  },
  {
   "cell_type": "code",
   "execution_count": 13,
   "id": "41984103-8a9a-4e31-9c30-266f350abcf0",
   "metadata": {},
   "outputs": [
    {
     "data": {
      "text/plain": [
       "'apple'"
      ]
     },
     "execution_count": 13,
     "metadata": {},
     "output_type": "execute_result"
    }
   ],
   "source": [
    "s[0::1]"
   ]
  },
  {
   "cell_type": "code",
   "execution_count": 14,
   "id": "8392fbc9-62cf-4ac2-aad7-6c476e3fff0e",
   "metadata": {},
   "outputs": [
    {
     "data": {
      "text/plain": [
       "'ape'"
      ]
     },
     "execution_count": 14,
     "metadata": {},
     "output_type": "execute_result"
    }
   ],
   "source": [
    "s[0::2]"
   ]
  },
  {
   "cell_type": "code",
   "execution_count": 15,
   "id": "65f9c31c-6833-4f94-bfc6-1a3ca5096882",
   "metadata": {},
   "outputs": [
    {
     "data": {
      "text/plain": [
       "'elppa'"
      ]
     },
     "execution_count": 15,
     "metadata": {},
     "output_type": "execute_result"
    }
   ],
   "source": [
    "s[::-1]"
   ]
  },
  {
   "cell_type": "code",
   "execution_count": 16,
   "id": "df044114-01d3-44b7-b2ae-fe0bc48cb9ca",
   "metadata": {},
   "outputs": [],
   "source": [
    "s = 'India is my country'"
   ]
  },
  {
   "cell_type": "code",
   "execution_count": 17,
   "id": "e8e18e40-adfe-46e5-81d2-dd1016e6f2f1",
   "metadata": {},
   "outputs": [
    {
     "data": {
      "text/plain": [
       "['India', 'is', 'my', 'country']"
      ]
     },
     "execution_count": 17,
     "metadata": {},
     "output_type": "execute_result"
    }
   ],
   "source": [
    "s.split(' ')"
   ]
  },
  {
   "cell_type": "code",
   "execution_count": 18,
   "id": "dfa9233c-685a-460e-9b02-057a27d0804f",
   "metadata": {},
   "outputs": [],
   "source": [
    "s = 'a,b,c'"
   ]
  },
  {
   "cell_type": "code",
   "execution_count": 19,
   "id": "b9a1e05d-74f1-4cb6-9f5e-5424608961e3",
   "metadata": {},
   "outputs": [
    {
     "data": {
      "text/plain": [
       "['a', 'b', 'c']"
      ]
     },
     "execution_count": 19,
     "metadata": {},
     "output_type": "execute_result"
    }
   ],
   "source": [
    "s.split(',')"
   ]
  },
  {
   "cell_type": "code",
   "execution_count": 20,
   "id": "c007d0a7-ca0a-4dfa-9064-8b6d67a5ef6a",
   "metadata": {},
   "outputs": [],
   "source": [
    "s = 'aabac'"
   ]
  },
  {
   "cell_type": "code",
   "execution_count": 21,
   "id": "9dcfd4b5-8124-4e86-bd3e-577787a0d0e8",
   "metadata": {},
   "outputs": [
    {
     "data": {
      "text/plain": [
       "['', '', 'b', 'c']"
      ]
     },
     "execution_count": 21,
     "metadata": {},
     "output_type": "execute_result"
    }
   ],
   "source": [
    "s.split('a')"
   ]
  },
  {
   "cell_type": "code",
   "execution_count": 22,
   "id": "9d6cb337-bdeb-4b23-abe1-9218f20e8d56",
   "metadata": {},
   "outputs": [],
   "source": [
    "s = \"India is my country.\\nAll Indians are my bros and siss\""
   ]
  },
  {
   "cell_type": "code",
   "execution_count": 24,
   "id": "859ff8ec-bb1a-4cc1-bf83-b9f6e80876b5",
   "metadata": {},
   "outputs": [
    {
     "name": "stdout",
     "output_type": "stream",
     "text": [
      "India is my country.\n",
      "All Indians are my bros and siss\n"
     ]
    }
   ],
   "source": [
    "print(s)"
   ]
  },
  {
   "cell_type": "code",
   "execution_count": 25,
   "id": "bdc97855-e53e-476f-93cd-d2073db4503a",
   "metadata": {},
   "outputs": [
    {
     "data": {
      "text/plain": [
       "['India is my country.', 'All Indians are my bros and siss']"
      ]
     },
     "execution_count": 25,
     "metadata": {},
     "output_type": "execute_result"
    }
   ],
   "source": [
    "s.splitlines()"
   ]
  },
  {
   "cell_type": "code",
   "execution_count": 26,
   "id": "8f15d9e2-ca3a-463d-b0d5-00f29ad65898",
   "metadata": {},
   "outputs": [
    {
     "data": {
      "text/plain": [
       "['India is my country.', 'All Indians are my bros and siss']"
      ]
     },
     "execution_count": 26,
     "metadata": {},
     "output_type": "execute_result"
    }
   ],
   "source": [
    "s.split('\\n')"
   ]
  },
  {
   "cell_type": "code",
   "execution_count": 27,
   "id": "2fe6aff3-0227-4c38-8ff4-75a244a4404d",
   "metadata": {},
   "outputs": [
    {
     "data": {
      "text/plain": [
       "'India is my country.\\tAll Indians are my bros and siss'"
      ]
     },
     "execution_count": 27,
     "metadata": {},
     "output_type": "execute_result"
    }
   ],
   "source": [
    "s.replace('\\n','\\t')"
   ]
  },
  {
   "cell_type": "code",
   "execution_count": null,
   "id": "17aad147-313e-4a4d-962b-a857dfbe7dc9",
   "metadata": {},
   "outputs": [],
   "source": [
    "# one line\n",
    "\"\"\"\n",
    "first line\n",
    "second line\n",
    "\"\"\""
   ]
  },
  {
   "cell_type": "code",
   "execution_count": 29,
   "id": "0ebe10c7-7ff6-40f2-b966-7ed5de04e71c",
   "metadata": {},
   "outputs": [
    {
     "name": "stdin",
     "output_type": "stream",
     "text": [
      " 1\n"
     ]
    },
    {
     "data": {
      "text/plain": [
       "'1'"
      ]
     },
     "execution_count": 29,
     "metadata": {},
     "output_type": "execute_result"
    }
   ],
   "source": [
    "input()"
   ]
  },
  {
   "cell_type": "code",
   "execution_count": 31,
   "id": "03efad16-9b18-4022-bb16-bc592b4e8c89",
   "metadata": {},
   "outputs": [
    {
     "data": {
      "text/plain": [
       "True"
      ]
     },
     "execution_count": 31,
     "metadata": {},
     "output_type": "execute_result"
    }
   ],
   "source": [
    "1 > 2 or 2 > 1"
   ]
  },
  {
   "cell_type": "code",
   "execution_count": 32,
   "id": "2e3ba76e-25c6-4321-bf4e-ee034cd1378c",
   "metadata": {},
   "outputs": [
    {
     "data": {
      "text/plain": [
       "True"
      ]
     },
     "execution_count": 32,
     "metadata": {},
     "output_type": "execute_result"
    }
   ],
   "source": [
    "a = None \n",
    "b = 1\n",
    "a is None and b == 1"
   ]
  },
  {
   "cell_type": "code",
   "execution_count": null,
   "id": "39c267a4-f9ef-4c75-bc28-e84d02c3c722",
   "metadata": {},
   "outputs": [],
   "source": [
    "(a is None and b == 1) or ()"
   ]
  },
  {
   "cell_type": "code",
   "execution_count": 33,
   "id": "acaff035-d7c7-44db-bc9c-e9bf45d068b8",
   "metadata": {},
   "outputs": [],
   "source": [
    "a = 1"
   ]
  },
  {
   "cell_type": "code",
   "execution_count": 36,
   "id": "a70a90ef-2df9-4253-91ef-26b43b421ea6",
   "metadata": {},
   "outputs": [
    {
     "data": {
      "text/plain": [
       "3"
      ]
     },
     "execution_count": 36,
     "metadata": {},
     "output_type": "execute_result"
    }
   ],
   "source": [
    "a = a + 1\n",
    "a"
   ]
  },
  {
   "cell_type": "code",
   "execution_count": 37,
   "id": "41ca68dc-c118-4102-b2c6-f58c7fadf1dc",
   "metadata": {},
   "outputs": [],
   "source": [
    "a += 1"
   ]
  },
  {
   "cell_type": "code",
   "execution_count": 38,
   "id": "fc6b2b05-2dc3-44bb-ba20-94144d869723",
   "metadata": {},
   "outputs": [
    {
     "data": {
      "text/plain": [
       "4"
      ]
     },
     "execution_count": 38,
     "metadata": {},
     "output_type": "execute_result"
    }
   ],
   "source": [
    "a"
   ]
  },
  {
   "cell_type": "code",
   "execution_count": 41,
   "id": "1532c087-9069-45bb-9535-c72ab37b3bd0",
   "metadata": {},
   "outputs": [],
   "source": [
    "assert 1 == 1"
   ]
  },
  {
   "cell_type": "code",
   "execution_count": 42,
   "id": "c8c8e5a0-88cf-4ecb-b940-79f2ff9ca76a",
   "metadata": {},
   "outputs": [
    {
     "ename": "AssertionError",
     "evalue": "",
     "output_type": "error",
     "traceback": [
      "\u001b[0;31m---------------------------------------------------------------------------\u001b[0m",
      "\u001b[0;31mAssertionError\u001b[0m                            Traceback (most recent call last)",
      "Cell \u001b[0;32mIn[42], line 1\u001b[0m\n\u001b[0;32m----> 1\u001b[0m \u001b[38;5;28;01massert\u001b[39;00m \u001b[38;5;241m1\u001b[39m \u001b[38;5;241m==\u001b[39m \u001b[38;5;241m0\u001b[39m\n",
      "\u001b[0;31mAssertionError\u001b[0m: "
     ]
    }
   ],
   "source": [
    "assert 1 == 0"
   ]
  },
  {
   "cell_type": "code",
   "execution_count": 47,
   "id": "2ea38394-a525-4b58-9bb7-f26536c6770e",
   "metadata": {},
   "outputs": [],
   "source": [
    "a, b, c = 1, 2, 3"
   ]
  },
  {
   "cell_type": "code",
   "execution_count": 48,
   "id": "8e3317a6-e615-4935-b944-a7286b296902",
   "metadata": {},
   "outputs": [
    {
     "data": {
      "text/plain": [
       "1"
      ]
     },
     "execution_count": 48,
     "metadata": {},
     "output_type": "execute_result"
    }
   ],
   "source": [
    "a"
   ]
  },
  {
   "cell_type": "code",
   "execution_count": 49,
   "id": "2a881b78-794f-4f33-9933-2d6f23df3a4f",
   "metadata": {},
   "outputs": [
    {
     "data": {
      "text/plain": [
       "2"
      ]
     },
     "execution_count": 49,
     "metadata": {},
     "output_type": "execute_result"
    }
   ],
   "source": [
    "b"
   ]
  },
  {
   "cell_type": "code",
   "execution_count": 50,
   "id": "6ca1c74a-ccb4-496c-aa30-e2beafd97e4d",
   "metadata": {},
   "outputs": [
    {
     "data": {
      "text/plain": [
       "3"
      ]
     },
     "execution_count": 50,
     "metadata": {},
     "output_type": "execute_result"
    }
   ],
   "source": [
    "c"
   ]
  },
  {
   "cell_type": "code",
   "execution_count": 51,
   "id": "bf61fb55-cb4e-4e64-b680-533779e325e4",
   "metadata": {},
   "outputs": [
    {
     "data": {
      "text/plain": [
       "3"
      ]
     },
     "execution_count": 51,
     "metadata": {},
     "output_type": "execute_result"
    }
   ],
   "source": [
    "maximum = None\n",
    "if a > b:\n",
    "    maximum = a\n",
    "else:\n",
    "    maximum = b\n",
    "\n",
    "if c > maximum:\n",
    "    maximum = c\n",
    "maximum"
   ]
  },
  {
   "cell_type": "code",
   "execution_count": 52,
   "id": "642e9b7d-4be0-4245-b285-71c56902d724",
   "metadata": {},
   "outputs": [
    {
     "data": {
      "text/plain": [
       "3"
      ]
     },
     "execution_count": 52,
     "metadata": {},
     "output_type": "execute_result"
    }
   ],
   "source": [
    "max([a,b,c])"
   ]
  },
  {
   "cell_type": "code",
   "execution_count": 53,
   "id": "8d905a6d-77a1-472c-8267-ab1910baeb11",
   "metadata": {},
   "outputs": [
    {
     "data": {
      "text/plain": [
       "1"
      ]
     },
     "execution_count": 53,
     "metadata": {},
     "output_type": "execute_result"
    }
   ],
   "source": [
    "min([a,b,c])"
   ]
  },
  {
   "cell_type": "code",
   "execution_count": 54,
   "id": "f3b038d3-fa77-4f17-8002-8b86beb005ae",
   "metadata": {},
   "outputs": [
    {
     "data": {
      "text/plain": [
       "1"
      ]
     },
     "execution_count": 54,
     "metadata": {},
     "output_type": "execute_result"
    }
   ],
   "source": [
    "abs(-1)"
   ]
  },
  {
   "cell_type": "code",
   "execution_count": 55,
   "id": "c1a6c7d6-7708-4fa3-be16-646a1f7eb6a4",
   "metadata": {},
   "outputs": [
    {
     "data": {
      "text/plain": [
       "1"
      ]
     },
     "execution_count": 55,
     "metadata": {},
     "output_type": "execute_result"
    }
   ],
   "source": [
    "abs(1)"
   ]
  },
  {
   "cell_type": "code",
   "execution_count": 57,
   "id": "b6b6477c-120f-4626-9a7d-422cc5e2c2b5",
   "metadata": {},
   "outputs": [
    {
     "data": {
      "text/plain": [
       "False"
      ]
     },
     "execution_count": 57,
     "metadata": {},
     "output_type": "execute_result"
    }
   ],
   "source": [
    "a = None\n",
    "a is not None"
   ]
  },
  {
   "cell_type": "code",
   "execution_count": 58,
   "id": "f2b034d6-d510-43b8-966f-47e7568834e9",
   "metadata": {},
   "outputs": [
    {
     "data": {
      "text/plain": [
       "True"
      ]
     },
     "execution_count": 58,
     "metadata": {},
     "output_type": "execute_result"
    }
   ],
   "source": [
    "a = 1\n",
    "a is not None"
   ]
  },
  {
   "cell_type": "code",
   "execution_count": 60,
   "id": "d042a54c-530e-4f29-aca7-a1e5b72aa554",
   "metadata": {},
   "outputs": [
    {
     "data": {
      "text/plain": [
       "True"
      ]
     },
     "execution_count": 60,
     "metadata": {},
     "output_type": "execute_result"
    }
   ],
   "source": [
    "1 in [1,2,3]"
   ]
  },
  {
   "cell_type": "code",
   "execution_count": 61,
   "id": "446845de-37c0-449f-8c74-1251a50fdb3b",
   "metadata": {},
   "outputs": [
    {
     "data": {
      "text/plain": [
       "True"
      ]
     },
     "execution_count": 61,
     "metadata": {},
     "output_type": "execute_result"
    }
   ],
   "source": [
    "5 not in [1,23]"
   ]
  },
  {
   "cell_type": "code",
   "execution_count": 62,
   "id": "01f0e0dd-e38d-42b0-9068-ad465cf5221a",
   "metadata": {},
   "outputs": [
    {
     "name": "stdout",
     "output_type": "stream",
     "text": [
      "1\n",
      "2\n",
      "3\n",
      "4\n",
      "5\n"
     ]
    }
   ],
   "source": [
    "for i in range(1,6):\n",
    "    print(i)"
   ]
  },
  {
   "cell_type": "code",
   "execution_count": 65,
   "id": "91e42c91-ee6b-4d46-ac07-cafee95d611c",
   "metadata": {},
   "outputs": [
    {
     "name": "stdout",
     "output_type": "stream",
     "text": [
      "1\n",
      "3\n",
      "5\n",
      "7\n",
      "9\n"
     ]
    }
   ],
   "source": [
    "for i in range(1,10,2):\n",
    "    print(i)"
   ]
  },
  {
   "cell_type": "code",
   "execution_count": 67,
   "id": "81980cb5-8d4a-4a34-8365-242381a3ce79",
   "metadata": {},
   "outputs": [
    {
     "name": "stdout",
     "output_type": "stream",
     "text": [
      "5\n",
      "4\n",
      "3\n",
      "2\n",
      "1\n"
     ]
    }
   ],
   "source": [
    "for i in range(5,0,-1):\n",
    "    print(i)"
   ]
  },
  {
   "cell_type": "code",
   "execution_count": 68,
   "id": "5d5eead2-9937-4ffe-859a-cb8784d93fe9",
   "metadata": {},
   "outputs": [
    {
     "name": "stdout",
     "output_type": "stream",
     "text": [
      "a\n",
      "1\n",
      "True\n"
     ]
    }
   ],
   "source": [
    "for i in ['a',1,True]:\n",
    "    print(i)"
   ]
  },
  {
   "cell_type": "code",
   "execution_count": 71,
   "id": "f732c21b-f8bb-41f3-a8f9-9766eb2ce598",
   "metadata": {},
   "outputs": [
    {
     "name": "stdout",
     "output_type": "stream",
     "text": [
      "a\n",
      "p\n",
      "p\n",
      "l\n",
      "e\n",
      "end\n"
     ]
    }
   ],
   "source": [
    "for i in 'apple':\n",
    "    print(i)\n"
   ]
  },
  {
   "cell_type": "code",
   "execution_count": 73,
   "id": "528f3975-c0ad-4f47-a116-ba15cee58808",
   "metadata": {},
   "outputs": [
    {
     "name": "stdout",
     "output_type": "stream",
     "text": [
      "2\n",
      "4\n",
      "6\n"
     ]
    }
   ],
   "source": [
    "# given odd number in a list, print even number\n",
    "inp = [1,3,5]\n",
    "for each in inp:\n",
    "    output = each + 1\n",
    "    print(output)"
   ]
  },
  {
   "cell_type": "code",
   "execution_count": 78,
   "id": "1829af0a-b536-495b-b1f3-456769002d4d",
   "metadata": {},
   "outputs": [
    {
     "name": "stdout",
     "output_type": "stream",
     "text": [
      "1\n",
      "2\n",
      "3\n",
      "4\n",
      "5\n"
     ]
    }
   ],
   "source": [
    "i = 1\n",
    "while i < 6:\n",
    "    print(i)\n",
    "    i += 1 "
   ]
  },
  {
   "cell_type": "code",
   "execution_count": 4,
   "id": "343b01f8-643d-4feb-b844-02fd2111de98",
   "metadata": {},
   "outputs": [
    {
     "name": "stdout",
     "output_type": "stream",
     "text": [
      "1\n",
      "2\n",
      "3\n",
      "4\n",
      "4\n",
      "5\n"
     ]
    }
   ],
   "source": [
    "temp = True\n",
    "i = 1\n",
    "while i <= 5:\n",
    "    print(i)\n",
    "    i+=1\n",
    "    if i == 5 and temp is True:\n",
    "        i -= 1\n",
    "        temp = False"
   ]
  },
  {
   "cell_type": "code",
   "execution_count": null,
   "id": "a5e1f532-b746-48ac-b7ed-8e1ba6356dee",
   "metadata": {},
   "outputs": [],
   "source": []
  }
 ],
 "metadata": {
  "kernelspec": {
   "display_name": "Python 3 (ipykernel)",
   "language": "python",
   "name": "python3"
  },
  "language_info": {
   "codemirror_mode": {
    "name": "ipython",
    "version": 3
   },
   "file_extension": ".py",
   "mimetype": "text/x-python",
   "name": "python",
   "nbconvert_exporter": "python",
   "pygments_lexer": "ipython3",
   "version": "3.11.7"
  },
  "widgets": {
   "application/vnd.jupyter.widget-state+json": {
    "state": {},
    "version_major": 2,
    "version_minor": 0
   }
  }
 },
 "nbformat": 4,
 "nbformat_minor": 5
}
