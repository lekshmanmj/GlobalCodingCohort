{
 "cells": [
  {
   "cell_type": "markdown",
   "id": "fa85c115-ac53-4224-ad91-baf33c2596d5",
   "metadata": {},
   "source": [
    "#### Scope of Variable"
   ]
  },
  {
   "cell_type": "code",
   "execution_count": 1,
   "id": "9e8a7ed1-6418-4644-9c8b-6312a7e1e512",
   "metadata": {},
   "outputs": [],
   "source": [
    "a = 5"
   ]
  },
  {
   "cell_type": "code",
   "execution_count": 2,
   "id": "5e674831-4c1d-4384-ad05-e58bc98651d7",
   "metadata": {},
   "outputs": [
    {
     "data": {
      "text/plain": [
       "6"
      ]
     },
     "execution_count": 2,
     "metadata": {},
     "output_type": "execute_result"
    }
   ],
   "source": [
    "a = a + 1\n",
    "a"
   ]
  },
  {
   "cell_type": "code",
   "execution_count": 5,
   "id": "da671086-c18a-4a0d-9ce5-c1bbaf11d566",
   "metadata": {},
   "outputs": [],
   "source": [
    "def sample(a):\n",
    "    a = a + 1\n",
    "    return a"
   ]
  },
  {
   "cell_type": "code",
   "execution_count": 6,
   "id": "aadc4669-4ba0-4092-a3be-6190d28be1c9",
   "metadata": {},
   "outputs": [
    {
     "data": {
      "text/plain": [
       "7"
      ]
     },
     "execution_count": 6,
     "metadata": {},
     "output_type": "execute_result"
    }
   ],
   "source": [
    "sample(a)"
   ]
  },
  {
   "cell_type": "code",
   "execution_count": 7,
   "id": "4f4ea7ce-8966-4f87-849d-a79d2caa60ba",
   "metadata": {},
   "outputs": [
    {
     "data": {
      "text/plain": [
       "6"
      ]
     },
     "execution_count": 7,
     "metadata": {},
     "output_type": "execute_result"
    }
   ],
   "source": [
    "a"
   ]
  },
  {
   "cell_type": "code",
   "execution_count": 18,
   "id": "91c17fc7-d5f0-47e1-b030-b1becc784d90",
   "metadata": {},
   "outputs": [],
   "source": [
    "class SampleClass:\n",
    "    def __init__(self):\n",
    "        self.a = 1\n",
    "    def sample_method(self,a):\n",
    "        a = a + 1\n",
    "        return a"
   ]
  },
  {
   "cell_type": "code",
   "execution_count": 19,
   "id": "0cae8e8c-898e-4aac-8d48-0c2afb784e1b",
   "metadata": {},
   "outputs": [],
   "source": [
    "temp_obj = SampleClass()"
   ]
  },
  {
   "cell_type": "code",
   "execution_count": 20,
   "id": "f91b507e-ea30-47fa-bd48-99db849c2b7f",
   "metadata": {},
   "outputs": [
    {
     "data": {
      "text/plain": [
       "2"
      ]
     },
     "execution_count": 20,
     "metadata": {},
     "output_type": "execute_result"
    }
   ],
   "source": [
    "temp_obj.sample_method(1)"
   ]
  },
  {
   "cell_type": "code",
   "execution_count": 21,
   "id": "4d481814-61a3-4ae7-b845-b09ed5bc8fcb",
   "metadata": {},
   "outputs": [
    {
     "data": {
      "text/plain": [
       "1"
      ]
     },
     "execution_count": 21,
     "metadata": {},
     "output_type": "execute_result"
    }
   ],
   "source": [
    "temp_obj.a"
   ]
  },
  {
   "cell_type": "markdown",
   "id": "1fe4db98-eebe-42c0-b8fe-016c79fade35",
   "metadata": {},
   "source": [
    "#### *args **kwargs"
   ]
  },
  {
   "cell_type": "code",
   "execution_count": 55,
   "id": "3241cfe2-6952-4077-ba9c-77bb8b8d4075",
   "metadata": {},
   "outputs": [],
   "source": [
    "def sample(a,*args):\n",
    "    print('a:',a)\n",
    "    print('args:',args)"
   ]
  },
  {
   "cell_type": "code",
   "execution_count": 56,
   "id": "1c16f520-d446-452b-aefc-7c1d6115387d",
   "metadata": {},
   "outputs": [
    {
     "name": "stdout",
     "output_type": "stream",
     "text": [
      "a: 10\n",
      "args: (2, 'string')\n"
     ]
    }
   ],
   "source": [
    "sample(10,2,'string')"
   ]
  },
  {
   "cell_type": "code",
   "execution_count": 57,
   "id": "1f36c36a-cb36-428a-ba27-1e847e8c7d4f",
   "metadata": {},
   "outputs": [
    {
     "ename": "TypeError",
     "evalue": "sample() got an unexpected keyword argument 'b'",
     "output_type": "error",
     "traceback": [
      "\u001b[0;31m---------------------------------------------------------------------------\u001b[0m",
      "\u001b[0;31mTypeError\u001b[0m                                 Traceback (most recent call last)",
      "Cell \u001b[0;32mIn[57], line 1\u001b[0m\n\u001b[0;32m----> 1\u001b[0m \u001b[43msample\u001b[49m\u001b[43m(\u001b[49m\u001b[43ma\u001b[49m\u001b[43m \u001b[49m\u001b[38;5;241;43m=\u001b[39;49m\u001b[43m \u001b[49m\u001b[38;5;241;43m1\u001b[39;49m\u001b[43m,\u001b[49m\u001b[43mb\u001b[49m\u001b[43m \u001b[49m\u001b[38;5;241;43m=\u001b[39;49m\u001b[43m \u001b[49m\u001b[38;5;241;43m10\u001b[39;49m\u001b[43m)\u001b[49m\n",
      "\u001b[0;31mTypeError\u001b[0m: sample() got an unexpected keyword argument 'b'"
     ]
    }
   ],
   "source": [
    "sample(a = 1,b = 10) # *args returns error in this scenario"
   ]
  },
  {
   "cell_type": "code",
   "execution_count": 58,
   "id": "c50f7a72-28c9-45b7-a734-cb7f2c813562",
   "metadata": {},
   "outputs": [],
   "source": [
    "def sample(a,**kwargs):\n",
    "    print('a:',a)\n",
    "    print('kwargs:',kwargs)"
   ]
  },
  {
   "cell_type": "code",
   "execution_count": 59,
   "id": "c8ade45a-96e8-4813-8613-447d092e4660",
   "metadata": {},
   "outputs": [
    {
     "name": "stdout",
     "output_type": "stream",
     "text": [
      "a: 1\n",
      "kwargs: {}\n"
     ]
    }
   ],
   "source": [
    "sample(1)"
   ]
  },
  {
   "cell_type": "code",
   "execution_count": 60,
   "id": "c6c59a08-7df8-4616-8290-c3297041d333",
   "metadata": {},
   "outputs": [
    {
     "ename": "TypeError",
     "evalue": "sample() takes 1 positional argument but 2 were given",
     "output_type": "error",
     "traceback": [
      "\u001b[0;31m---------------------------------------------------------------------------\u001b[0m",
      "\u001b[0;31mTypeError\u001b[0m                                 Traceback (most recent call last)",
      "Cell \u001b[0;32mIn[60], line 1\u001b[0m\n\u001b[0;32m----> 1\u001b[0m \u001b[43msample\u001b[49m\u001b[43m(\u001b[49m\u001b[38;5;241;43m1\u001b[39;49m\u001b[43m,\u001b[49m\u001b[38;5;241;43m2\u001b[39;49m\u001b[43m)\u001b[49m\n",
      "\u001b[0;31mTypeError\u001b[0m: sample() takes 1 positional argument but 2 were given"
     ]
    }
   ],
   "source": [
    "sample(1,2) # **kwargs returns error in this scenario"
   ]
  },
  {
   "cell_type": "code",
   "execution_count": 61,
   "id": "a66904f1-3b7e-4cc0-b8c7-ebde8ff47192",
   "metadata": {},
   "outputs": [
    {
     "name": "stdout",
     "output_type": "stream",
     "text": [
      "a: 1\n",
      "kwargs: {'b': 2}\n"
     ]
    }
   ],
   "source": [
    "sample(a = 1, b = 2)"
   ]
  },
  {
   "cell_type": "markdown",
   "id": "696f0632-2081-4dd3-9ff6-1043599467df",
   "metadata": {},
   "source": [
    "#### Inheritance"
   ]
  },
  {
   "cell_type": "code",
   "execution_count": 62,
   "id": "84999417-c585-4559-a93e-7ea89e87b006",
   "metadata": {},
   "outputs": [],
   "source": [
    "# Single Inheritance\n",
    "# Base Class 1\n",
    "class Add:\n",
    "    def __init__(self): pass\n",
    "    def add(self,a,b):\n",
    "        return a + b"
   ]
  },
  {
   "cell_type": "code",
   "execution_count": 63,
   "id": "c34b6cb3-5cf2-4785-b129-4ee0c1efe178",
   "metadata": {},
   "outputs": [
    {
     "data": {
      "text/plain": [
       "2"
      ]
     },
     "execution_count": 63,
     "metadata": {},
     "output_type": "execute_result"
    }
   ],
   "source": [
    "temp_add = Add()\n",
    "temp_add.add(1,1)"
   ]
  },
  {
   "cell_type": "code",
   "execution_count": 93,
   "id": "5f69555f-a86f-4b19-867b-086bff0e0172",
   "metadata": {},
   "outputs": [],
   "source": [
    "# derived class\n",
    "class AddSubSingle(Add):\n",
    "    def __init__(self): pass\n",
    "    def sub(self,a,b):\n",
    "        return a - b"
   ]
  },
  {
   "cell_type": "code",
   "execution_count": 94,
   "id": "862e835d-0892-49fc-826e-d017cbe6ece4",
   "metadata": {},
   "outputs": [],
   "source": [
    "temp_AddSub = AddSubSingle()"
   ]
  },
  {
   "cell_type": "code",
   "execution_count": 95,
   "id": "33ab9229-5b87-425f-ab96-66f8862a89ee",
   "metadata": {},
   "outputs": [
    {
     "data": {
      "text/plain": [
       "2"
      ]
     },
     "execution_count": 95,
     "metadata": {},
     "output_type": "execute_result"
    }
   ],
   "source": [
    "temp_AddSub.add(1,1)"
   ]
  },
  {
   "cell_type": "code",
   "execution_count": 96,
   "id": "e8c511df-64c5-48f5-8943-49ff3d197f62",
   "metadata": {},
   "outputs": [
    {
     "data": {
      "text/plain": [
       "0"
      ]
     },
     "execution_count": 96,
     "metadata": {},
     "output_type": "execute_result"
    }
   ],
   "source": [
    "temp_AddSub.sub(1,1)"
   ]
  },
  {
   "cell_type": "code",
   "execution_count": 97,
   "id": "c4be0108-92f0-46a1-9510-a13e0d4819ca",
   "metadata": {},
   "outputs": [],
   "source": [
    "# Multiple Inheritance\n",
    "# Base class 2\n",
    "class Sub:\n",
    "    def __init__(self): pass\n",
    "    def sub(self,a,b):\n",
    "        return a - b"
   ]
  },
  {
   "cell_type": "code",
   "execution_count": 98,
   "id": "d4516b4c-dda9-416a-ad1e-650026d4245a",
   "metadata": {},
   "outputs": [],
   "source": [
    "# derived class\n",
    "class AddSubMultiple(Add,Sub):\n",
    "    def __init__(self): pass"
   ]
  },
  {
   "cell_type": "code",
   "execution_count": 100,
   "id": "16bc7b7e-6e0c-45fb-9b35-23edf03a18cc",
   "metadata": {},
   "outputs": [],
   "source": [
    "temp_AddSubMultiple = AddSubMultiple()"
   ]
  },
  {
   "cell_type": "code",
   "execution_count": 101,
   "id": "1dbae9a8-1caa-40fd-b696-1b80d59f5de7",
   "metadata": {},
   "outputs": [
    {
     "data": {
      "text/plain": [
       "2"
      ]
     },
     "execution_count": 101,
     "metadata": {},
     "output_type": "execute_result"
    }
   ],
   "source": [
    "temp_AddSubMultiple.add(1,1)"
   ]
  },
  {
   "cell_type": "code",
   "execution_count": 102,
   "id": "d1780a10-2edb-4e0b-9b80-9a1f25ba3ff3",
   "metadata": {},
   "outputs": [
    {
     "data": {
      "text/plain": [
       "0"
      ]
     },
     "execution_count": 102,
     "metadata": {},
     "output_type": "execute_result"
    }
   ],
   "source": [
    "temp_AddSubMultiple.sub(1,1)"
   ]
  },
  {
   "cell_type": "code",
   "execution_count": 103,
   "id": "d24c574c-b8cb-4d62-bb58-cfc05e373ab4",
   "metadata": {},
   "outputs": [],
   "source": [
    "# Multilevel\n",
    "# derived class\n",
    "class AddSubMul(AddSubSingle):\n",
    "    def __init__(self):\n",
    "        pass\n",
    "    def mul(self,a,b):\n",
    "        return a * b"
   ]
  },
  {
   "cell_type": "code",
   "execution_count": 104,
   "id": "d7d50ba5-d849-4b52-8f20-49e11b5f7787",
   "metadata": {},
   "outputs": [],
   "source": [
    "temp_AddSubMul = AddSubMul()"
   ]
  },
  {
   "cell_type": "code",
   "execution_count": 105,
   "id": "d38c5a5a-2539-4d17-82fd-15908c88bf56",
   "metadata": {},
   "outputs": [
    {
     "data": {
      "text/plain": [
       "2"
      ]
     },
     "execution_count": 105,
     "metadata": {},
     "output_type": "execute_result"
    }
   ],
   "source": [
    "temp_AddSubMul.add(1,1)"
   ]
  },
  {
   "cell_type": "code",
   "execution_count": 106,
   "id": "dfb427ef-5f60-4aef-82ee-88664cdddee0",
   "metadata": {},
   "outputs": [
    {
     "data": {
      "text/plain": [
       "0"
      ]
     },
     "execution_count": 106,
     "metadata": {},
     "output_type": "execute_result"
    }
   ],
   "source": [
    "temp_AddSubMul.sub(1,1)"
   ]
  },
  {
   "cell_type": "code",
   "execution_count": 107,
   "id": "9f86a79f-c31c-4b98-b1cd-ea24a1819eaa",
   "metadata": {},
   "outputs": [
    {
     "data": {
      "text/plain": [
       "4"
      ]
     },
     "execution_count": 107,
     "metadata": {},
     "output_type": "execute_result"
    }
   ],
   "source": [
    "temp_AddSubMul.mul(2,2)"
   ]
  },
  {
   "cell_type": "code",
   "execution_count": 109,
   "id": "c14e452f-b689-4f10-85f4-8276c5213836",
   "metadata": {},
   "outputs": [],
   "source": [
    "# Hirarchical\n",
    "# Base class \n",
    "class Math:\n",
    "    def __init__(self):\n",
    "        pass\n",
    "    def add(self,a,b):\n",
    "        return a + b\n",
    "    def sub(self,a,b):\n",
    "        return a - b\n",
    "    def mul(self,a,b):\n",
    "        return a * b\n",
    "    def div(self,a,b):\n",
    "        return a / b"
   ]
  },
  {
   "cell_type": "code",
   "execution_count": 110,
   "id": "ed69e19b-58e1-41b6-a6c8-76acb5a06dc2",
   "metadata": {},
   "outputs": [],
   "source": [
    "# derived class 1\n",
    "class ProblemType1(Math):\n",
    "    def __init__(self): pass\n",
    "    def task(self,a,b):\n",
    "        return self.add(a,b) + self.sub(a,b)"
   ]
  },
  {
   "cell_type": "code",
   "execution_count": 111,
   "id": "60c747fc-2992-4501-8a7f-361841cb9243",
   "metadata": {},
   "outputs": [],
   "source": [
    "# derived class 2\n",
    "class ProblemType2(Math):\n",
    "    def __init__(self): pass\n",
    "    def task(self,a,b):\n",
    "        return self.mul(a,b) - self.div(a,b)"
   ]
  },
  {
   "cell_type": "code",
   "execution_count": 112,
   "id": "7f6788ed-0a33-4837-b671-c1910fe03b9f",
   "metadata": {},
   "outputs": [],
   "source": [
    "temp_Prob1 = ProblemType1()\n",
    "temp_Prob2 = ProblemType2()"
   ]
  },
  {
   "cell_type": "code",
   "execution_count": 113,
   "id": "7110ee4c-9c21-43b8-adec-e181a054d9eb",
   "metadata": {},
   "outputs": [
    {
     "data": {
      "text/plain": [
       "2"
      ]
     },
     "execution_count": 113,
     "metadata": {},
     "output_type": "execute_result"
    }
   ],
   "source": [
    "temp_Prob1.task(1,1)"
   ]
  },
  {
   "cell_type": "code",
   "execution_count": 114,
   "id": "b0bb21d4-3a8e-4332-8ebe-ad0354a98fbd",
   "metadata": {},
   "outputs": [
    {
     "data": {
      "text/plain": [
       "1.5"
      ]
     },
     "execution_count": 114,
     "metadata": {},
     "output_type": "execute_result"
    }
   ],
   "source": [
    "temp_Prob2.task(1,2)"
   ]
  },
  {
   "cell_type": "code",
   "execution_count": null,
   "id": "400af8b9-d397-4273-a291-19ac03710b84",
   "metadata": {},
   "outputs": [],
   "source": []
  }
 ],
 "metadata": {
  "kernelspec": {
   "display_name": "Python 3 (ipykernel)",
   "language": "python",
   "name": "python3"
  },
  "language_info": {
   "codemirror_mode": {
    "name": "ipython",
    "version": 3
   },
   "file_extension": ".py",
   "mimetype": "text/x-python",
   "name": "python",
   "nbconvert_exporter": "python",
   "pygments_lexer": "ipython3",
   "version": "3.11.4"
  }
 },
 "nbformat": 4,
 "nbformat_minor": 5
}
