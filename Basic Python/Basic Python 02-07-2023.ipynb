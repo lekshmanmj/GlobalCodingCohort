{
 "cells": [
  {
   "cell_type": "code",
   "execution_count": 8,
   "metadata": {},
   "outputs": [
    {
     "name": "stdout",
     "output_type": "stream",
     "text": [
      "Hello Folks !\n",
      "second line\n"
     ]
    }
   ],
   "source": [
    "print('Hello Folks !')\n",
    "print('second line')"
   ]
  },
  {
   "cell_type": "code",
   "execution_count": 9,
   "metadata": {},
   "outputs": [
    {
     "name": "stdout",
     "output_type": "stream",
     "text": [
      "first sentence. second sentence.\n"
     ]
    }
   ],
   "source": [
    "print('first sentence.',end=' ')\n",
    "print('second sentence.')"
   ]
  },
  {
   "cell_type": "code",
   "execution_count": 10,
   "metadata": {},
   "outputs": [],
   "source": [
    "import time"
   ]
  },
  {
   "cell_type": "code",
   "execution_count": 6,
   "metadata": {},
   "outputs": [
    {
     "name": "stdout",
     "output_type": "stream",
     "text": [
      "first sleep started\n",
      "first sleep finished\n",
      "second sleep started\n",
      "second sleep finished\n"
     ]
    }
   ],
   "source": [
    "print('first sleep started')\n",
    "time.sleep(5)\n",
    "print('first sleep finished')\n",
    "print('second sleep started')\n",
    "time.sleep(5)\n",
    "print('second sleep finished')"
   ]
  },
  {
   "cell_type": "code",
   "execution_count": null,
   "metadata": {},
   "outputs": [],
   "source": []
  }
 ],
 "metadata": {
  "kernelspec": {
   "display_name": "Python 3",
   "language": "python",
   "name": "python3"
  },
  "language_info": {
   "codemirror_mode": {
    "name": "ipython",
    "version": 3
   },
   "file_extension": ".py",
   "mimetype": "text/x-python",
   "name": "python",
   "nbconvert_exporter": "python",
   "pygments_lexer": "ipython3",
   "version": "3.10.11"
  },
  "orig_nbformat": 4
 },
 "nbformat": 4,
 "nbformat_minor": 2
}
