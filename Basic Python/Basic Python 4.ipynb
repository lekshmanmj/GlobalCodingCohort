{
 "cells": [
  {
   "cell_type": "code",
   "execution_count": 18,
   "id": "cd433243-05e5-4892-9fd9-44fadbc1ed11",
   "metadata": {},
   "outputs": [],
   "source": [
    "# list comprehension\n",
    "temp = [1,2,3,101]"
   ]
  },
  {
   "cell_type": "code",
   "execution_count": 5,
   "id": "49a3b348-c73b-400c-920d-0901d81e128a",
   "metadata": {},
   "outputs": [
    {
     "name": "stdout",
     "output_type": "stream",
     "text": [
      "[2, 4, 6]\n"
     ]
    }
   ],
   "source": [
    "result = [each * 2 for each in temp]\n",
    "print(result)"
   ]
  },
  {
   "cell_type": "code",
   "execution_count": 6,
   "id": "cb80fd65-7297-43dc-97e5-71e6f830b66b",
   "metadata": {},
   "outputs": [
    {
     "name": "stdout",
     "output_type": "stream",
     "text": [
      "[2, 4, 6]\n"
     ]
    }
   ],
   "source": [
    "# result = []\n",
    "# for each in temp:\n",
    "#     result.append(each * 2)\n",
    "# print(result)"
   ]
  },
  {
   "cell_type": "code",
   "execution_count": 10,
   "id": "17684fa2-8e27-4988-94c5-1edc40881e3c",
   "metadata": {},
   "outputs": [
    {
     "data": {
      "text/plain": [
       "[2]"
      ]
     },
     "execution_count": 10,
     "metadata": {},
     "output_type": "execute_result"
    }
   ],
   "source": [
    "# to filter only even numbers\n",
    "result = [each for each in temp if each % 2 == 0]\n",
    "result"
   ]
  },
  {
   "cell_type": "code",
   "execution_count": 11,
   "id": "239c4f93-e169-4f69-8bf3-73a2779178cc",
   "metadata": {},
   "outputs": [],
   "source": [
    "# to multiply odd by 3 and even by 2\n",
    "result = [each * 3 if each % 2 != 0 else each * 2 for each in temp]"
   ]
  },
  {
   "cell_type": "code",
   "execution_count": 21,
   "id": "240ba6b7-a6c8-42c6-9516-e5d440f966da",
   "metadata": {},
   "outputs": [
    {
     "data": {
      "text/plain": [
       "[3, 4, 9, 101]"
      ]
     },
     "execution_count": 21,
     "metadata": {},
     "output_type": "execute_result"
    }
   ],
   "source": [
    "result = [each if each > 100 else each * 3 if each % 2 != 0 else each * 2 for each in temp]\n",
    "result"
   ]
  },
  {
   "cell_type": "code",
   "execution_count": 16,
   "id": "de5bee41-3b66-4add-b5d0-4c080b5a6eba",
   "metadata": {},
   "outputs": [
    {
     "name": "stdout",
     "output_type": "stream",
     "text": [
      "value > 100\n"
     ]
    }
   ],
   "source": [
    "value = 101\n",
    "if value > 100: print('value > 100')\n",
    "elif value % 2 == 0: print('even')\n",
    "else: print('odd')"
   ]
  },
  {
   "cell_type": "markdown",
   "id": "0b68e2d1-163b-4e14-99f3-4f2e439b9260",
   "metadata": {},
   "source": [
    "### File Handling"
   ]
  },
  {
   "cell_type": "code",
   "execution_count": null,
   "id": "5aaf1233-c7a0-4246-a7d2-c30681700842",
   "metadata": {},
   "outputs": [],
   "source": [
    "# r+ -> read a file with write access\n",
    "# r -> read only\n",
    "# w+ -> write + read\n",
    "# w -> write"
   ]
  },
  {
   "cell_type": "code",
   "execution_count": 27,
   "id": "affe1c74-05e0-466e-9d8a-dbb3207ae423",
   "metadata": {},
   "outputs": [],
   "source": [
    "with open('test.txt', 'w+') as temp:\n",
    "    temp.write('Hi\\nApple')\n",
    "    temp.writelines(['\\nBat\\n','Cat\\n'])\n",
    "    temp.close()"
   ]
  },
  {
   "cell_type": "code",
   "execution_count": 30,
   "id": "d1c5a284-c970-4337-aff7-1c366c1a32df",
   "metadata": {},
   "outputs": [
    {
     "name": "stdout",
     "output_type": "stream",
     "text": [
      "Hi\n",
      "Apple\n",
      "Bat\n",
      "Cat\n",
      "\n"
     ]
    }
   ],
   "source": [
    "with open('test.txt', 'r+') as temp:\n",
    "    print(temp.read())\n",
    "    temp.write('\\nTest')\n",
    "    temp.close()"
   ]
  },
  {
   "cell_type": "code",
   "execution_count": 42,
   "id": "48bef472-f3d2-40c7-ab30-c5cd4a200e68",
   "metadata": {},
   "outputs": [
    {
     "name": "stdout",
     "output_type": "stream",
     "text": [
      "args ('apple',)\n",
      "kwargs {'c': 1}\n"
     ]
    }
   ],
   "source": [
    "def sample(a = 0, b= 1, *args, **kwargs):\n",
    "    print('args',args)\n",
    "    print('kwargs', kwargs)\n",
    "sample(2,3,'apple',c=1)"
   ]
  },
  {
   "cell_type": "code",
   "execution_count": null,
   "id": "c76d5c9b-7c79-4f80-a299-3dd38f74a261",
   "metadata": {},
   "outputs": [],
   "source": [
    "# sample(1,2, a = 1) works\n",
    "# sample(a = 1, b= 2, 3) don't work"
   ]
  },
  {
   "cell_type": "code",
   "execution_count": 43,
   "id": "f8814ca8-b9a8-4c67-a7ea-b1adbad97a28",
   "metadata": {},
   "outputs": [
    {
     "name": "stdout",
     "output_type": "stream",
     "text": [
      "-1 0\n",
      "+1 2\n"
     ]
    }
   ],
   "source": [
    "def parent(value):\n",
    "    def child_add(value):\n",
    "        print('+1', value+1)\n",
    "    def child_sub(value):\n",
    "        print('-1',value-1)\n",
    "    child_sub(value)\n",
    "    child_add(value)\n",
    "parent(1)"
   ]
  },
  {
   "cell_type": "code",
   "execution_count": 44,
   "id": "b1702512-f962-4791-9bac-4c8004b775ff",
   "metadata": {},
   "outputs": [
    {
     "data": {
      "text/plain": [
       "1710606036.5333488"
      ]
     },
     "execution_count": 44,
     "metadata": {},
     "output_type": "execute_result"
    }
   ],
   "source": [
    "import time\n",
    "time.time()"
   ]
  },
  {
   "cell_type": "code",
   "execution_count": 45,
   "id": "dc5aa859-31cc-4d92-ad62-99f334902ac9",
   "metadata": {},
   "outputs": [
    {
     "name": "stdout",
     "output_type": "stream",
     "text": [
      "date_time: 2024-03-16 21:50:36.533349\n",
      "type of dt: <class 'datetime.datetime'>\n"
     ]
    }
   ],
   "source": [
    "from datetime import datetime\n",
    "\n",
    "\n",
    "timestamp = 1710606036.5333488\n",
    "dt_obj = datetime.fromtimestamp(timestamp)\n",
    "\n",
    "print(\"date_time:\",dt_obj)\n",
    "print(\"type of dt:\",type(dt_obj))\n"
   ]
  },
  {
   "cell_type": "code",
   "execution_count": 46,
   "id": "cf24a615-04a2-428f-8694-2da05d2d0b2d",
   "metadata": {},
   "outputs": [
    {
     "name": "stdout",
     "output_type": "stream",
     "text": [
      "3628800\n",
      "Total time taken in :  factorial 2.000277280807495\n"
     ]
    }
   ],
   "source": [
    "# importing libraries\n",
    "import time\n",
    "import math\n",
    "\n",
    "# decorator to calculate duration\n",
    "# taken by any function.\n",
    "def calculate_time(func):\n",
    "\t\n",
    "\t# added arguments inside the inner1,\n",
    "\t# if function takes any arguments,\n",
    "\t# can be added like this.\n",
    "\tdef inner1(*args, **kwargs):\n",
    "\t\t# storing time before function execution\n",
    "\t\tbegin = time.time()\n",
    "\t\t\n",
    "\t\tfunc(*args, **kwargs) # factorial\n",
    "\n",
    "\t\t# storing time after function execution\n",
    "\t\tend = time.time()\n",
    "\t\tprint(\"Total time taken in : \", func.__name__, end - begin)\n",
    "\treturn inner1\n",
    "\n",
    "\n",
    "\n",
    "# this can be added to any function present,\n",
    "# in this case to calculate a factorial\n",
    "@calculate_time\n",
    "def factorial(num):\n",
    "\n",
    "\t# sleep 2 seconds because it takes very less time\n",
    "\t# so that you can see the actual difference\n",
    "\ttime.sleep(2)\n",
    "\tprint(math.factorial(num))\n",
    "\n",
    "# calling the function.\n",
    "factorial(10)\n"
   ]
  },
  {
   "cell_type": "code",
   "execution_count": null,
   "id": "13d83669-37a5-472d-befb-40c977d076b4",
   "metadata": {},
   "outputs": [],
   "source": []
  }
 ],
 "metadata": {
  "kernelspec": {
   "display_name": "Python 3 (ipykernel)",
   "language": "python",
   "name": "python3"
  },
  "language_info": {
   "codemirror_mode": {
    "name": "ipython",
    "version": 3
   },
   "file_extension": ".py",
   "mimetype": "text/x-python",
   "name": "python",
   "nbconvert_exporter": "python",
   "pygments_lexer": "ipython3",
   "version": "3.11.7"
  },
  "widgets": {
   "application/vnd.jupyter.widget-state+json": {
    "state": {},
    "version_major": 2,
    "version_minor": 0
   }
  }
 },
 "nbformat": 4,
 "nbformat_minor": 5
}
