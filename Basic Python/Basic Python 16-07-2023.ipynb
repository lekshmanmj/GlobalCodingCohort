{
 "cells": [
  {
   "cell_type": "markdown",
   "id": "e82bd155-19c9-4c35-bb2c-d51cae772a06",
   "metadata": {},
   "source": [
    "#### Auxiliary Space"
   ]
  },
  {
   "cell_type": "code",
   "execution_count": 2,
   "id": "0e368aeb-fb44-4af0-bacc-e58e014054b7",
   "metadata": {},
   "outputs": [
    {
     "name": "stdout",
     "output_type": "stream",
     "text": [
      "0\n",
      "1\n",
      "2\n",
      "3\n",
      "4\n",
      "5\n",
      "6\n",
      "7\n",
      "8\n",
      "9\n"
     ]
    }
   ],
   "source": [
    "# Example of Auxiliary Space of this algo is O[1]\n",
    "n = 10\n",
    "i = 0\n",
    "while i < n:\n",
    "    print(i)\n",
    "    i += 1"
   ]
  },
  {
   "cell_type": "code",
   "execution_count": 5,
   "id": "97675ef6-93e7-4b80-b7da-2c3668e3502b",
   "metadata": {},
   "outputs": [
    {
     "name": "stdout",
     "output_type": "stream",
     "text": [
      "1\n",
      "2\n",
      "3\n",
      "4\n",
      "5\n"
     ]
    }
   ],
   "source": [
    "# Auxiliary Space is O[n]]\n",
    "n = 5\n",
    "i = 0\n",
    "temp = []\n",
    "while i < n:\n",
    "    temp.append(i)\n",
    "    print(len(temp))\n",
    "    i += 1"
   ]
  },
  {
   "cell_type": "markdown",
   "id": "5678f0ba-13e1-4ba8-96c3-5d3f34bee618",
   "metadata": {},
   "source": [
    "#### Recursion"
   ]
  },
  {
   "cell_type": "code",
   "execution_count": 8,
   "id": "5def0a01-9d9c-40ad-917e-88c0d1f6542d",
   "metadata": {},
   "outputs": [],
   "source": [
    "def rev(n):\n",
    "    print(n)\n",
    "    if n > 1: rev(n-1)"
   ]
  },
  {
   "cell_type": "code",
   "execution_count": 9,
   "id": "304e5956-74f2-4b47-9444-4fc30c2342e7",
   "metadata": {},
   "outputs": [
    {
     "name": "stdout",
     "output_type": "stream",
     "text": [
      "5\n",
      "4\n",
      "3\n",
      "2\n",
      "1\n"
     ]
    }
   ],
   "source": [
    "rev(5)"
   ]
  },
  {
   "cell_type": "code",
   "execution_count": 15,
   "id": "1ff23e29-4253-4792-96bd-e128a65eb675",
   "metadata": {},
   "outputs": [
    {
     "name": "stdout",
     "output_type": "stream",
     "text": [
      "10\n",
      "9\n",
      "8\n",
      "7\n",
      "6\n",
      "5\n",
      "4\n",
      "3\n",
      "2\n",
      "1\n",
      "CPU times: user 52 µs, sys: 0 ns, total: 52 µs\n",
      "Wall time: 71.3 µs\n"
     ]
    }
   ],
   "source": [
    "%%time\n",
    "for i in range(10,0,-1):\n",
    "    print(i)"
   ]
  },
  {
   "cell_type": "code",
   "execution_count": 18,
   "id": "a3b463ee-39b8-4585-9f00-767325f1238f",
   "metadata": {},
   "outputs": [
    {
     "name": "stdout",
     "output_type": "stream",
     "text": [
      "10\n",
      "9\n",
      "8\n",
      "7\n",
      "6\n",
      "5\n",
      "4\n",
      "3\n",
      "2\n",
      "1\n",
      "CPU times: user 50 µs, sys: 0 ns, total: 50 µs\n",
      "Wall time: 51.5 µs\n"
     ]
    }
   ],
   "source": [
    "%%time\n",
    "i = 10\n",
    "while i >= 1:\n",
    "    print(i)\n",
    "    i -= 1"
   ]
  },
  {
   "cell_type": "code",
   "execution_count": 20,
   "id": "df7b484c-5ee1-4f59-8b6d-8350a2f453ee",
   "metadata": {},
   "outputs": [
    {
     "name": "stdout",
     "output_type": "stream",
     "text": [
      "10\n",
      "9\n",
      "8\n",
      "7\n",
      "6\n",
      "5\n",
      "4\n",
      "3\n",
      "2\n",
      "1\n",
      "CPU times: user 106 µs, sys: 21 µs, total: 127 µs\n",
      "Wall time: 141 µs\n"
     ]
    }
   ],
   "source": [
    "%%time\n",
    "def rev(n):\n",
    "    print(n)\n",
    "    if n > 1: rev(n-1)\n",
    "rev(10)"
   ]
  },
  {
   "cell_type": "code",
   "execution_count": 23,
   "id": "09550859-8d61-433d-a028-c80c2f442545",
   "metadata": {},
   "outputs": [
    {
     "name": "stdout",
     "output_type": "stream",
     "text": [
      "10\n",
      "9\n",
      "8\n",
      "7\n",
      "6\n",
      "5\n",
      "4\n",
      "3\n",
      "2\n",
      "1\n",
      "CPU times: user 38 µs, sys: 8 µs, total: 46 µs\n",
      "Wall time: 47.7 µs\n"
     ]
    }
   ],
   "source": [
    "%%time\n",
    "rev(10)"
   ]
  },
  {
   "cell_type": "markdown",
   "id": "1d82a5f5-7865-4c09-bd93-56c48dbf8db4",
   "metadata": {},
   "source": [
    "#### Regular Expression"
   ]
  },
  {
   "cell_type": "code",
   "execution_count": 24,
   "id": "5d6629ca-a464-4250-9ddd-df462fe50bc3",
   "metadata": {},
   "outputs": [],
   "source": [
    "import re"
   ]
  },
  {
   "cell_type": "code",
   "execution_count": 25,
   "id": "d07e9c1e-099f-46d4-82e6-b3e2bbbabfe6",
   "metadata": {},
   "outputs": [],
   "source": [
    "temp = 'This is an Apple'"
   ]
  },
  {
   "cell_type": "code",
   "execution_count": 35,
   "id": "55f7efa4-10c4-4910-8f9b-5840ddf7d761",
   "metadata": {},
   "outputs": [],
   "source": [
    "match = re.search(r'App',temp)"
   ]
  },
  {
   "cell_type": "code",
   "execution_count": 37,
   "id": "1fe871dc-8705-4c5b-ab01-a42b303c6ae8",
   "metadata": {},
   "outputs": [
    {
     "data": {
      "text/plain": [
       "'App'"
      ]
     },
     "execution_count": 37,
     "metadata": {},
     "output_type": "execute_result"
    }
   ],
   "source": [
    "temp[match.start():match.end()]"
   ]
  },
  {
   "cell_type": "code",
   "execution_count": 38,
   "id": "7c888401-f506-4ab9-bae9-b283182927a3",
   "metadata": {},
   "outputs": [
    {
     "data": {
      "text/plain": [
       "(11, 14)"
      ]
     },
     "execution_count": 38,
     "metadata": {},
     "output_type": "execute_result"
    }
   ],
   "source": [
    "match.start(),match.end()"
   ]
  },
  {
   "cell_type": "code",
   "execution_count": 61,
   "id": "fcd939d3-f6c8-4628-b845-70a9309ce12c",
   "metadata": {},
   "outputs": [],
   "source": [
    "temp = 'This is an Apple. the'"
   ]
  },
  {
   "cell_type": "code",
   "execution_count": 48,
   "id": "6e8bde15-4014-4d65-a256-9e979c4ac298",
   "metadata": {},
   "outputs": [
    {
     "data": {
      "text/plain": [
       "<re.Match object; span=(16, 17), match='.'>"
      ]
     },
     "execution_count": 48,
     "metadata": {},
     "output_type": "execute_result"
    }
   ],
   "source": [
    "re.search(r'\\.',temp)"
   ]
  },
  {
   "cell_type": "code",
   "execution_count": 107,
   "id": "54607612-e30c-4103-9d42-e06f63d8450e",
   "metadata": {},
   "outputs": [
    {
     "data": {
      "text/plain": [
       "<re.Match object; span=(0, 1), match='M'>"
      ]
     },
     "execution_count": 107,
     "metadata": {},
     "output_type": "execute_result"
    }
   ],
   "source": [
    "re.search(r'.',temp)"
   ]
  },
  {
   "cell_type": "code",
   "execution_count": 50,
   "id": "43c9d78a-e905-4ce5-9ab1-88ff478e8fab",
   "metadata": {},
   "outputs": [
    {
     "data": {
      "text/plain": [
       "<re.Match object; span=(8, 9), match='a'>"
      ]
     },
     "execution_count": 50,
     "metadata": {},
     "output_type": "execute_result"
    }
   ],
   "source": [
    "re.search(r'[a-e]',temp)"
   ]
  },
  {
   "cell_type": "code",
   "execution_count": 53,
   "id": "23d39c28-d69d-417b-bb41-fb9629313acf",
   "metadata": {},
   "outputs": [
    {
     "data": {
      "text/plain": [
       "<re.Match object; span=(0, 0), match=''>"
      ]
     },
     "execution_count": 53,
     "metadata": {},
     "output_type": "execute_result"
    }
   ],
   "source": [
    "re.search(r'[A-Ea-e]',temp)"
   ]
  },
  {
   "cell_type": "code",
   "execution_count": 52,
   "id": "7e34c173-82c7-4cdb-bcb9-f0f613e983cb",
   "metadata": {},
   "outputs": [
    {
     "data": {
      "text/plain": [
       "<re.Match object; span=(11, 12), match='A'>"
      ]
     },
     "execution_count": 52,
     "metadata": {},
     "output_type": "execute_result"
    }
   ],
   "source": [
    "re.search(r'[A-E]',temp)"
   ]
  },
  {
   "cell_type": "code",
   "execution_count": 54,
   "id": "80233d4c-0d93-4192-ad53-15910870629a",
   "metadata": {},
   "outputs": [
    {
     "data": {
      "text/plain": [
       "<re.Match object; span=(0, 2), match='Th'>"
      ]
     },
     "execution_count": 54,
     "metadata": {},
     "output_type": "execute_result"
    }
   ],
   "source": [
    "re.match(r'^Th',temp)"
   ]
  },
  {
   "cell_type": "code",
   "execution_count": 58,
   "id": "8a08b6b7-1297-41aa-9eb8-913d13196246",
   "metadata": {},
   "outputs": [],
   "source": [
    "re.match(r'^the',temp)"
   ]
  },
  {
   "cell_type": "code",
   "execution_count": 65,
   "id": "961ed0f3-e4e5-4fea-a0e0-5a989d518291",
   "metadata": {},
   "outputs": [],
   "source": [
    "re.match(r'the$',temp)"
   ]
  },
  {
   "cell_type": "code",
   "execution_count": 74,
   "id": "811001a5-b505-44bb-a71c-25733a815355",
   "metadata": {},
   "outputs": [
    {
     "data": {
      "text/plain": [
       "<re.Match object; span=(0, 1), match='b'>"
      ]
     },
     "execution_count": 74,
     "metadata": {},
     "output_type": "execute_result"
    }
   ],
   "source": [
    "re.match(r'a|b','bc')"
   ]
  },
  {
   "cell_type": "code",
   "execution_count": 75,
   "id": "b5fbb875-e285-418e-b4ea-1fdcfa5edeaa",
   "metadata": {},
   "outputs": [],
   "source": [
    "re.match(r'a|b','cb')"
   ]
  },
  {
   "cell_type": "code",
   "execution_count": 76,
   "id": "d43ea766-8e84-43f2-a736-594f2a4cdfbf",
   "metadata": {},
   "outputs": [
    {
     "data": {
      "text/plain": [
       "<re.Match object; span=(0, 2), match='ab'>"
      ]
     },
     "execution_count": 76,
     "metadata": {},
     "output_type": "execute_result"
    }
   ],
   "source": [
    "re.match(r'a?b','ab')"
   ]
  },
  {
   "cell_type": "code",
   "execution_count": 77,
   "id": "c4f4e9bf-985a-4d24-8bd9-f8612a083661",
   "metadata": {},
   "outputs": [
    {
     "data": {
      "text/plain": [
       "<re.Match object; span=(0, 1), match='b'>"
      ]
     },
     "execution_count": 77,
     "metadata": {},
     "output_type": "execute_result"
    }
   ],
   "source": [
    "re.match(r'a?b','b')"
   ]
  },
  {
   "cell_type": "code",
   "execution_count": 78,
   "id": "0cc20705-2bf1-4d53-bbcf-c73a42355160",
   "metadata": {},
   "outputs": [],
   "source": [
    "re.match(r'a?b','zb')"
   ]
  },
  {
   "cell_type": "code",
   "execution_count": 79,
   "id": "b09b233b-d33f-4ab0-8846-a7baecd62ace",
   "metadata": {},
   "outputs": [
    {
     "data": {
      "text/plain": [
       "<re.Match object; span=(0, 3), match='aaa'>"
      ]
     },
     "execution_count": 79,
     "metadata": {},
     "output_type": "execute_result"
    }
   ],
   "source": [
    "re.match(r'a{1,3}','aaab')"
   ]
  },
  {
   "cell_type": "code",
   "execution_count": 82,
   "id": "22b3cab1-e582-4ce8-a31a-d22fba88cc38",
   "metadata": {},
   "outputs": [],
   "source": [
    "re.match(r'a{1,3}','b')"
   ]
  },
  {
   "cell_type": "code",
   "execution_count": 83,
   "id": "cf83f31b-47cb-4df1-ba11-65941c62d7e4",
   "metadata": {},
   "outputs": [
    {
     "data": {
      "text/plain": [
       "<re.Match object; span=(0, 2), match='aa'>"
      ]
     },
     "execution_count": 83,
     "metadata": {},
     "output_type": "execute_result"
    }
   ],
   "source": [
    "re.match(r'a{1,3}','aab')"
   ]
  },
  {
   "cell_type": "code",
   "execution_count": 85,
   "id": "62774c75-b7a1-4de3-a606-367f413a2be7",
   "metadata": {},
   "outputs": [
    {
     "data": {
      "text/plain": [
       "<re.Match object; span=(0, 1), match='a'>"
      ]
     },
     "execution_count": 85,
     "metadata": {},
     "output_type": "execute_result"
    }
   ],
   "source": [
    "re.match(r'a{1,5}','ab')"
   ]
  },
  {
   "cell_type": "code",
   "execution_count": 87,
   "id": "2ced1319-ee92-4536-b622-85d6acb808f5",
   "metadata": {},
   "outputs": [
    {
     "data": {
      "text/plain": [
       "['T', 'i', 'm', 'e', 'i', 's', '1', '1', 'a', 'm']"
      ]
     },
     "execution_count": 87,
     "metadata": {},
     "output_type": "execute_result"
    }
   ],
   "source": [
    "re.findall(r'\\w','Time is 11 am')"
   ]
  },
  {
   "cell_type": "code",
   "execution_count": 88,
   "id": "be4293d3-33ac-40de-af88-084927377048",
   "metadata": {},
   "outputs": [
    {
     "data": {
      "text/plain": [
       "['Time', 'is', '11', 'am']"
      ]
     },
     "execution_count": 88,
     "metadata": {},
     "output_type": "execute_result"
    }
   ],
   "source": [
    "re.findall(r'\\w+','Time is 11 am')"
   ]
  },
  {
   "cell_type": "code",
   "execution_count": 89,
   "id": "b84956fa-441a-4f07-a504-b786d9ea4291",
   "metadata": {},
   "outputs": [
    {
     "data": {
      "text/plain": [
       "['1', '1']"
      ]
     },
     "execution_count": 89,
     "metadata": {},
     "output_type": "execute_result"
    }
   ],
   "source": [
    "re.findall(r'\\d','Time is 11 am')"
   ]
  },
  {
   "cell_type": "code",
   "execution_count": 90,
   "id": "b5b6bfbd-6e17-46ab-957a-d850776eeb3c",
   "metadata": {},
   "outputs": [
    {
     "data": {
      "text/plain": [
       "['11']"
      ]
     },
     "execution_count": 90,
     "metadata": {},
     "output_type": "execute_result"
    }
   ],
   "source": [
    "re.findall(r'\\d+','Time is 11 am')"
   ]
  },
  {
   "cell_type": "code",
   "execution_count": 100,
   "id": "dcd6f5b6-7a19-4d40-b20a-14d0695d3334",
   "metadata": {},
   "outputs": [],
   "source": [
    "temp = 'My Gmail ID is lekshmanmj.001@gmail.com'"
   ]
  },
  {
   "cell_type": "code",
   "execution_count": 92,
   "id": "2f1c028d-ccbb-4c4f-be24-d5e04ba325ef",
   "metadata": {},
   "outputs": [],
   "source": [
    "import string"
   ]
  },
  {
   "cell_type": "code",
   "execution_count": 93,
   "id": "1573c20d-1aab-4655-a092-8d82b107ef53",
   "metadata": {},
   "outputs": [
    {
     "data": {
      "text/plain": [
       "'!\"#$%&\\'()*+,-./:;<=>?@[\\\\]^_`{|}~'"
      ]
     },
     "execution_count": 93,
     "metadata": {},
     "output_type": "execute_result"
    }
   ],
   "source": [
    "string.punctuation"
   ]
  },
  {
   "cell_type": "code",
   "execution_count": 106,
   "id": "183ec9b1-ae8b-406f-a01e-d8bc23359bc7",
   "metadata": {},
   "outputs": [
    {
     "data": {
      "text/plain": [
       "<re.Match object; span=(15, 39), match='lekshmanmj.001@gmail.com'>"
      ]
     },
     "execution_count": 106,
     "metadata": {},
     "output_type": "execute_result"
    }
   ],
   "source": [
    "re.search(r'[A-Za-z0-9_.]*(@gmail.com)',temp)"
   ]
  },
  {
   "cell_type": "code",
   "execution_count": null,
   "id": "c15620df-1036-4689-8414-774d253289ea",
   "metadata": {},
   "outputs": [],
   "source": []
  }
 ],
 "metadata": {
  "kernelspec": {
   "display_name": "Python 3 (ipykernel)",
   "language": "python",
   "name": "python3"
  },
  "language_info": {
   "codemirror_mode": {
    "name": "ipython",
    "version": 3
   },
   "file_extension": ".py",
   "mimetype": "text/x-python",
   "name": "python",
   "nbconvert_exporter": "python",
   "pygments_lexer": "ipython3",
   "version": "3.11.4"
  }
 },
 "nbformat": 4,
 "nbformat_minor": 5
}
