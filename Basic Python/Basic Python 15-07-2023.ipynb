{
 "cells": [
  {
   "cell_type": "markdown",
   "id": "ac284b75-09c9-4b3a-bea7-ff2d0be13b70",
   "metadata": {},
   "source": [
    "#### Ways of getting Input from user"
   ]
  },
  {
   "cell_type": "raw",
   "id": "53855435-61d6-4df4-bdf6-1173fc6e1412",
   "metadata": {},
   "source": [
    "# method 1\n",
    "n = input()"
   ]
  },
  {
   "cell_type": "raw",
   "id": "ece0be72-81d7-42f6-9539-bd78e671c616",
   "metadata": {},
   "source": [
    "# method 2\n",
    "import sys\n",
    "sys.stdin.readline()"
   ]
  },
  {
   "cell_type": "code",
   "execution_count": 1,
   "id": "ac5efa3a-4d53-451f-a282-e9174f334333",
   "metadata": {},
   "outputs": [
    {
     "name": "stdin",
     "output_type": "stream",
     "text": [
      " 1516\n"
     ]
    },
    {
     "data": {
      "text/plain": [
       "'1516'"
      ]
     },
     "execution_count": 1,
     "metadata": {},
     "output_type": "execute_result"
    }
   ],
   "source": [
    "input()"
   ]
  },
  {
   "cell_type": "raw",
   "id": "3e339c41-c1f7-4896-8545-69ce7cd4cbf5",
   "metadata": {},
   "source": [
    "n = int(input())\n",
    "for i in range(1,11):\n",
    "    # complete the code\n",
    "\n",
    "Sample output 1:\n",
    "n = 2\n",
    "2\n",
    "4\n",
    "6\n",
    "8\n",
    "10\n",
    "12\n",
    "14\n",
    "16\n",
    "18\n",
    "20\n",
    "\n",
    "Sample output 2:\n",
    "n = 1\n",
    "1\n",
    "2\n",
    "3\n",
    "4\n",
    "5\n",
    "6\n",
    "7\n",
    "8\n",
    "9\n",
    "10"
   ]
  },
  {
   "cell_type": "code",
   "execution_count": 19,
   "id": "8ab9cd69-31ed-4bc5-94e4-0073fe657ac7",
   "metadata": {},
   "outputs": [
    {
     "name": "stdin",
     "output_type": "stream",
     "text": [
      " 3\n"
     ]
    },
    {
     "name": "stdout",
     "output_type": "stream",
     "text": [
      "3\n",
      "6\n",
      "9\n",
      "12\n",
      "15\n",
      "18\n",
      "21\n",
      "24\n",
      "27\n",
      "30\n"
     ]
    }
   ],
   "source": [
    "n = int(input())\n",
    "for i in range(1,11):\n",
    "    print(i*n)"
   ]
  },
  {
   "cell_type": "code",
   "execution_count": null,
   "id": "d00254d2-40aa-478a-ab32-38c0c67c082e",
   "metadata": {},
   "outputs": [],
   "source": []
  }
 ],
 "metadata": {
  "kernelspec": {
   "display_name": "Python 3 (ipykernel)",
   "language": "python",
   "name": "python3"
  },
  "language_info": {
   "codemirror_mode": {
    "name": "ipython",
    "version": 3
   },
   "file_extension": ".py",
   "mimetype": "text/x-python",
   "name": "python",
   "nbconvert_exporter": "python",
   "pygments_lexer": "ipython3",
   "version": "3.11.4"
  }
 },
 "nbformat": 4,
 "nbformat_minor": 5
}
