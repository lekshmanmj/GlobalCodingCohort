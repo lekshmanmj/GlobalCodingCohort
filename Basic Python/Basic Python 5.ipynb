{
 "cells": [
  {
   "cell_type": "code",
   "execution_count": 20,
   "id": "da3918fc-ecd2-4941-ac6a-c8eb2a70c068",
   "metadata": {},
   "outputs": [],
   "source": [
    "# Class\n",
    "# access modifiers\n",
    "class SampleClass:\n",
    "    data_public = 1 # anyone's access\n",
    "    __data_private = 2 # only internal access\n",
    "    _data_protected = 3 # for child access"
   ]
  },
  {
   "cell_type": "code",
   "execution_count": 21,
   "id": "6f536cbc-dea3-418c-aeb6-368e1d0993d0",
   "metadata": {},
   "outputs": [],
   "source": [
    "temp = SampleClass()"
   ]
  },
  {
   "cell_type": "code",
   "execution_count": 23,
   "id": "38ef5b2c-abb7-46eb-9235-ddc206690c12",
   "metadata": {},
   "outputs": [
    {
     "data": {
      "text/plain": [
       "1"
      ]
     },
     "execution_count": 23,
     "metadata": {},
     "output_type": "execute_result"
    }
   ],
   "source": [
    "temp.data_public"
   ]
  },
  {
   "cell_type": "code",
   "execution_count": 50,
   "id": "8ecbe6e6-29f2-4678-aa60-0ffddefbcfb5",
   "metadata": {},
   "outputs": [],
   "source": [
    "class Sample:\n",
    "    def __init__(self,a) -> None:\n",
    "        self.__a = a\n",
    "        print('init executed')\n",
    "    def __private_method(self) -> int:\n",
    "        return self.__a\n",
    "    def public_method(self):\n",
    "        return self.__private_method()\n",
    "\n",
    "    # getter\n",
    "    @property\n",
    "    def a(self):\n",
    "        return self.__a\n",
    "\n",
    "    # setter\n",
    "    @a.setter\n",
    "    def a(self, val):\n",
    "        self.__a = val"
   ]
  },
  {
   "cell_type": "code",
   "execution_count": 51,
   "id": "9964318d-220d-44f9-9b26-eea1ca03d17d",
   "metadata": {},
   "outputs": [
    {
     "name": "stdout",
     "output_type": "stream",
     "text": [
      "init executed\n"
     ]
    }
   ],
   "source": [
    "temp = Sample(1)"
   ]
  },
  {
   "cell_type": "code",
   "execution_count": 52,
   "id": "1a66dbb7-3ae7-44c7-95e6-514b0bf3ad47",
   "metadata": {},
   "outputs": [
    {
     "data": {
      "text/plain": [
       "1"
      ]
     },
     "execution_count": 52,
     "metadata": {},
     "output_type": "execute_result"
    }
   ],
   "source": [
    "temp.public_method()"
   ]
  },
  {
   "cell_type": "code",
   "execution_count": 53,
   "id": "4261cd99-fa64-4f81-8666-74999f5ee702",
   "metadata": {},
   "outputs": [],
   "source": [
    "# setter and getter\n",
    "temp.a = 2"
   ]
  },
  {
   "cell_type": "code",
   "execution_count": 54,
   "id": "e47c71e0-1382-487f-8e87-7cb816e77907",
   "metadata": {},
   "outputs": [
    {
     "data": {
      "text/plain": [
       "2"
      ]
     },
     "execution_count": 54,
     "metadata": {},
     "output_type": "execute_result"
    }
   ],
   "source": [
    "temp.public_method()"
   ]
  },
  {
   "cell_type": "code",
   "execution_count": 66,
   "id": "9db29a06-04be-4643-b8ed-a81ac2f7bb19",
   "metadata": {},
   "outputs": [
    {
     "name": "stdout",
     "output_type": "stream",
     "text": [
      "parent init\n",
      "Attribute abc\n",
      "parent method\n"
     ]
    }
   ],
   "source": [
    "# Inheritance\n",
    "# Parent Class or Base class\n",
    "class Parent:\n",
    "    name = 'abc'\n",
    "    def __init__(self):\n",
    "        self.__private = 1\n",
    "        self._protected = 2\n",
    "        self.public = 3\n",
    "        print('parent init')\n",
    "        print('Attribute', self.name)\n",
    "    def method_parent(self):\n",
    "        print('parent method')\n",
    "parent = Parent()\n",
    "parent.method_parent()"
   ]
  },
  {
   "cell_type": "code",
   "execution_count": 64,
   "id": "72f308bc-cb30-4cfb-9ae7-1535cc0fa8c6",
   "metadata": {},
   "outputs": [
    {
     "name": "stdout",
     "output_type": "stream",
     "text": [
      "parent init\n",
      "child init\n",
      "protected from parent 2\n"
     ]
    }
   ],
   "source": [
    "# Child class or derived class\n",
    "class Child(Parent):\n",
    "    def __init__(self):\n",
    "        super().__init__()\n",
    "        print('child init')\n",
    "        print('protected from parent',self._protected)\n",
    "    def method_private(self):\n",
    "        print('private method')\n",
    "child = Child()"
   ]
  },
  {
   "cell_type": "code",
   "execution_count": 59,
   "id": "14101805-d8b1-4878-9157-3c2bf84d2ef6",
   "metadata": {},
   "outputs": [
    {
     "name": "stdout",
     "output_type": "stream",
     "text": [
      "parent method\n"
     ]
    }
   ],
   "source": [
    "child.method_parent()"
   ]
  },
  {
   "cell_type": "code",
   "execution_count": 60,
   "id": "532af538-32e5-4b34-a054-10bbf84fc750",
   "metadata": {},
   "outputs": [
    {
     "name": "stdout",
     "output_type": "stream",
     "text": [
      "private method\n"
     ]
    }
   ],
   "source": [
    "child.method_private()"
   ]
  },
  {
   "cell_type": "code",
   "execution_count": null,
   "id": "a14f9e63-be42-455e-ab4f-e761923999ad",
   "metadata": {},
   "outputs": [],
   "source": [
    "child."
   ]
  }
 ],
 "metadata": {
  "kernelspec": {
   "display_name": "Python 3 (ipykernel)",
   "language": "python",
   "name": "python3"
  },
  "language_info": {
   "codemirror_mode": {
    "name": "ipython",
    "version": 3
   },
   "file_extension": ".py",
   "mimetype": "text/x-python",
   "name": "python",
   "nbconvert_exporter": "python",
   "pygments_lexer": "ipython3",
   "version": "3.11.7"
  },
  "widgets": {
   "application/vnd.jupyter.widget-state+json": {
    "state": {},
    "version_major": 2,
    "version_minor": 0
   }
  }
 },
 "nbformat": 4,
 "nbformat_minor": 5
}
