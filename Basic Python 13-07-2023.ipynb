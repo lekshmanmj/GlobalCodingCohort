{
 "cells": [
  {
   "cell_type": "markdown",
   "id": "602894d7-1328-4c3d-af91-8c8989bc011a",
   "metadata": {},
   "source": [
    "#### Methods (Function)"
   ]
  },
  {
   "cell_type": "code",
   "execution_count": 1,
   "id": "9328586f-4bee-4a02-8037-613dcbeb40f1",
   "metadata": {},
   "outputs": [],
   "source": [
    "a = 1\n",
    "b = 1\n"
   ]
  },
  {
   "cell_type": "code",
   "execution_count": null,
   "id": "62c1242c-f60b-4dc7-8cfb-a8609bb5704a",
   "metadata": {},
   "outputs": [],
   "source": [
    "# some random operation\n",
    "# multiplication\n",
    "# division\n",
    "# some random operation\n",
    "# multiplication\n",
    "# division\n",
    "# some random operation"
   ]
  },
  {
   "cell_type": "code",
   "execution_count": 2,
   "id": "98563d9f-b535-4836-ae13-8b2440e48d80",
   "metadata": {},
   "outputs": [],
   "source": [
    "a = a + b\n",
    "a = a * 3\n",
    "a = a / 2\n",
    "a = a % b\n",
    "a = a * 3\n",
    "a = a / 2\n",
    "a = a - 100"
   ]
  },
  {
   "cell_type": "code",
   "execution_count": 10,
   "id": "8f31c086-f43c-48a5-aacd-a905f46a0fb5",
   "metadata": {},
   "outputs": [],
   "source": [
    "# create void method (without arguments)\n",
    "def sample1():\n",
    "    print('Hello Folks')"
   ]
  },
  {
   "cell_type": "code",
   "execution_count": 11,
   "id": "e6424ec0-67a4-45b4-884e-75aa3c79c762",
   "metadata": {},
   "outputs": [
    {
     "name": "stdout",
     "output_type": "stream",
     "text": [
      "Hello Folks\n"
     ]
    }
   ],
   "source": [
    "# call method\n",
    "sample1()"
   ]
  },
  {
   "cell_type": "code",
   "execution_count": 12,
   "id": "883256fd-fb3f-4338-b3f8-5ad02c8a156b",
   "metadata": {},
   "outputs": [
    {
     "name": "stdout",
     "output_type": "stream",
     "text": [
      "Hello Folks\n"
     ]
    }
   ],
   "source": [
    "temp = sample1()"
   ]
  },
  {
   "cell_type": "code",
   "execution_count": 14,
   "id": "0e47f900-b776-4ac2-ab2a-e1b0c9390577",
   "metadata": {},
   "outputs": [],
   "source": [
    "temp"
   ]
  },
  {
   "cell_type": "code",
   "execution_count": 15,
   "id": "84130a37-f688-4b66-a45f-f2d56c1f6c0f",
   "metadata": {},
   "outputs": [],
   "source": [
    "# create method that returns any value (without arguments)\n",
    "def sample1():\n",
    "    return 'Hello Folks !'"
   ]
  },
  {
   "cell_type": "code",
   "execution_count": 17,
   "id": "ca956971-2705-4b9d-8495-088066c3cbfd",
   "metadata": {},
   "outputs": [],
   "source": [
    "temp = sample1()"
   ]
  },
  {
   "cell_type": "code",
   "execution_count": 18,
   "id": "93b31eb4-af5d-4513-be52-8db60cc1f987",
   "metadata": {},
   "outputs": [
    {
     "data": {
      "text/plain": [
       "'Hello Folks !'"
      ]
     },
     "execution_count": 18,
     "metadata": {},
     "output_type": "execute_result"
    }
   ],
   "source": [
    "temp"
   ]
  },
  {
   "cell_type": "code",
   "execution_count": 19,
   "id": "cddc6ab6-c462-4eec-bf82-88145e5c5979",
   "metadata": {},
   "outputs": [],
   "source": [
    "# create method with argument\n",
    "def sample2(a):\n",
    "    return a + 1"
   ]
  },
  {
   "cell_type": "code",
   "execution_count": 20,
   "id": "63c0a2e8-4a63-4653-800a-03a632e8cc17",
   "metadata": {},
   "outputs": [],
   "source": [
    "temp = sample2(1)"
   ]
  },
  {
   "cell_type": "code",
   "execution_count": 21,
   "id": "fb4d1e80-2770-4739-8279-cb525a6e9fa6",
   "metadata": {},
   "outputs": [
    {
     "data": {
      "text/plain": [
       "2"
      ]
     },
     "execution_count": 21,
     "metadata": {},
     "output_type": "execute_result"
    }
   ],
   "source": [
    "temp"
   ]
  },
  {
   "cell_type": "code",
   "execution_count": 22,
   "id": "063dbaf4-969e-41d3-ba3f-c3e8d974567e",
   "metadata": {},
   "outputs": [
    {
     "data": {
      "text/plain": [
       "3"
      ]
     },
     "execution_count": 22,
     "metadata": {},
     "output_type": "execute_result"
    }
   ],
   "source": [
    "sample2(a = 2)"
   ]
  },
  {
   "cell_type": "code",
   "execution_count": 23,
   "id": "f63710bd-4676-45ac-91ca-7ffe6d6c2747",
   "metadata": {},
   "outputs": [
    {
     "ename": "TypeError",
     "evalue": "sample2() missing 1 required positional argument: 'a'",
     "output_type": "error",
     "traceback": [
      "\u001b[0;31m---------------------------------------------------------------------------\u001b[0m",
      "\u001b[0;31mTypeError\u001b[0m                                 Traceback (most recent call last)",
      "Cell \u001b[0;32mIn[23], line 1\u001b[0m\n\u001b[0;32m----> 1\u001b[0m \u001b[43msample2\u001b[49m\u001b[43m(\u001b[49m\u001b[43m)\u001b[49m\n",
      "\u001b[0;31mTypeError\u001b[0m: sample2() missing 1 required positional argument: 'a'"
     ]
    }
   ],
   "source": [
    "sample2() # understand the error"
   ]
  },
  {
   "cell_type": "code",
   "execution_count": 24,
   "id": "70a3757c-ab45-4c8a-b498-c5cb636b3042",
   "metadata": {},
   "outputs": [],
   "source": [
    "# create a method with 2 arguments\n",
    "def sample3(a,b):\n",
    "    return a + b"
   ]
  },
  {
   "cell_type": "code",
   "execution_count": 26,
   "id": "ff0a739a-648d-4992-904b-3d4f1860b9ba",
   "metadata": {},
   "outputs": [
    {
     "data": {
      "text/plain": [
       "3"
      ]
     },
     "execution_count": 26,
     "metadata": {},
     "output_type": "execute_result"
    }
   ],
   "source": [
    "sample3(1,2)"
   ]
  },
  {
   "cell_type": "code",
   "execution_count": 27,
   "id": "90802023-6c44-436f-8ee7-498ea43aff22",
   "metadata": {},
   "outputs": [
    {
     "data": {
      "text/plain": [
       "3"
      ]
     },
     "execution_count": 27,
     "metadata": {},
     "output_type": "execute_result"
    }
   ],
   "source": [
    "sample3(b=1,a=2)"
   ]
  },
  {
   "cell_type": "code",
   "execution_count": 28,
   "id": "6a589fb8-aa92-47df-ba9b-873130f5f7c4",
   "metadata": {},
   "outputs": [],
   "source": [
    "# create method with args having default value\n",
    "def sample4(a,b = 0):\n",
    "    return a + b"
   ]
  },
  {
   "cell_type": "code",
   "execution_count": 29,
   "id": "0be735f7-b568-4e99-b84a-9245cdc33444",
   "metadata": {},
   "outputs": [
    {
     "data": {
      "text/plain": [
       "3"
      ]
     },
     "execution_count": 29,
     "metadata": {},
     "output_type": "execute_result"
    }
   ],
   "source": [
    "sample4(1,2)"
   ]
  },
  {
   "cell_type": "code",
   "execution_count": 30,
   "id": "dd41d0ea-cc5e-4e6f-9662-9a57eea841f8",
   "metadata": {},
   "outputs": [
    {
     "data": {
      "text/plain": [
       "1"
      ]
     },
     "execution_count": 30,
     "metadata": {},
     "output_type": "execute_result"
    }
   ],
   "source": [
    "sample4(1)"
   ]
  },
  {
   "cell_type": "code",
   "execution_count": 33,
   "id": "d2f12122-057a-48ce-a931-a1e5a4b26594",
   "metadata": {},
   "outputs": [
    {
     "ename": "TypeError",
     "evalue": "sample4() missing 1 required positional argument: 'a'",
     "output_type": "error",
     "traceback": [
      "\u001b[0;31m---------------------------------------------------------------------------\u001b[0m",
      "\u001b[0;31mTypeError\u001b[0m                                 Traceback (most recent call last)",
      "Cell \u001b[0;32mIn[33], line 1\u001b[0m\n\u001b[0;32m----> 1\u001b[0m \u001b[43msample4\u001b[49m\u001b[43m(\u001b[49m\u001b[43mb\u001b[49m\u001b[38;5;241;43m=\u001b[39;49m\u001b[38;5;241;43m5\u001b[39;49m\u001b[43m)\u001b[49m\n",
      "\u001b[0;31mTypeError\u001b[0m: sample4() missing 1 required positional argument: 'a'"
     ]
    }
   ],
   "source": [
    "sample4(b=5) # scenario to understand"
   ]
  },
  {
   "cell_type": "code",
   "execution_count": 35,
   "id": "794390cb-1d5b-491b-99ae-212ecb90ba67",
   "metadata": {},
   "outputs": [],
   "source": [
    "def md(a): \n",
    "    a = a * 3\n",
    "    a = a / 2\n",
    "    return a"
   ]
  },
  {
   "cell_type": "code",
   "execution_count": 36,
   "id": "c2499891-f106-4bfe-b03a-7c774dea710d",
   "metadata": {},
   "outputs": [],
   "source": [
    "a = a + b\n",
    "a = md(a)\n",
    "a = a % b\n",
    "a = md(a)\n",
    "a = a - 100"
   ]
  },
  {
   "cell_type": "code",
   "execution_count": 37,
   "id": "ccda815e-d019-42f2-9109-08c5fe41ae7d",
   "metadata": {},
   "outputs": [],
   "source": [
    "# create no named or anonymous function / method\n",
    "lekshman = lambda x : x + 1"
   ]
  },
  {
   "cell_type": "code",
   "execution_count": 38,
   "id": "cfca7a91-48d9-4451-a8d3-f21628ee3d2a",
   "metadata": {},
   "outputs": [
    {
     "data": {
      "text/plain": [
       "2"
      ]
     },
     "execution_count": 38,
     "metadata": {},
     "output_type": "execute_result"
    }
   ],
   "source": [
    "lekshman(1)"
   ]
  },
  {
   "cell_type": "markdown",
   "id": "94039635-7a88-43e6-a6a2-db4db343119e",
   "metadata": {},
   "source": [
    "#### Class"
   ]
  },
  {
   "cell_type": "code",
   "execution_count": 40,
   "id": "2a771e4a-9622-4a5e-8ee2-9df62319a243",
   "metadata": {},
   "outputs": [],
   "source": [
    "class SampleClass:\n",
    "    public_var = 1\n",
    "    __private_var = 2\n",
    "    _protected_var = 3"
   ]
  },
  {
   "cell_type": "code",
   "execution_count": 41,
   "id": "1e2ab465-0153-4afd-ba36-2f16b9a192e6",
   "metadata": {},
   "outputs": [],
   "source": [
    "temp = SampleClass()"
   ]
  },
  {
   "cell_type": "code",
   "execution_count": 42,
   "id": "3b1fc546-01f4-432b-b2dd-89eeda464f77",
   "metadata": {},
   "outputs": [
    {
     "data": {
      "text/plain": [
       "1"
      ]
     },
     "execution_count": 42,
     "metadata": {},
     "output_type": "execute_result"
    }
   ],
   "source": [
    "temp.public_var"
   ]
  },
  {
   "cell_type": "code",
   "execution_count": 45,
   "id": "c64cd560-d0ff-41cb-b9d8-1adefed5676e",
   "metadata": {},
   "outputs": [
    {
     "data": {
      "text/plain": [
       "3"
      ]
     },
     "execution_count": 45,
     "metadata": {},
     "output_type": "execute_result"
    }
   ],
   "source": [
    "temp._protected_var"
   ]
  },
  {
   "cell_type": "code",
   "execution_count": 46,
   "id": "5a8258e0-b244-4ffb-91e9-b34e937da133",
   "metadata": {},
   "outputs": [
    {
     "ename": "AttributeError",
     "evalue": "'SampleClass' object has no attribute '__private_var'",
     "output_type": "error",
     "traceback": [
      "\u001b[0;31m---------------------------------------------------------------------------\u001b[0m",
      "\u001b[0;31mAttributeError\u001b[0m                            Traceback (most recent call last)",
      "Cell \u001b[0;32mIn[46], line 1\u001b[0m\n\u001b[0;32m----> 1\u001b[0m \u001b[43mtemp\u001b[49m\u001b[38;5;241;43m.\u001b[39;49m\u001b[43m__private_var\u001b[49m\n",
      "\u001b[0;31mAttributeError\u001b[0m: 'SampleClass' object has no attribute '__private_var'"
     ]
    }
   ],
   "source": [
    "temp.__private_var"
   ]
  },
  {
   "cell_type": "code",
   "execution_count": 65,
   "id": "f62610b1-8c23-459b-bf1d-116f2a1405db",
   "metadata": {},
   "outputs": [],
   "source": [
    "# Scenario 1: want to pass different values to different methods\n",
    "class BasicMath1:\n",
    "    def __init__(self):\n",
    "        pass\n",
    "    def add(self,a):\n",
    "        return a + 2\n",
    "    def sub(self,a):\n",
    "        return a - 2\n",
    "    def mul(self,a):\n",
    "        return a * 2\n",
    "    def div(self,a): \n",
    "        return a / 2"
   ]
  },
  {
   "cell_type": "code",
   "execution_count": 66,
   "id": "63bfa0f7-f3b3-40f3-b4f8-653e2d35351d",
   "metadata": {},
   "outputs": [],
   "source": [
    "temp = BasicMath1()"
   ]
  },
  {
   "cell_type": "code",
   "execution_count": 61,
   "id": "4e4a9d2b-9e58-44d3-86da-088c6459eda3",
   "metadata": {},
   "outputs": [
    {
     "data": {
      "text/plain": [
       "4"
      ]
     },
     "execution_count": 61,
     "metadata": {},
     "output_type": "execute_result"
    }
   ],
   "source": [
    "temp.add(2)"
   ]
  },
  {
   "cell_type": "code",
   "execution_count": 67,
   "id": "b755a832-b41d-45e9-8aca-723f0c1f40d2",
   "metadata": {},
   "outputs": [
    {
     "data": {
      "text/plain": [
       "1"
      ]
     },
     "execution_count": 67,
     "metadata": {},
     "output_type": "execute_result"
    }
   ],
   "source": [
    "temp.sub(3)"
   ]
  },
  {
   "cell_type": "code",
   "execution_count": 68,
   "id": "5e2a3b0f-4e43-4ff9-8ce0-f36dd3310817",
   "metadata": {},
   "outputs": [
    {
     "data": {
      "text/plain": [
       "10"
      ]
     },
     "execution_count": 68,
     "metadata": {},
     "output_type": "execute_result"
    }
   ],
   "source": [
    "temp.mul(5)"
   ]
  },
  {
   "cell_type": "code",
   "execution_count": 64,
   "id": "0bd4249f-488d-4d15-a14e-5c933b4910e6",
   "metadata": {},
   "outputs": [
    {
     "data": {
      "text/plain": [
       "1.0"
      ]
     },
     "execution_count": 64,
     "metadata": {},
     "output_type": "execute_result"
    }
   ],
   "source": [
    "temp.div(2)"
   ]
  },
  {
   "cell_type": "code",
   "execution_count": 76,
   "id": "68f913a1-3a0b-44b1-835e-fd846fe8d36b",
   "metadata": {},
   "outputs": [],
   "source": [
    "# Scenario 2:  common input value to all methods but will call method if required\n",
    "class BasicMath2:\n",
    "    def __init__(self,a):\n",
    "        self.a = a\n",
    "    def add(self):\n",
    "        return self.a + 2\n",
    "    def sub(self):\n",
    "        return self.a - 2\n",
    "    def mul(self):\n",
    "        return self.a * 2\n",
    "    def div(self): \n",
    "        return self.a / 2\n"
   ]
  },
  {
   "cell_type": "code",
   "execution_count": 70,
   "id": "e70115fe-9439-42ef-abd9-113c89a4a01c",
   "metadata": {},
   "outputs": [],
   "source": [
    "temp = BasicMath2(5)"
   ]
  },
  {
   "cell_type": "code",
   "execution_count": 71,
   "id": "8c5a649c-488c-4744-8c29-0049c5dcfb9e",
   "metadata": {},
   "outputs": [
    {
     "data": {
      "text/plain": [
       "7"
      ]
     },
     "execution_count": 71,
     "metadata": {},
     "output_type": "execute_result"
    }
   ],
   "source": [
    "temp.add()"
   ]
  },
  {
   "cell_type": "code",
   "execution_count": 72,
   "id": "e7d0c036-c8cf-4581-85fe-4ab4be86eaa2",
   "metadata": {},
   "outputs": [
    {
     "data": {
      "text/plain": [
       "3"
      ]
     },
     "execution_count": 72,
     "metadata": {},
     "output_type": "execute_result"
    }
   ],
   "source": [
    "temp.sub()"
   ]
  },
  {
   "cell_type": "code",
   "execution_count": 74,
   "id": "e53cf9ec-806f-484a-86fb-9e6fba501494",
   "metadata": {},
   "outputs": [
    {
     "data": {
      "text/plain": [
       "10"
      ]
     },
     "execution_count": 74,
     "metadata": {},
     "output_type": "execute_result"
    }
   ],
   "source": [
    "temp.mul()"
   ]
  },
  {
   "cell_type": "code",
   "execution_count": 75,
   "id": "1918aef4-1771-41f3-8ab9-4bd7e1c6d247",
   "metadata": {},
   "outputs": [
    {
     "data": {
      "text/plain": [
       "2.5"
      ]
     },
     "execution_count": 75,
     "metadata": {},
     "output_type": "execute_result"
    }
   ],
   "source": [
    "temp.div()"
   ]
  },
  {
   "cell_type": "code",
   "execution_count": 77,
   "id": "5abd891d-d4bd-40ab-9402-07d0b22ce1f9",
   "metadata": {},
   "outputs": [],
   "source": [
    "# Scenario 3: common input and all operation should happend while i call just the class\n",
    "class BasicMath3:\n",
    "    def __init__(self,a):\n",
    "        self.a = a\n",
    "        print(self.add())\n",
    "        print(self.sub())\n",
    "        print(self.mul())\n",
    "        print(self.div())\n",
    "    def add(self):\n",
    "        return self.a + 2\n",
    "    def sub(self):\n",
    "        return self.a - 2\n",
    "    def mul(self):\n",
    "        return self.a * 2\n",
    "    def div(self): \n",
    "        return self.a / 2"
   ]
  },
  {
   "cell_type": "code",
   "execution_count": 80,
   "id": "3650bade-1cf8-4eb0-b05c-ed9f481bf49a",
   "metadata": {},
   "outputs": [
    {
     "name": "stdout",
     "output_type": "stream",
     "text": [
      "7\n",
      "3\n",
      "10\n",
      "2.5\n"
     ]
    }
   ],
   "source": [
    "temp = BasicMath3(5)"
   ]
  },
  {
   "cell_type": "code",
   "execution_count": 81,
   "id": "535420f0-7bb8-418c-a2c3-31125a78f73a",
   "metadata": {},
   "outputs": [
    {
     "data": {
      "text/plain": [
       "7"
      ]
     },
     "execution_count": 81,
     "metadata": {},
     "output_type": "execute_result"
    }
   ],
   "source": [
    "temp.mul()"
   ]
  },
  {
   "cell_type": "code",
   "execution_count": 86,
   "id": "9d76a2e3-40ad-40af-8b7c-a9f23846547b",
   "metadata": {},
   "outputs": [],
   "source": [
    "class BasicMathWrongWay:\n",
    "    def __init__(self,a):\n",
    "        self.a = a\n",
    "        return self.add()\n",
    "    def add(self):\n",
    "        return self.a + 2"
   ]
  },
  {
   "cell_type": "code",
   "execution_count": 87,
   "id": "c4953c80-8889-4ef2-a7fe-425aa8b062d8",
   "metadata": {},
   "outputs": [
    {
     "ename": "TypeError",
     "evalue": "__init__() should return None, not 'int'",
     "output_type": "error",
     "traceback": [
      "\u001b[0;31m---------------------------------------------------------------------------\u001b[0m",
      "\u001b[0;31mTypeError\u001b[0m                                 Traceback (most recent call last)",
      "Cell \u001b[0;32mIn[87], line 1\u001b[0m\n\u001b[0;32m----> 1\u001b[0m \u001b[43mBasicMathWrongWay\u001b[49m\u001b[43m(\u001b[49m\u001b[38;5;241;43m5\u001b[39;49m\u001b[43m)\u001b[49m \u001b[38;5;66;03m# understand what happens when you try something like this\u001b[39;00m\n",
      "\u001b[0;31mTypeError\u001b[0m: __init__() should return None, not 'int'"
     ]
    }
   ],
   "source": [
    "BasicMathWrongWay(5) # understand what happens when you try something like this"
   ]
  },
  {
   "cell_type": "code",
   "execution_count": null,
   "id": "0e01593a-c9f1-42d4-9d09-44924cb8567a",
   "metadata": {},
   "outputs": [],
   "source": []
  }
 ],
 "metadata": {
  "kernelspec": {
   "display_name": "Python 3 (ipykernel)",
   "language": "python",
   "name": "python3"
  },
  "language_info": {
   "codemirror_mode": {
    "name": "ipython",
    "version": 3
   },
   "file_extension": ".py",
   "mimetype": "text/x-python",
   "name": "python",
   "nbconvert_exporter": "python",
   "pygments_lexer": "ipython3",
   "version": "3.11.4"
  }
 },
 "nbformat": 4,
 "nbformat_minor": 5
}
