{
 "cells": [
  {
   "cell_type": "markdown",
   "id": "9f2b8544-5b70-4608-9756-9bd08dc90f18",
   "metadata": {},
   "source": [
    "#### Bit-wise Operators"
   ]
  },
  {
   "cell_type": "markdown",
   "id": "a831e8fd-d88f-4a7a-a85d-f2152ff65698",
   "metadata": {},
   "source": [
    "#### & (AND)"
   ]
  },
  {
   "cell_type": "code",
   "execution_count": 11,
   "id": "61ee8332-91ef-4cb5-af9a-27c773fc878d",
   "metadata": {},
   "outputs": [],
   "source": [
    "a = 5\n",
    "b = 2"
   ]
  },
  {
   "cell_type": "code",
   "execution_count": 12,
   "id": "9380c2ec-214c-45a0-9d08-05375ba55f80",
   "metadata": {},
   "outputs": [
    {
     "data": {
      "text/plain": [
       "'0b101'"
      ]
     },
     "execution_count": 12,
     "metadata": {},
     "output_type": "execute_result"
    }
   ],
   "source": [
    "bin(a) # convert decsummal to bsumnary"
   ]
  },
  {
   "cell_type": "code",
   "execution_count": 14,
   "id": "d6a995f5-c796-44d4-b82f-e83dbe528f2b",
   "metadata": {},
   "outputs": [
    {
     "data": {
      "text/plain": [
       "'0b10'"
      ]
     },
     "execution_count": 14,
     "metadata": {},
     "output_type": "execute_result"
    }
   ],
   "source": [
    "bin(b)"
   ]
  },
  {
   "cell_type": "code",
   "execution_count": 15,
   "id": "6e9e11e0-91d3-4fb9-af05-a4823964c10b",
   "metadata": {},
   "outputs": [
    {
     "data": {
      "text/plain": [
       "0"
      ]
     },
     "execution_count": 15,
     "metadata": {},
     "output_type": "execute_result"
    }
   ],
   "source": [
    "a & b"
   ]
  },
  {
   "cell_type": "markdown",
   "id": "507a2f47-eeea-4b27-9100-f9bead5be9b1",
   "metadata": {},
   "source": [
    "#### | (OR)"
   ]
  },
  {
   "cell_type": "code",
   "execution_count": 16,
   "id": "10bf3c0c-f32a-4e77-8f23-3bfa705efe7f",
   "metadata": {},
   "outputs": [
    {
     "data": {
      "text/plain": [
       "7"
      ]
     },
     "execution_count": 16,
     "metadata": {},
     "output_type": "execute_result"
    }
   ],
   "source": [
    "a | b"
   ]
  },
  {
   "cell_type": "markdown",
   "id": "a268e336-587a-49f0-870e-a92dac7da47b",
   "metadata": {},
   "source": [
    "#### ^ (XOR)"
   ]
  },
  {
   "cell_type": "code",
   "execution_count": 17,
   "id": "2df62c6e-72d8-4396-b742-fc4a6f60c0dd",
   "metadata": {},
   "outputs": [
    {
     "data": {
      "text/plain": [
       "7"
      ]
     },
     "execution_count": 17,
     "metadata": {},
     "output_type": "execute_result"
    }
   ],
   "source": [
    "a ^ b"
   ]
  },
  {
   "cell_type": "markdown",
   "id": "f3b5da42-a958-4d7a-b6b5-703ba5ff73cb",
   "metadata": {},
   "source": [
    "#### ~ (NOT)"
   ]
  },
  {
   "cell_type": "code",
   "execution_count": 18,
   "id": "ea7394be-9022-49ce-91d9-3296e9d2e7ef",
   "metadata": {},
   "outputs": [
    {
     "data": {
      "text/plain": [
       "-6"
      ]
     },
     "execution_count": 18,
     "metadata": {},
     "output_type": "execute_result"
    }
   ],
   "source": [
    "~a"
   ]
  },
  {
   "cell_type": "markdown",
   "id": "bf7405b9-85a0-40b7-b602-abc5091239ce",
   "metadata": {},
   "source": [
    "#### LOOP"
   ]
  },
  {
   "cell_type": "code",
   "execution_count": 22,
   "id": "ee9a4a1c-515d-4532-b490-3b3494613391",
   "metadata": {},
   "outputs": [
    {
     "data": {
      "text/plain": [
       "5"
      ]
     },
     "execution_count": 22,
     "metadata": {},
     "output_type": "execute_result"
    }
   ],
   "source": [
    "sum = 0\n",
    "sum = sum + 1\n",
    "sum = sum + 1\n",
    "sum = sum + 1\n",
    "sum = sum + 1\n",
    "sum = sum + 1\n",
    "sum"
   ]
  },
  {
   "cell_type": "markdown",
   "id": "08f4bfbf-b2a4-4f23-a8de-477903dac6a9",
   "metadata": {},
   "source": [
    "#### for loop"
   ]
  },
  {
   "cell_type": "code",
   "execution_count": 24,
   "id": "f33806c1-f0eb-4597-a8f9-19cdd99210a4",
   "metadata": {},
   "outputs": [
    {
     "data": {
      "text/plain": [
       "1000"
      ]
     },
     "execution_count": 24,
     "metadata": {},
     "output_type": "execute_result"
    }
   ],
   "source": [
    "sum = 0\n",
    "for i in range(1000):\n",
    "    sum += 1\n",
    "sum"
   ]
  },
  {
   "cell_type": "code",
   "execution_count": 26,
   "id": "95d2abae-3a67-4850-9eea-8750dd71e66c",
   "metadata": {},
   "outputs": [
    {
     "name": "stdout",
     "output_type": "stream",
     "text": [
      "1\n",
      "100\n",
      "0\n",
      "5\n",
      "True\n",
      "string\n"
     ]
    }
   ],
   "source": [
    "obj_to_loop = [1,100,0,5,True,'string']\n",
    "for each_value in obj_to_loop:\n",
    "    print(each_value)"
   ]
  },
  {
   "cell_type": "code",
   "execution_count": 29,
   "id": "4e5d4659-7fd5-403b-95d8-976403ef59cf",
   "metadata": {},
   "outputs": [
    {
     "name": "stdout",
     "output_type": "stream",
     "text": [
      "0\n",
      "1\n",
      "2\n",
      "3\n",
      "3\n",
      "4\n"
     ]
    }
   ],
   "source": [
    "loop_count = 0 # to understand how many time loop runs\n",
    "for i in range(5):\n",
    "    if i == 3:\n",
    "        print(i)\n",
    "    print(i)\n",
    "    loop_count += 1"
   ]
  },
  {
   "cell_type": "code",
   "execution_count": 30,
   "id": "828bc442-be9c-47b5-8eec-2b2ee04d9c7b",
   "metadata": {},
   "outputs": [
    {
     "data": {
      "text/plain": [
       "5"
      ]
     },
     "execution_count": 30,
     "metadata": {},
     "output_type": "execute_result"
    }
   ],
   "source": [
    "loop_count"
   ]
  },
  {
   "cell_type": "markdown",
   "id": "0879ec44-fb3b-4d1c-8164-4c99be482bb9",
   "metadata": {},
   "source": [
    "#### while loop"
   ]
  },
  {
   "cell_type": "code",
   "execution_count": 4,
   "id": "d099ca99-ace4-4ba2-a314-48140c121065",
   "metadata": {},
   "outputs": [
    {
     "name": "stdout",
     "output_type": "stream",
     "text": [
      "0\n",
      "1\n",
      "2\n",
      "3\n",
      "3\n",
      "4\n"
     ]
    }
   ],
   "source": [
    "flag = 0\n",
    "loop_count = 0\n",
    "i = 0 # looping var\n",
    "while i < 5: # condition to stop looping\n",
    "    print(i)\n",
    "    if i == 3 and flag == 0:\n",
    "        i -= 1\n",
    "        flag = 1    \n",
    "    i += 1 # steps\n",
    "    loop_count += 1"
   ]
  },
  {
   "cell_type": "code",
   "execution_count": 5,
   "id": "2dc234cf-6586-41b6-9d64-496217b3329e",
   "metadata": {},
   "outputs": [
    {
     "data": {
      "text/plain": [
       "5"
      ]
     },
     "execution_count": 5,
     "metadata": {},
     "output_type": "execute_result"
    }
   ],
   "source": [
    "i"
   ]
  },
  {
   "cell_type": "code",
   "execution_count": 6,
   "id": "cfff69ca-6e8d-4005-a06e-5894566114e5",
   "metadata": {},
   "outputs": [
    {
     "data": {
      "text/plain": [
       "6"
      ]
     },
     "execution_count": 6,
     "metadata": {},
     "output_type": "execute_result"
    }
   ],
   "source": [
    "loop_count"
   ]
  },
  {
   "cell_type": "code",
   "execution_count": null,
   "id": "f80e1f33-4a07-4710-99d8-6b801a57f15b",
   "metadata": {},
   "outputs": [],
   "source": []
  }
 ],
 "metadata": {
  "kernelspec": {
   "display_name": "Python 3 (ipykernel)",
   "language": "python",
   "name": "python3"
  },
  "language_info": {
   "codemirror_mode": {
    "name": "ipython",
    "version": 3
   },
   "file_extension": ".py",
   "mimetype": "text/x-python",
   "name": "python",
   "nbconvert_exporter": "python",
   "pygments_lexer": "ipython3",
   "version": "3.11.4"
  }
 },
 "nbformat": 4,
 "nbformat_minor": 5
}
