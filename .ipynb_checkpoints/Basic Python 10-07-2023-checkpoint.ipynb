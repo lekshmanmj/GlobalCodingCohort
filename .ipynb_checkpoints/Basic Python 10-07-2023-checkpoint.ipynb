{
 "cells": [
  {
   "cell_type": "code",
   "execution_count": 1,
   "id": "73c39bfb",
   "metadata": {},
   "outputs": [],
   "source": [
    "import numpy as np"
   ]
  },
  {
   "cell_type": "code",
   "execution_count": 3,
   "id": "b6dc7ee7",
   "metadata": {},
   "outputs": [],
   "source": [
    "temp_1d = np.array([1,2,3]) # 1D array"
   ]
  },
  {
   "cell_type": "code",
   "execution_count": 4,
   "id": "398738cb",
   "metadata": {},
   "outputs": [
    {
     "data": {
      "text/plain": [
       "(3,)"
      ]
     },
     "execution_count": 4,
     "metadata": {},
     "output_type": "execute_result"
    }
   ],
   "source": [
    "temp_1d.shape"
   ]
  },
  {
   "cell_type": "code",
   "execution_count": 5,
   "id": "e9395001",
   "metadata": {},
   "outputs": [
    {
     "data": {
      "text/plain": [
       "3"
      ]
     },
     "execution_count": 5,
     "metadata": {},
     "output_type": "execute_result"
    }
   ],
   "source": [
    "temp_1d.size"
   ]
  },
  {
   "cell_type": "code",
   "execution_count": 6,
   "id": "3adaac00",
   "metadata": {},
   "outputs": [],
   "source": [
    "temp_2d = np.array([[1,2],[3,4]]) # 2D Array"
   ]
  },
  {
   "cell_type": "code",
   "execution_count": 7,
   "id": "730e8bfd",
   "metadata": {},
   "outputs": [
    {
     "data": {
      "text/plain": [
       "(2, 2)"
      ]
     },
     "execution_count": 7,
     "metadata": {},
     "output_type": "execute_result"
    }
   ],
   "source": [
    "temp_2d.shape"
   ]
  },
  {
   "cell_type": "code",
   "execution_count": 9,
   "id": "1209e3b9",
   "metadata": {},
   "outputs": [
    {
     "data": {
      "text/plain": [
       "4"
      ]
     },
     "execution_count": 9,
     "metadata": {},
     "output_type": "execute_result"
    }
   ],
   "source": [
    "temp_2d.size"
   ]
  },
  {
   "cell_type": "code",
   "execution_count": 10,
   "id": "cb786f9a",
   "metadata": {},
   "outputs": [],
   "source": [
    "temp_3d = np.array([[[1,2],[3,4]],[[5,6],[7,8]]])"
   ]
  },
  {
   "cell_type": "code",
   "execution_count": 11,
   "id": "6ea18c36",
   "metadata": {},
   "outputs": [
    {
     "data": {
      "text/plain": [
       "(2, 2, 2)"
      ]
     },
     "execution_count": 11,
     "metadata": {},
     "output_type": "execute_result"
    }
   ],
   "source": [
    "temp_3d.shape"
   ]
  },
  {
   "cell_type": "code",
   "execution_count": 12,
   "id": "bc33c79f",
   "metadata": {},
   "outputs": [
    {
     "data": {
      "text/plain": [
       "8"
      ]
     },
     "execution_count": 12,
     "metadata": {},
     "output_type": "execute_result"
    }
   ],
   "source": [
    "temp_3d.size"
   ]
  },
  {
   "cell_type": "code",
   "execution_count": 13,
   "id": "81ba99bf",
   "metadata": {},
   "outputs": [
    {
     "data": {
      "text/plain": [
       "array([1, 2, 3])"
      ]
     },
     "execution_count": 13,
     "metadata": {},
     "output_type": "execute_result"
    }
   ],
   "source": [
    "temp_1d"
   ]
  },
  {
   "cell_type": "code",
   "execution_count": 14,
   "id": "ec47461b",
   "metadata": {},
   "outputs": [
    {
     "data": {
      "text/plain": [
       "array([[1, 2],\n",
       "       [3, 4]])"
      ]
     },
     "execution_count": 14,
     "metadata": {},
     "output_type": "execute_result"
    }
   ],
   "source": [
    "temp_2d"
   ]
  },
  {
   "cell_type": "code",
   "execution_count": 15,
   "id": "11aa7165",
   "metadata": {},
   "outputs": [
    {
     "data": {
      "text/plain": [
       "array([[[1, 2],\n",
       "        [3, 4]],\n",
       "\n",
       "       [[5, 6],\n",
       "        [7, 8]]])"
      ]
     },
     "execution_count": 15,
     "metadata": {},
     "output_type": "execute_result"
    }
   ],
   "source": [
    "temp_3d"
   ]
  },
  {
   "cell_type": "code",
   "execution_count": 18,
   "id": "f330fac3",
   "metadata": {},
   "outputs": [
    {
     "data": {
      "text/plain": [
       "array([0., 0., 0., 0., 0.])"
      ]
     },
     "execution_count": 18,
     "metadata": {},
     "output_type": "execute_result"
    }
   ],
   "source": [
    "np.zeros(5) # generates 1d array"
   ]
  },
  {
   "cell_type": "code",
   "execution_count": 21,
   "id": "d48841d0",
   "metadata": {},
   "outputs": [
    {
     "data": {
      "text/plain": [
       "array([[0., 0.],\n",
       "       [0., 0.],\n",
       "       [0., 0.]])"
      ]
     },
     "execution_count": 21,
     "metadata": {},
     "output_type": "execute_result"
    }
   ],
   "source": [
    "np.zeros((3,2)) # generate 2d array of 3 rows and 2 columns"
   ]
  },
  {
   "cell_type": "code",
   "execution_count": 24,
   "id": "90ea691b",
   "metadata": {},
   "outputs": [
    {
     "data": {
      "text/plain": [
       "array([[[0., 0., 0.],\n",
       "        [0., 0., 0.],\n",
       "        [0., 0., 0.],\n",
       "        [0., 0., 0.]]])"
      ]
     },
     "execution_count": 24,
     "metadata": {},
     "output_type": "execute_result"
    }
   ],
   "source": [
    "np.zeros((1,4,3)) # generates 3d array, we get one 2 row and 3 column matrix"
   ]
  },
  {
   "cell_type": "code",
   "execution_count": 25,
   "id": "0aa630c1",
   "metadata": {},
   "outputs": [
    {
     "data": {
      "text/plain": [
       "array([[[0., 0., 0.],\n",
       "        [0., 0., 0.],\n",
       "        [0., 0., 0.],\n",
       "        [0., 0., 0.]],\n",
       "\n",
       "       [[0., 0., 0.],\n",
       "        [0., 0., 0.],\n",
       "        [0., 0., 0.],\n",
       "        [0., 0., 0.]]])"
      ]
     },
     "execution_count": 25,
     "metadata": {},
     "output_type": "execute_result"
    }
   ],
   "source": [
    "np.zeros((2,4,3)) # generates 3d array, we get two 4 rows and 3 column matrix"
   ]
  },
  {
   "cell_type": "code",
   "execution_count": 26,
   "id": "a805e7ca",
   "metadata": {},
   "outputs": [
    {
     "data": {
      "text/plain": [
       "array([1, 2, 3])"
      ]
     },
     "execution_count": 26,
     "metadata": {},
     "output_type": "execute_result"
    }
   ],
   "source": [
    "temp_1d"
   ]
  },
  {
   "cell_type": "code",
   "execution_count": 29,
   "id": "ef0278d1",
   "metadata": {},
   "outputs": [
    {
     "data": {
      "text/plain": [
       "1"
      ]
     },
     "execution_count": 29,
     "metadata": {},
     "output_type": "execute_result"
    }
   ],
   "source": [
    "temp_1d[0]"
   ]
  },
  {
   "cell_type": "code",
   "execution_count": 31,
   "id": "8e186ea1",
   "metadata": {},
   "outputs": [
    {
     "data": {
      "text/plain": [
       "array([2])"
      ]
     },
     "execution_count": 31,
     "metadata": {},
     "output_type": "execute_result"
    }
   ],
   "source": [
    "temp_1d[1:-1]"
   ]
  },
  {
   "cell_type": "code",
   "execution_count": 32,
   "id": "2811f42d",
   "metadata": {},
   "outputs": [
    {
     "data": {
      "text/plain": [
       "array([[1, 2],\n",
       "       [3, 4]])"
      ]
     },
     "execution_count": 32,
     "metadata": {},
     "output_type": "execute_result"
    }
   ],
   "source": [
    "temp_2d"
   ]
  },
  {
   "cell_type": "code",
   "execution_count": 33,
   "id": "93d07fa5",
   "metadata": {},
   "outputs": [
    {
     "data": {
      "text/plain": [
       "array([1, 2])"
      ]
     },
     "execution_count": 33,
     "metadata": {},
     "output_type": "execute_result"
    }
   ],
   "source": [
    "temp_2d[0] # returns full first row"
   ]
  },
  {
   "cell_type": "code",
   "execution_count": 34,
   "id": "140acb89",
   "metadata": {},
   "outputs": [
    {
     "data": {
      "text/plain": [
       "array([3, 4])"
      ]
     },
     "execution_count": 34,
     "metadata": {},
     "output_type": "execute_result"
    }
   ],
   "source": [
    "temp_2d[1] # returns full second row"
   ]
  },
  {
   "cell_type": "code",
   "execution_count": 35,
   "id": "7549b0fd",
   "metadata": {},
   "outputs": [
    {
     "data": {
      "text/plain": [
       "1"
      ]
     },
     "execution_count": 35,
     "metadata": {},
     "output_type": "execute_result"
    }
   ],
   "source": [
    "temp_2d[0][0]"
   ]
  },
  {
   "cell_type": "code",
   "execution_count": 37,
   "id": "0a766111",
   "metadata": {},
   "outputs": [
    {
     "data": {
      "text/plain": [
       "2"
      ]
     },
     "execution_count": 37,
     "metadata": {},
     "output_type": "execute_result"
    }
   ],
   "source": [
    "temp_2d[0][1] "
   ]
  },
  {
   "cell_type": "code",
   "execution_count": 38,
   "id": "6e368a8e",
   "metadata": {},
   "outputs": [
    {
     "data": {
      "text/plain": [
       "2"
      ]
     },
     "execution_count": 38,
     "metadata": {},
     "output_type": "execute_result"
    }
   ],
   "source": [
    "temp_2d[0,1]"
   ]
  },
  {
   "cell_type": "code",
   "execution_count": 39,
   "id": "2299a3a0",
   "metadata": {},
   "outputs": [
    {
     "data": {
      "text/plain": [
       "4"
      ]
     },
     "execution_count": 39,
     "metadata": {},
     "output_type": "execute_result"
    }
   ],
   "source": [
    "temp_2d[-1,-1]"
   ]
  },
  {
   "cell_type": "code",
   "execution_count": 40,
   "id": "2187bdd0",
   "metadata": {},
   "outputs": [
    {
     "data": {
      "text/plain": [
       "array([[[1, 2],\n",
       "        [3, 4]],\n",
       "\n",
       "       [[5, 6],\n",
       "        [7, 8]]])"
      ]
     },
     "execution_count": 40,
     "metadata": {},
     "output_type": "execute_result"
    }
   ],
   "source": [
    "temp_3d"
   ]
  },
  {
   "cell_type": "code",
   "execution_count": 41,
   "id": "0e621ccb",
   "metadata": {},
   "outputs": [
    {
     "data": {
      "text/plain": [
       "5"
      ]
     },
     "execution_count": 41,
     "metadata": {},
     "output_type": "execute_result"
    }
   ],
   "source": [
    "temp_3d[1,0,0]"
   ]
  },
  {
   "cell_type": "code",
   "execution_count": 42,
   "id": "9cbb5433",
   "metadata": {},
   "outputs": [
    {
     "data": {
      "text/plain": [
       "4"
      ]
     },
     "execution_count": 42,
     "metadata": {},
     "output_type": "execute_result"
    }
   ],
   "source": [
    "temp_3d[0,-1,-1]"
   ]
  },
  {
   "cell_type": "code",
   "execution_count": 45,
   "id": "6cf52bcd",
   "metadata": {},
   "outputs": [
    {
     "data": {
      "text/plain": [
       "array([1, 3, 5, 7, 9])"
      ]
     },
     "execution_count": 45,
     "metadata": {},
     "output_type": "execute_result"
    }
   ],
   "source": [
    "start,stop,step = 1,10,2\n",
    "np.arange(start,stop,step)"
   ]
  },
  {
   "cell_type": "code",
   "execution_count": 50,
   "id": "9d50b70e",
   "metadata": {},
   "outputs": [],
   "source": [
    "two_d = np.array([np.arange(1,6),np.arange(6,11),np.arange(1,11,2),\n",
    "                 np.arange(1,14,3),np.arange(1,22,5)])"
   ]
  },
  {
   "cell_type": "code",
   "execution_count": 51,
   "id": "468e2517",
   "metadata": {},
   "outputs": [
    {
     "data": {
      "text/plain": [
       "array([[ 1,  2,  3,  4,  5],\n",
       "       [ 6,  7,  8,  9, 10],\n",
       "       [ 1,  3,  5,  7,  9],\n",
       "       [ 1,  4,  7, 10, 13],\n",
       "       [ 1,  6, 11, 16, 21]])"
      ]
     },
     "execution_count": 51,
     "metadata": {},
     "output_type": "execute_result"
    }
   ],
   "source": [
    "two_d # this is a 5 x 5 matrix"
   ]
  },
  {
   "cell_type": "code",
   "execution_count": 52,
   "id": "e99dedb8",
   "metadata": {},
   "outputs": [
    {
     "data": {
      "text/plain": [
       "array([[ 1,  2,  3,  4,  5],\n",
       "       [ 6,  7,  8,  9, 10]])"
      ]
     },
     "execution_count": 52,
     "metadata": {},
     "output_type": "execute_result"
    }
   ],
   "source": [
    "two_d[:2] # to get first 2 rows"
   ]
  },
  {
   "cell_type": "code",
   "execution_count": 53,
   "id": "72e885b9",
   "metadata": {},
   "outputs": [
    {
     "data": {
      "text/plain": [
       "array([[1, 2],\n",
       "       [6, 7]])"
      ]
     },
     "execution_count": 53,
     "metadata": {},
     "output_type": "execute_result"
    }
   ],
   "source": [
    "two_d[:2,:2] # to get only first 2 columns from first 2 rows"
   ]
  },
  {
   "cell_type": "code",
   "execution_count": null,
   "id": "2f1aa0c1",
   "metadata": {},
   "outputs": [],
   "source": [
    "# syntax of slicing in 2d array is [start_row_index:end_row_index:steps, start_col_index::]\n",
    "# for 1d -> [::]\n",
    "# for 2d -> [::,::]\n",
    "# for 3d -> [::,::,::]"
   ]
  },
  {
   "cell_type": "code",
   "execution_count": 54,
   "id": "a28c56f8",
   "metadata": {},
   "outputs": [
    {
     "data": {
      "text/plain": [
       "array([[[1, 2],\n",
       "        [3, 4]],\n",
       "\n",
       "       [[5, 6],\n",
       "        [7, 8]]])"
      ]
     },
     "execution_count": 54,
     "metadata": {},
     "output_type": "execute_result"
    }
   ],
   "source": [
    "temp_3d"
   ]
  },
  {
   "cell_type": "code",
   "execution_count": 57,
   "id": "dc5b82f3",
   "metadata": {},
   "outputs": [
    {
     "data": {
      "text/plain": [
       "array([[[5]]])"
      ]
     },
     "execution_count": 57,
     "metadata": {},
     "output_type": "execute_result"
    }
   ],
   "source": [
    "temp_3d[1:,:1,:1]"
   ]
  },
  {
   "cell_type": "code",
   "execution_count": 58,
   "id": "3178adfc",
   "metadata": {},
   "outputs": [
    {
     "data": {
      "text/plain": [
       "array([[[1]],\n",
       "\n",
       "       [[5]]])"
      ]
     },
     "execution_count": 58,
     "metadata": {},
     "output_type": "execute_result"
    }
   ],
   "source": [
    "temp_3d[:,:1,:1]"
   ]
  },
  {
   "cell_type": "code",
   "execution_count": null,
   "id": "ce69bd19",
   "metadata": {},
   "outputs": [],
   "source": [
    "# reshape array"
   ]
  },
  {
   "cell_type": "code",
   "execution_count": 59,
   "id": "c335d199",
   "metadata": {},
   "outputs": [
    {
     "data": {
      "text/plain": [
       "array([1, 2, 3])"
      ]
     },
     "execution_count": 59,
     "metadata": {},
     "output_type": "execute_result"
    }
   ],
   "source": [
    "temp_1d"
   ]
  },
  {
   "cell_type": "code",
   "execution_count": 61,
   "id": "07283e41",
   "metadata": {},
   "outputs": [
    {
     "data": {
      "text/plain": [
       "array([[1],\n",
       "       [2],\n",
       "       [3]])"
      ]
     },
     "execution_count": 61,
     "metadata": {},
     "output_type": "execute_result"
    }
   ],
   "source": [
    "temp_1d.reshape(3,1) # 1d to 2d (3 rows 1 column)"
   ]
  },
  {
   "cell_type": "code",
   "execution_count": 62,
   "id": "5b2bc77f",
   "metadata": {},
   "outputs": [
    {
     "data": {
      "text/plain": [
       "array([[1, 2],\n",
       "       [3, 4]])"
      ]
     },
     "execution_count": 62,
     "metadata": {},
     "output_type": "execute_result"
    }
   ],
   "source": [
    "temp_2d"
   ]
  },
  {
   "cell_type": "code",
   "execution_count": 65,
   "id": "0fc2e616",
   "metadata": {},
   "outputs": [
    {
     "data": {
      "text/plain": [
       "array([[1, 2, 3, 4]])"
      ]
     },
     "execution_count": 65,
     "metadata": {},
     "output_type": "execute_result"
    }
   ],
   "source": [
    "temp_2d.reshape(1,4) # 2 row 2 column ---> 1 row 4 columns"
   ]
  },
  {
   "cell_type": "code",
   "execution_count": 68,
   "id": "d6991e0f",
   "metadata": {},
   "outputs": [
    {
     "data": {
      "text/plain": [
       "array([1, 2, 3, 4, 5, 6, 7, 8])"
      ]
     },
     "execution_count": 68,
     "metadata": {},
     "output_type": "execute_result"
    }
   ],
   "source": [
    "temp_3d.flatten() # 3d to 1d"
   ]
  },
  {
   "cell_type": "code",
   "execution_count": 70,
   "id": "83fc949f",
   "metadata": {},
   "outputs": [
    {
     "data": {
      "text/plain": [
       "array([[1, 2, 3, 4],\n",
       "       [5, 6, 7, 8]])"
      ]
     },
     "execution_count": 70,
     "metadata": {},
     "output_type": "execute_result"
    }
   ],
   "source": [
    "temp_3d.reshape(2,4) # 3d to 2d"
   ]
  },
  {
   "cell_type": "code",
   "execution_count": null,
   "id": "7e207a2e",
   "metadata": {},
   "outputs": [],
   "source": []
  }
 ],
 "metadata": {
  "kernelspec": {
   "display_name": "Python 3 (ipykernel)",
   "language": "python",
   "name": "python3"
  },
  "language_info": {
   "codemirror_mode": {
    "name": "ipython",
    "version": 3
   },
   "file_extension": ".py",
   "mimetype": "text/x-python",
   "name": "python",
   "nbconvert_exporter": "python",
   "pygments_lexer": "ipython3",
   "version": "3.11.4"
  }
 },
 "nbformat": 4,
 "nbformat_minor": 5
}
