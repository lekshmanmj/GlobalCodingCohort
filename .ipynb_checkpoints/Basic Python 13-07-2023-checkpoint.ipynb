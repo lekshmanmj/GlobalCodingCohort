{
 "cells": [
  {
   "cell_type": "markdown",
   "id": "602894d7-1328-4c3d-af91-8c8989bc011a",
   "metadata": {},
   "source": [
    "#### Methods (Function)"
   ]
  },
  {
   "cell_type": "code",
   "execution_count": 1,
   "id": "9328586f-4bee-4a02-8037-613dcbeb40f1",
   "metadata": {},
   "outputs": [],
   "source": [
    "a = 1\n",
    "b = 1\n"
   ]
  },
  {
   "cell_type": "code",
   "execution_count": null,
   "id": "62c1242c-f60b-4dc7-8cfb-a8609bb5704a",
   "metadata": {},
   "outputs": [],
   "source": [
    "# some random operation\n",
    "# multiplication\n",
    "# division\n",
    "# some random operation\n",
    "# multiplication\n",
    "# division\n",
    "# some random operation"
   ]
  },
  {
   "cell_type": "code",
   "execution_count": 2,
   "id": "98563d9f-b535-4836-ae13-8b2440e48d80",
   "metadata": {},
   "outputs": [],
   "source": [
    "a = a + b\n",
    "a = a * 3\n",
    "a = a / 2\n",
    "a = a % b\n",
    "a = a * 3\n",
    "a = a / 2\n",
    "a = a - 100"
   ]
  },
  {
   "cell_type": "code",
   "execution_count": 10,
   "id": "8f31c086-f43c-48a5-aacd-a905f46a0fb5",
   "metadata": {},
   "outputs": [],
   "source": [
    "# create void method (without arguments)\n",
    "def sample1():\n",
    "    print('Hello Folks')"
   ]
  },
  {
   "cell_type": "code",
   "execution_count": 11,
   "id": "e6424ec0-67a4-45b4-884e-75aa3c79c762",
   "metadata": {},
   "outputs": [
    {
     "name": "stdout",
     "output_type": "stream",
     "text": [
      "Hello Folks\n"
     ]
    }
   ],
   "source": [
    "# call method\n",
    "sample1()"
   ]
  },
  {
   "cell_type": "code",
   "execution_count": 12,
   "id": "883256fd-fb3f-4338-b3f8-5ad02c8a156b",
   "metadata": {},
   "outputs": [
    {
     "name": "stdout",
     "output_type": "stream",
     "text": [
      "Hello Folks\n"
     ]
    }
   ],
   "source": [
    "temp = sample1()"
   ]
  },
  {
   "cell_type": "code",
   "execution_count": 14,
   "id": "0e47f900-b776-4ac2-ab2a-e1b0c9390577",
   "metadata": {},
   "outputs": [],
   "source": [
    "temp"
   ]
  },
  {
   "cell_type": "code",
   "execution_count": 15,
   "id": "84130a37-f688-4b66-a45f-f2d56c1f6c0f",
   "metadata": {},
   "outputs": [],
   "source": [
    "# create method that returns any value (without arguments)\n",
    "def sample1():\n",
    "    return 'Hello Folks !'"
   ]
  },
  {
   "cell_type": "code",
   "execution_count": 17,
   "id": "ca956971-2705-4b9d-8495-088066c3cbfd",
   "metadata": {},
   "outputs": [],
   "source": [
    "temp = sample1()"
   ]
  },
  {
   "cell_type": "code",
   "execution_count": 18,
   "id": "93b31eb4-af5d-4513-be52-8db60cc1f987",
   "metadata": {},
   "outputs": [
    {
     "data": {
      "text/plain": [
       "'Hello Folks !'"
      ]
     },
     "execution_count": 18,
     "metadata": {},
     "output_type": "execute_result"
    }
   ],
   "source": [
    "temp"
   ]
  },
  {
   "cell_type": "code",
   "execution_count": 19,
   "id": "cddc6ab6-c462-4eec-bf82-88145e5c5979",
   "metadata": {},
   "outputs": [],
   "source": [
    "# create method with argument\n",
    "def sample2(a):\n",
    "    return a + 1"
   ]
  },
  {
   "cell_type": "code",
   "execution_count": 20,
   "id": "63c0a2e8-4a63-4653-800a-03a632e8cc17",
   "metadata": {},
   "outputs": [],
   "source": [
    "temp = sample2(1)"
   ]
  },
  {
   "cell_type": "code",
   "execution_count": 21,
   "id": "fb4d1e80-2770-4739-8279-cb525a6e9fa6",
   "metadata": {},
   "outputs": [
    {
     "data": {
      "text/plain": [
       "2"
      ]
     },
     "execution_count": 21,
     "metadata": {},
     "output_type": "execute_result"
    }
   ],
   "source": [
    "temp"
   ]
  },
  {
   "cell_type": "code",
   "execution_count": 22,
   "id": "063dbaf4-969e-41d3-ba3f-c3e8d974567e",
   "metadata": {},
   "outputs": [
    {
     "data": {
      "text/plain": [
       "3"
      ]
     },
     "execution_count": 22,
     "metadata": {},
     "output_type": "execute_result"
    }
   ],
   "source": [
    "sample2(a = 2)"
   ]
  },
  {
   "cell_type": "code",
   "execution_count": 23,
   "id": "f63710bd-4676-45ac-91ca-7ffe6d6c2747",
   "metadata": {},
   "outputs": [
    {
     "ename": "TypeError",
     "evalue": "sample2() missing 1 required positional argument: 'a'",
     "output_type": "error",
     "traceback": [
      "\u001b[0;31m---------------------------------------------------------------------------\u001b[0m",
      "\u001b[0;31mTypeError\u001b[0m                                 Traceback (most recent call last)",
      "Cell \u001b[0;32mIn[23], line 1\u001b[0m\n\u001b[0;32m----> 1\u001b[0m \u001b[43msample2\u001b[49m\u001b[43m(\u001b[49m\u001b[43m)\u001b[49m\n",
      "\u001b[0;31mTypeError\u001b[0m: sample2() missing 1 required positional argument: 'a'"
     ]
    }
   ],
   "source": [
    "sample2() # understand the error"
   ]
  },
  {
   "cell_type": "code",
   "execution_count": null,
   "id": "70a3757c-ab45-4c8a-b498-c5cb636b3042",
   "metadata": {},
   "outputs": [],
   "source": []
  }
 ],
 "metadata": {
  "kernelspec": {
   "display_name": "Python 3 (ipykernel)",
   "language": "python",
   "name": "python3"
  },
  "language_info": {
   "codemirror_mode": {
    "name": "ipython",
    "version": 3
   },
   "file_extension": ".py",
   "mimetype": "text/x-python",
   "name": "python",
   "nbconvert_exporter": "python",
   "pygments_lexer": "ipython3",
   "version": "3.11.4"
  }
 },
 "nbformat": 4,
 "nbformat_minor": 5
}
