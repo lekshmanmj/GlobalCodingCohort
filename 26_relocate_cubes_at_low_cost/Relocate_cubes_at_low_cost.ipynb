{
 "cells": [
  {
   "cell_type": "raw",
   "id": "9444bba3-f310-44ad-bc64-9686ac0ef55a",
   "metadata": {},
   "source": [
    "Problem:\n",
    "Relocate all cubes to one place at low cost if cubes are located in different places\n",
    "Cost is calculated based on the rules given below\n",
    "1. No cost for relocating cube from one place to 2nd place from it\n",
    "2. Cost is 1, if relocating cube from one place to next place\n",
    "\n",
    "Constraint:\n",
    "1 <= no_of_cubes <= 10\n",
    "no_of_places is always 3 and its names are 0, 1 and 2\n",
    "\n",
    "Sample IO\n",
    "\n",
    "1. input = [0,1,2], cost = 1\n",
    "2. input = [1,1,1,2,2], cost = 2\n",
    "3. input = [0,1,1,2,2,2], cost = 2\n",
    "4. input = [0,1,1,1,2,2], cost = 3\n",
    "5. input = [0,0,0,2,2], cost = 0"
   ]
  },
  {
   "cell_type": "code",
   "execution_count": 6,
   "id": "bc98a881-67dd-4487-a1e3-d809fd6251b6",
   "metadata": {},
   "outputs": [
    {
     "name": "stdout",
     "output_type": "stream",
     "text": [
      "input [0, 1, 2] cost = 1\n",
      "input [1, 1, 1, 2, 2] cost = 2\n",
      "input [0, 1, 1, 2, 2, 2] cost = 2\n",
      "input [0, 1, 1, 1, 2, 2] cost = 3\n",
      "input [0, 0, 0, 2, 2] cost = 0\n"
     ]
    }
   ],
   "source": [
    "# solution\n",
    "inputs = [[0,1,2],[1,1,1,2,2],[0,1,1,2,2,2],[0,1,1,1,2,2],[0,0,0,2,2]]\n",
    "# inputs = [[1,1,1,2,2]]\n",
    "for input in inputs:\n",
    "    zero, one, two = 0, 0, 0\n",
    "    for each in input:\n",
    "        if each == 0: zero += 1\n",
    "        elif each == 1: one += 1\n",
    "        else: two += 1\n",
    "    emp = 0\n",
    "    if zero == 0: emp += 1\n",
    "    if one == 0: emp += 1\n",
    "    if two == 0: emp += 1\n",
    "    if emp == 2 or one == 0: print('input',input,'cost = 0')\n",
    "    elif emp == 0:\n",
    "        print('input',input,'cost =',one)\n",
    "    elif one != 0 and two != 0:\n",
    "        if one < two: print('input',input,'cost =',one)\n",
    "        else: print('input',input,'cost =',two)\n",
    "    elif zero != 0 and one != 0:\n",
    "        if zero < one: print('input',input,'cost =',zero)\n",
    "        else: print('input',input,'cost =',one)"
   ]
  },
  {
   "cell_type": "code",
   "execution_count": 14,
   "id": "1ab50444-fa7a-4432-bf35-c01447c99513",
   "metadata": {},
   "outputs": [
    {
     "name": "stdout",
     "output_type": "stream",
     "text": [
      "input  cost = 9\n"
     ]
    }
   ],
   "source": [
    "input = ''\n",
    "zero, one, two = 8, 9, 10\n",
    "for each in input:\n",
    "    if each == 0: zero += 1\n",
    "    elif each == 1: one += 1\n",
    "    else: two += 1\n",
    "emp = 0\n",
    "if zero == 0: emp += 1\n",
    "if one == 0: emp += 1\n",
    "if two == 0: emp += 1\n",
    "if emp == 2 or one == 0: print('input',input,'cost = 0')\n",
    "elif emp == 0:\n",
    "    print('input',input,'cost =',one)\n",
    "elif one != 0 and two != 0:\n",
    "    if one < two: print('input',input,'cost =',one)\n",
    "    else: print('input',input,'cost =',two)\n",
    "elif zero != 0 and one != 0:\n",
    "    if zero < one: print('input',input,'cost =',zero)\n",
    "    else: print('input',input,'cost =',one)"
   ]
  },
  {
   "cell_type": "code",
   "execution_count": null,
   "id": "de6ea69f-881f-4c6b-acd9-dd681cf57d8d",
   "metadata": {},
   "outputs": [],
   "source": []
  }
 ],
 "metadata": {
  "kernelspec": {
   "display_name": "Python 3 (ipykernel)",
   "language": "python",
   "name": "python3"
  },
  "language_info": {
   "codemirror_mode": {
    "name": "ipython",
    "version": 3
   },
   "file_extension": ".py",
   "mimetype": "text/x-python",
   "name": "python",
   "nbconvert_exporter": "python",
   "pygments_lexer": "ipython3",
   "version": "3.11.4"
  }
 },
 "nbformat": 4,
 "nbformat_minor": 5
}
