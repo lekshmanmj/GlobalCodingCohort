{
 "cells": [
  {
   "cell_type": "raw",
   "id": "77dc1d2e-ea18-4915-8443-bde53074b7f7",
   "metadata": {},
   "source": [
    "Problem:\n",
    "Print all the numbers between 0 and 99, whose sum is equal to x and digits in ascending order.\n",
    "\n",
    "Constraint:\n",
    "x is an integer\n",
    "\n",
    "Sample IO:\n",
    "1. x = 9, "
   ]
  },
  {
   "cell_type": "code",
   "execution_count": 32,
   "id": "c2e45f42-0082-4092-bae7-8d605a2c631e",
   "metadata": {},
   "outputs": [],
   "source": [
    "def sum_of_digits(inp):\n",
    "    sum = 0\n",
    "    while inp > 0:\n",
    "        last = inp % 10\n",
    "        sum += last\n",
    "        inp = inp // 10\n",
    "    return sum\n",
    "def check_ascending(inp):\n",
    "    ascending = True\n",
    "    prev = 100\n",
    "    while ascending and inp > 0:\n",
    "        last = inp % 10\n",
    "        if last < prev:\n",
    "            ascending = True\n",
    "        else: \n",
    "            ascending = False\n",
    "            break\n",
    "        inp = inp // 10\n",
    "        prev = last\n",
    "    return ascending"
   ]
  },
  {
   "cell_type": "code",
   "execution_count": null,
   "id": "207b542c-e6ce-4c40-95b1-28b8647d8c63",
   "metadata": {},
   "outputs": [],
   "source": []
  },
  {
   "cell_type": "code",
   "execution_count": 133,
   "id": "8e22e3c4-fda6-46dd-8b30-74212eea134b",
   "metadata": {},
   "outputs": [
    {
     "name": "stdout",
     "output_type": "stream",
     "text": [
      "69\n",
      "78\n"
     ]
    }
   ],
   "source": [
    "# solution\n",
    "x = 15 # input\n",
    "for i in range(10):\n",
    "    for j in range(i,10):\n",
    "        num = i * 10 + j\n",
    "        if sum_of_digits(num) == x and check_ascending(num):\n",
    "            print(num)"
   ]
  },
  {
   "cell_type": "code",
   "execution_count": null,
   "id": "aa1078cc-cbab-4228-9b77-d89a5cfa3ca1",
   "metadata": {},
   "outputs": [],
   "source": []
  }
 ],
 "metadata": {
  "kernelspec": {
   "display_name": "Python 3 (ipykernel)",
   "language": "python",
   "name": "python3"
  },
  "language_info": {
   "codemirror_mode": {
    "name": "ipython",
    "version": 3
   },
   "file_extension": ".py",
   "mimetype": "text/x-python",
   "name": "python",
   "nbconvert_exporter": "python",
   "pygments_lexer": "ipython3",
   "version": "3.11.4"
  }
 },
 "nbformat": 4,
 "nbformat_minor": 5
}
