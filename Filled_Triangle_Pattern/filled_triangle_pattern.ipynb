{
 "cells": [
  {
   "cell_type": "raw",
   "id": "ba5ceedb-2953-4ef7-aec1-a4232b1877af",
   "metadata": {},
   "source": [
    "Problem\n",
    "Print Triangle Pattern of size n, where 2 <= n < 11\n",
    "\n",
    "IO Samples\n",
    "\n",
    "Input 1:\n",
    "n = 2\n",
    "\n",
    "Output 1:\n",
    "* *\n",
    "*\n",
    "\n",
    "Input 2:\n",
    "n = 3\n",
    "\n",
    "Output 2:\n",
    "* * *\n",
    "* *\n",
    "*"
   ]
  },
  {
   "cell_type": "code",
   "execution_count": 6,
   "id": "1ac6763f-860a-44d8-8c0b-95a8fe7542e2",
   "metadata": {},
   "outputs": [
    {
     "name": "stdout",
     "output_type": "stream",
     "text": [
      "* * * * \n",
      "* * * \n",
      "* * \n",
      "* \n"
     ]
    }
   ],
   "source": [
    "# solution\n",
    "n = 4\n",
    "for i in range(n):\n",
    "    for j in range(n-i):\n",
    "        print('*',end= ' ')\n",
    "    print()"
   ]
  },
  {
   "cell_type": "raw",
   "id": "0f9a627d-ae30-4452-93c9-aa1302d625c5",
   "metadata": {},
   "source": [
    "Assignment for you\n",
    "Try to code in a different way\n",
    "Email working solution only to lekshmanmj001@gmail.com"
   ]
  },
  {
   "cell_type": "code",
   "execution_count": 7,
   "id": "065d4b3e-2276-47a2-898e-68a86c258e49",
   "metadata": {},
   "outputs": [
    {
     "name": "stdout",
     "output_type": "stream",
     "text": [
      "0 1 2 3 \n",
      "0 1 2 \n",
      "0 1 \n",
      "0 \n"
     ]
    }
   ],
   "source": [
    "n = 4\n",
    "for i in range(n):\n",
    "    for j in range(n-i):\n",
    "        print(j,end= ' ')\n",
    "    print()"
   ]
  },
  {
   "cell_type": "code",
   "execution_count": 9,
   "id": "0df74919-4bb9-48a6-a823-2d42476090c6",
   "metadata": {},
   "outputs": [
    {
     "name": "stdout",
     "output_type": "stream",
     "text": [
      "3 2 1 0 \n",
      "3 2 1 \n",
      "3 2 \n",
      "3 \n"
     ]
    }
   ],
   "source": [
    "n = 4\n",
    "for i in range(n):\n",
    "    for j in range(n-i):\n",
    "        print(n-j-1,end= ' ')\n",
    "    print()"
   ]
  },
  {
   "cell_type": "code",
   "execution_count": 10,
   "id": "e94bfe0a-ddf7-47b5-8776-9bb9fc6700d1",
   "metadata": {},
   "outputs": [
    {
     "name": "stdout",
     "output_type": "stream",
     "text": [
      "4 3 2 1 \n",
      "3 2 1 \n",
      "2 1 \n",
      "1 \n"
     ]
    }
   ],
   "source": [
    "n = 4\n",
    "for i in range(n):\n",
    "    for j in range(n-i):\n",
    "        print(n-j-i,end= ' ')\n",
    "    print()"
   ]
  },
  {
   "cell_type": "code",
   "execution_count": 11,
   "id": "f746a1ff-b6d0-45f3-ab52-0316b447cdbc",
   "metadata": {},
   "outputs": [
    {
     "name": "stdout",
     "output_type": "stream",
     "text": [
      "3 2 1 0 \n",
      "2 1 0 \n",
      "1 0 \n",
      "0 \n"
     ]
    }
   ],
   "source": [
    "n = 4\n",
    "for i in range(n):\n",
    "    for j in range(n-i):\n",
    "        print(n-j-i-1,end= ' ')\n",
    "    print()"
   ]
  },
  {
   "cell_type": "code",
   "execution_count": 24,
   "id": "2ce0a5b0-833d-4b5f-9b50-8cb40a5bcdd1",
   "metadata": {},
   "outputs": [
    {
     "name": "stdout",
     "output_type": "stream",
     "text": [
      "* * * * * * * * * * \n",
      "*               * \n",
      "*             * \n",
      "*           * \n",
      "*         * \n",
      "*       * \n",
      "*     * \n",
      "*   * \n",
      "* * \n",
      "* \n"
     ]
    }
   ],
   "source": [
    "n = 10\n",
    "for i in range(n):\n",
    "    for j in range(n-i):\n",
    "        if i in [0,n-1]: print('*',end= ' ')\n",
    "        else:\n",
    "            if j in [0,n-i-1]: print('* ',end='')\n",
    "            else: print('  ',end='')\n",
    "    print()"
   ]
  },
  {
   "cell_type": "code",
   "execution_count": 25,
   "id": "5d2fbae3-c676-43c8-8643-b5fff578c2a5",
   "metadata": {},
   "outputs": [
    {
     "name": "stdout",
     "output_type": "stream",
     "text": [
      "0 1 2 3 4 5 6 7 8 9 \n",
      "0               8 \n",
      "0             7 \n",
      "0           6 \n",
      "0         5 \n",
      "0       4 \n",
      "0     3 \n",
      "0   2 \n",
      "0 1 \n",
      "0 \n"
     ]
    }
   ],
   "source": [
    "n = 10\n",
    "for i in range(n):\n",
    "    for j in range(n-i):\n",
    "        if i in [0,n-1]: print(j,end= ' ')\n",
    "        else:\n",
    "            if j in [0,n-i-1]: print(j,end=' ')\n",
    "            else: print('  ',end='')\n",
    "    print()"
   ]
  },
  {
   "cell_type": "code",
   "execution_count": null,
   "id": "acf9dae5-196f-4b7b-a0c8-913e1d81d382",
   "metadata": {},
   "outputs": [],
   "source": []
  }
 ],
 "metadata": {
  "kernelspec": {
   "display_name": "Python 3 (ipykernel)",
   "language": "python",
   "name": "python3"
  },
  "language_info": {
   "codemirror_mode": {
    "name": "ipython",
    "version": 3
   },
   "file_extension": ".py",
   "mimetype": "text/x-python",
   "name": "python",
   "nbconvert_exporter": "python",
   "pygments_lexer": "ipython3",
   "version": "3.11.2"
  }
 },
 "nbformat": 4,
 "nbformat_minor": 5
}
