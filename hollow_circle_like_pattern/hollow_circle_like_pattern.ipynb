{
 "cells": [
  {
   "cell_type": "raw",
   "id": "73d81f24-9526-42e4-832d-86fb463a8078",
   "metadata": {},
   "source": [
    "Problem\n",
    "Print the pattern showing in the below samples\n",
    "\n",
    "Constraints:\n",
    "1) 3 <= n <= 10\n",
    "2) use only 2 loops\n",
    "\n",
    "Sample IO\n",
    "\n",
    "Input 1:\n",
    "n = 3\n",
    "\n",
    "Output 1:\n",
    "*  *  *  *  *  *\n",
    "*  *        *  *\n",
    "*              *\n",
    "*              *\n",
    "*  *        *  *\n",
    "*  *  *  *  *  *"
   ]
  },
  {
   "cell_type": "code",
   "execution_count": null,
   "id": "8f77a914-dfa4-4821-a7db-b5ac8e5c6a7c",
   "metadata": {},
   "outputs": [],
   "source": []
  },
  {
   "cell_type": "code",
   "execution_count": 54,
   "id": "2358ec80-60c7-46bd-9d4d-c2e801dba5ec",
   "metadata": {},
   "outputs": [
    {
     "name": "stdout",
     "output_type": "stream",
     "text": [
      "*  *  *  *  *  *  \n",
      "*  *        *  *  \n",
      "*              *  \n",
      "*              *  \n",
      "*  *        *  *  \n",
      "*  *  *  *  *  *  \n"
     ]
    }
   ],
   "source": [
    "# solution\n",
    "n = 3\n",
    "\n",
    "i = 0\n",
    "half = False\n",
    "row_condition = lambda i: i < n\n",
    "while row_condition(i): # row loop\n",
    "    # print(i)\n",
    "    total_stars = n * 2 - i * 2\n",
    "    empty_start = total_stars // 2\n",
    "    empty_end =  n * 2 - total_stars // 2\n",
    "    # print('missing',i * 2,'total',total_stars,'empty_start',empty_start,'empty_end',empty_end)\n",
    "    for j in range(n*2): # column loop\n",
    "        if i not in [0]: \n",
    "            if j not in range(empty_start,empty_end):\n",
    "                print('*',end='  ')\n",
    "            else: print(' ',end = '  ')\n",
    "        else: # for first and last\n",
    "            print('*',end='  ')\n",
    "    print() # create new row\n",
    "    \n",
    "    # below 2 lines are dynamic counters\n",
    "    if half == False: i += 1\n",
    "    else: i -= 1 \n",
    "\n",
    "    # below code is to reverse the row loop to print second half\n",
    "    if row_condition(i) == False and half == False:\n",
    "        # print('this')\n",
    "        half = True\n",
    "        i = n - 1\n",
    "        row_condition = lambda i: i >= 0"
   ]
  },
  {
   "cell_type": "code",
   "execution_count": null,
   "id": "514901e9-9ea0-4663-b33d-be324d0a55c0",
   "metadata": {},
   "outputs": [],
   "source": []
  },
  {
   "cell_type": "code",
   "execution_count": null,
   "id": "47fe1d22-b747-4b97-9183-dee9b794ebb5",
   "metadata": {},
   "outputs": [],
   "source": []
  }
 ],
 "metadata": {
  "kernelspec": {
   "display_name": "Python 3 (ipykernel)",
   "language": "python",
   "name": "python3"
  },
  "language_info": {
   "codemirror_mode": {
    "name": "ipython",
    "version": 3
   },
   "file_extension": ".py",
   "mimetype": "text/x-python",
   "name": "python",
   "nbconvert_exporter": "python",
   "pygments_lexer": "ipython3",
   "version": "3.11.2"
  }
 },
 "nbformat": 4,
 "nbformat_minor": 5
}
