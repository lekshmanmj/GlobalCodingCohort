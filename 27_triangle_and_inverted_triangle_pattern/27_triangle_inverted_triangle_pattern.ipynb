{
 "cells": [
  {
   "cell_type": "raw",
   "id": "76f7dfb0-682f-4cd5-b132-9a38bcc14cef",
   "metadata": {},
   "source": [
    "Problem\n",
    "Print the given pattern for size n where 3 < n <= 15\n",
    "Constraint\n",
    "1. n should be odd\n",
    "\n",
    "Sample IO\n",
    "\n",
    "Input 1\n",
    "n = 5\n",
    "\n",
    "Output 1\n",
    "*  *  *  *  *\n",
    "   *  *  *\n",
    "      *\n",
    "   *  *  *\n",
    "*  *  *  *  *"
   ]
  },
  {
   "cell_type": "code",
   "execution_count": 41,
   "id": "35924d6c-718b-42f8-b7ac-765ddc275cac",
   "metadata": {},
   "outputs": [
    {
     "name": "stdout",
     "output_type": "stream",
     "text": [
      "*  *  *  \n",
      "   *  \n",
      "*  *  *  \n"
     ]
    }
   ],
   "source": [
    "# solution\n",
    "n = 3\n",
    "for i in range(n,0,-2): \n",
    "    total_missing_in_row = n - i\n",
    "    first_half_missing_row = total_missing_in_row / 2\n",
    "    for j in range(0,int(i+first_half_missing_row)):\n",
    "        if j > first_half_missing_row - 1:\n",
    "            print('*',end = '  ')\n",
    "        else: print(' ',end = '  ')\n",
    "    print()\n",
    "for i in range(3,n+1,2): \n",
    "    total_missing_in_row = n - i\n",
    "    first_half_missing_row = total_missing_in_row / 2\n",
    "    for j in range(0,int(i+first_half_missing_row)):\n",
    "        if j > first_half_missing_row - 1:\n",
    "            print('*',end = '  ')\n",
    "        else: print(' ',end = '  ')\n",
    "    print()"
   ]
  },
  {
   "cell_type": "code",
   "execution_count": null,
   "id": "3129ca7e-f3c3-471f-94d5-625afa6c493d",
   "metadata": {},
   "outputs": [],
   "source": []
  }
 ],
 "metadata": {
  "kernelspec": {
   "display_name": "Python 3 (ipykernel)",
   "language": "python",
   "name": "python3"
  },
  "language_info": {
   "codemirror_mode": {
    "name": "ipython",
    "version": 3
   },
   "file_extension": ".py",
   "mimetype": "text/x-python",
   "name": "python",
   "nbconvert_exporter": "python",
   "pygments_lexer": "ipython3",
   "version": "3.11.4"
  }
 },
 "nbformat": 4,
 "nbformat_minor": 5
}
